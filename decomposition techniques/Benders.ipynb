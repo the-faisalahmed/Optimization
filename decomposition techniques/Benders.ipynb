{
 "cells": [
  {
   "cell_type": "markdown",
   "metadata": {},
   "source": [
    "Consider the following nonlinear programming problem below:\n",
    "\n",
    "\\begin{equation*}\n",
    "\\begin{aligned}\n",
    "\\min_{x} z = && 4x_1 && + 8x_2 && +8x_3 && + 5x_4 && + 3x_5 && + x_6 \\\\\n",
    "s.t. && 4\\frac{1}{x_1} && + 6\\frac{1}{x_2}&& + 9\\frac{1}{x_3} && && && +8\\frac{1}{x_6}&& \\leq && 106\\\\\n",
    " &&6\\frac{1}{x_1} && + 9\\frac{1}{x_2} && &&&& && + 4\\frac{1}{x_6}&& \\leq && 181\\\\\n",
    " && &&8\\frac{1}{x_2} && + 5\\frac{1}{x_3}&& && && +2\\frac{1}{x_6}&& \\leq && 190\\\\\n",
    " && && && && 2\\frac{1}{x_4}&& + 2\\frac{1}{x_5} && + 8\\frac{1}{x_6} && \\leq && 100\\\\\n",
    "  && && && && && && x_1,x_2,\\ldots,x_6 && \\leq && 100\\\\\n",
    "  && && && && && && x_1,x_2,\\ldots,x_6 && \\geq && 0.1\n",
    "\\end{aligned}\n",
    "\\end{equation*}"
   ]
  },
  {
   "cell_type": "markdown",
   "metadata": {},
   "source": [
    "**Subproblem 1**\n",
    "\n",
    "\\begin{equation*}\n",
    "\\begin{aligned}\n",
    "\\min_{x} z = && 4x_1 && + 8x_2 && +8x_3 && + 5x_4 && + 3x_5 && \\\\\n",
    "s.t. && 4\\frac{1}{x_1} && + 6\\frac{1}{x_2}&& + 9\\frac{1}{x_3} && && && +8\\frac{1}{x_6}&& \\leq && 106\\\\\n",
    " &&6\\frac{1}{x_1} && + 9\\frac{1}{x_2} && &&&& && + 4\\frac{1}{x_6}&& \\leq && 181\\\\\n",
    " && &&8\\frac{1}{x_2} && + 5\\frac{1}{x_3}&& && && +2\\frac{1}{x_6}&& \\leq && 190\\\\\n",
    "   && && && && && && x_6 && = && x^{(v)} && : && \\textcolor{red}{\\lambda_1}\\\\\n",
    "  && && && && && && x_1,x_2,x_3 && \\leq && 100\\\\\n",
    "  && && && && && && x_1,x_2,x_3 && \\geq && 0.1\n",
    "\\end{aligned}\n",
    "\\end{equation*}"
   ]
  },
  {
   "cell_type": "markdown",
   "metadata": {},
   "source": [
    "**Subproblem 2**\n",
    "\n",
    "\\begin{equation*}\n",
    "\\begin{aligned}\n",
    "\\min_{x} z = && 4x_1 && + 8x_2 && +8x_3 && + 5x_4 && + 3x_5 && \\\\\n",
    "s.t. && && && && 2\\frac{1}{x_4}&& + 2\\frac{1}{x_5} && + 8\\frac{1}{x_6} && \\leq && 100\\\\\n",
    "   && && && && && && x_6 && = && x^{(v)} && : && \\textcolor{red}{\\lambda_2}\\\\\n",
    "  && && && && && && x_4,x_5 && \\leq && 100\\\\\n",
    "  && && && && && && x_4,x_5 && \\geq && 0.1\n",
    "\\end{aligned}\n",
    "\\end{equation*}"
   ]
  },
  {
   "cell_type": "markdown",
   "metadata": {},
   "source": [
    "**Master problem**\n",
    "\n",
    "\\begin{equation*}\n",
    "\\begin{aligned}\n",
    "\\min_{x}&& z = \\alpha + x_6\\\\\n",
    "s.t && z_\\text{subproblem 1} + z_\\text{subproblem 2} - (\\lambda_1 + \\lambda_2)(x_6 - x^{(v)}) && \\leq && \\alpha \\\\\n",
    "&& x_6 && \\geq && 0.1\\\\\n",
    "&& x_6 && \\leq && 100\n",
    "\\end{aligned}\n",
    "\\end{equation*}"
   ]
  },
  {
   "cell_type": "code",
   "execution_count": 104,
   "metadata": {},
   "outputs": [],
   "source": [
    "from pyomo.environ import *\n",
    "from pyomo.opt import SolverFactory\n",
    "from pyomo.util.infeasible import log_infeasible_constraints\n",
    "import random\n",
    "import matplotlib.pyplot as plt\n",
    "import numpy as np\n",
    "import pandas as pd\n",
    "\n",
    "plt.rcParams[\"figure.figsize\"] = (10,10)"
   ]
  },
  {
   "cell_type": "code",
   "execution_count": 105,
   "metadata": {},
   "outputs": [],
   "source": [
    "random.seed(10)\n",
    "\n",
    "#number of x or y variables\n",
    "num_var = 6\n",
    "\n",
    "#number of constraints\n",
    "num_cons = 4\n",
    "\n",
    "#tolerance\n",
    "epsilon = 3\n",
    "\n",
    "e = []\n",
    "f = []\n",
    "b = []\n",
    "c = []\n",
    "d = []\n",
    "\n",
    "#creating variables to store x and y variables and x and y lambda\n",
    "x_vars_list = [[]]\n",
    "lam1 = [2]\n",
    "lam2 = [2]\n",
    "obj_val = [0]\n",
    "obj_val_x = []\n",
    "obj_val_y = []\n",
    "\n",
    "e = [[4, 6, 9, 0, 0, 8], [6, 9, 0, 0, 0, 4], [0, 8, 5, 0, 0, 2], [0, 0, 0, 2, 2, 8]]\n",
    "\n",
    "#creating random constraint coefficients and random b vector\n",
    "for i in list(range(0,num_cons)):\n",
    "    b.append(random.randrange(100,200,3))\n",
    "\n",
    "for i in list(range(0,num_var)):\n",
    "    c.append(random.randrange(1,10,1))\n",
    "\n",
    "x_value = [2]\n",
    "x_vars_list = []\n",
    "lam1 = []\n",
    "lam2 = []\n",
    "z_up1 = []\n",
    "z_up2 = []\n",
    "z_down = [-100]\n",
    "cuts = 1\n",
    "\n",
    "iteration = 0"
   ]
  },
  {
   "cell_type": "code",
   "execution_count": 106,
   "metadata": {},
   "outputs": [],
   "source": [
    "def subproblem_1(x_value):    \n",
    "    model = ConcreteModel()\n",
    "\n",
    "    model.dual = Suffix(direction = Suffix.IMPORT)\n",
    "\n",
    "    model.I = RangeSet(num_var)\n",
    "    model.J = RangeSet(num_cons-1)\n",
    "\n",
    "    model.x = Var(model.I, domain = NonNegativeReals, bounds = (0.1,100))\n",
    "\n",
    "    def obj_rule(model):\n",
    "        return sum(model.x[i]*c[i-1] for i in model.I if i not in (4,5))\n",
    "    model.obj = Objective(rule = obj_rule)\n",
    "\n",
    "    def cons_rule(model,j):\n",
    "        return sum((1/model.x[i])*e[j-1][i-1] for i in model.I if i not in (4,5)) <= b[j-1]\n",
    "\n",
    "    model.cons = Constraint(model.J, rule = cons_rule)\n",
    "    model.bind_cons = Constraint(expr = model.x[6] == x_value[iteration])\n",
    "    \n",
    "    opt = SolverFactory('ipopt', executable = 'C:/Users/Faisal Ahmed/ipopt.exe')\n",
    "\n",
    "    result_obj = opt.solve(model)\n",
    "\n",
    "    #model.pprint()\n",
    "\n",
    "    z_up1.append(value(model.obj))\n",
    "    lam1.append(value(model.dual[model.bind_cons]))\n",
    "\n",
    "    x_vars_list.append([value(model.x[i]) for i in model.I if i not in (4,5,6)])"
   ]
  },
  {
   "cell_type": "code",
   "execution_count": 107,
   "metadata": {},
   "outputs": [],
   "source": [
    "def subproblem_2(x_value):    \n",
    "    model = ConcreteModel()\n",
    "\n",
    "    model.dual = Suffix(direction = Suffix.IMPORT)\n",
    "\n",
    "    model.I = RangeSet(num_var)\n",
    "\n",
    "    model.x = Var(model.I, domain = NonNegativeReals, bounds = (0.1,100))\n",
    "\n",
    "    def obj_rule(model):\n",
    "        return sum(model.x[i]*c[i-1] for i in model.I if i not in (1,2,3))\n",
    "    model.obj = Objective(rule = obj_rule)\n",
    "\n",
    "    model.cons = Constraint(expr = 2*(1/model.x[4]) + 2*(1/model.x[5]) + 8*(1/model.x[6]) <= 100)\n",
    "    model.bind_cons = Constraint(expr = model.x[6] == x_value[iteration])\n",
    "    \n",
    "    opt = SolverFactory('ipopt', executable = 'C:/Users/Faisal Ahmed/ipopt.exe')\n",
    "\n",
    "    result_obj = opt.solve(model)\n",
    "\n",
    "    #model.pprint()\n",
    "\n",
    "    z_up2.append(value(model.obj))\n",
    "    lam2.append(value(model.dual[model.bind_cons]))\n",
    "\n",
    "    for i in model.I:\n",
    "        if i not in (1,2,3):\n",
    "            x_vars_list[-1].append(value(model.x[i]))"
   ]
  },
  {
   "cell_type": "code",
   "execution_count": 108,
   "metadata": {},
   "outputs": [],
   "source": [
    "def master_problem(cuts, x_value, z_up):\n",
    "    model = ConcreteModel()\n",
    "\n",
    "    model.I = RangeSet(num_var)\n",
    "    model.J = RangeSet(num_cons)\n",
    "    model.K = RangeSet(cuts)\n",
    "\n",
    "    model.alpha = Var(domain = Reals)\n",
    "    model.x_value = Var(domain = NonNegativeReals, bounds = (0.1, 100))\n",
    "    \n",
    "    model.obj = Objective(expr = model.alpha + model.x_value)\n",
    "\n",
    "    def cons_rule(model,k):\n",
    "        return z_up[k-1] + (lam1[k-1] + lam2[k-1])*(model.x_value - x_value[k-1]) <= model.alpha\n",
    "    \n",
    "    model.cons = Constraint(model.K ,rule = cons_rule)\n",
    "\n",
    "    opt = SolverFactory('gurobi')\n",
    "\n",
    "    result_obj = opt.solve(model)\n",
    "\n",
    "    #model.pprint()\n",
    "\n",
    "    z_down.append(value(model.alpha))\n",
    "    x_value.append(value(model.x_value))"
   ]
  },
  {
   "cell_type": "code",
   "execution_count": 109,
   "metadata": {},
   "outputs": [],
   "source": [
    "convergence = False\n",
    "while convergence == False:\n",
    "\n",
    "    subproblem_1(x_value)\n",
    "    subproblem_2(x_value)\n",
    "    \n",
    "    z_up = [z_up1[i] + z_up2[i] for i in range(len(z_up1))]\n",
    "\n",
    "    if abs((z_up[-1] - z_down[-1]))/abs(z_down[-1]) < 10e-7:\n",
    "        convergence = True\n",
    "        break\n",
    "\n",
    "    master_problem(cuts, x_value, z_up)\n",
    "\n",
    "    cuts += 1\n",
    "    iteration +=1        "
   ]
  },
  {
   "cell_type": "code",
   "execution_count": 110,
   "metadata": {},
   "outputs": [
    {
     "data": {
      "text/html": [
       "<div>\n",
       "<style scoped>\n",
       "    .dataframe tbody tr th:only-of-type {\n",
       "        vertical-align: middle;\n",
       "    }\n",
       "\n",
       "    .dataframe tbody tr th {\n",
       "        vertical-align: top;\n",
       "    }\n",
       "\n",
       "    .dataframe thead th {\n",
       "        text-align: right;\n",
       "    }\n",
       "</style>\n",
       "<table border=\"1\" class=\"dataframe\">\n",
       "  <thead>\n",
       "    <tr style=\"text-align: right;\">\n",
       "      <th></th>\n",
       "      <th>x1</th>\n",
       "      <th>x2</th>\n",
       "      <th>x3</th>\n",
       "      <th>x4</th>\n",
       "      <th>x5</th>\n",
       "      <th>x6</th>\n",
       "      <th>α</th>\n",
       "      <th>λ1</th>\n",
       "      <th>λ2</th>\n",
       "      <th>Z_up</th>\n",
       "      <th>Z_down</th>\n",
       "      <th>Diff</th>\n",
       "    </tr>\n",
       "  </thead>\n",
       "  <tbody>\n",
       "    <tr>\n",
       "      <th>0</th>\n",
       "      <td>0.190328</td>\n",
       "      <td>0.164829</td>\n",
       "      <td>0.201874</td>\n",
       "      <td>0.1</td>\n",
       "      <td>0.1</td>\n",
       "      <td>2.0</td>\n",
       "      <td>-100.000000</td>\n",
       "      <td>-0.927550</td>\n",
       "      <td>-1.000000</td>\n",
       "      <td>8.494935</td>\n",
       "      <td>-100.000000</td>\n",
       "      <td>1.084949e+00</td>\n",
       "    </tr>\n",
       "    <tr>\n",
       "      <th>1</th>\n",
       "      <td>0.183284</td>\n",
       "      <td>0.158729</td>\n",
       "      <td>0.194402</td>\n",
       "      <td>0.1</td>\n",
       "      <td>0.1</td>\n",
       "      <td>100.0</td>\n",
       "      <td>-180.404993</td>\n",
       "      <td>-1.002479</td>\n",
       "      <td>-1.002506</td>\n",
       "      <td>204.358189</td>\n",
       "      <td>-180.404993</td>\n",
       "      <td>2.132775e+00</td>\n",
       "    </tr>\n",
       "    <tr>\n",
       "      <th>2</th>\n",
       "      <td>0.183284</td>\n",
       "      <td>0.158729</td>\n",
       "      <td>0.194402</td>\n",
       "      <td>0.1</td>\n",
       "      <td>0.1</td>\n",
       "      <td>100.0</td>\n",
       "      <td>204.358189</td>\n",
       "      <td>-1.002479</td>\n",
       "      <td>-1.002506</td>\n",
       "      <td>204.358189</td>\n",
       "      <td>204.358189</td>\n",
       "      <td>1.390779e-16</td>\n",
       "    </tr>\n",
       "  </tbody>\n",
       "</table>\n",
       "</div>"
      ],
      "text/plain": [
       "         x1        x2        x3   x4   x5     x6           α        λ1  \\\n",
       "0  0.190328  0.164829  0.201874  0.1  0.1    2.0 -100.000000 -0.927550   \n",
       "1  0.183284  0.158729  0.194402  0.1  0.1  100.0 -180.404993 -1.002479   \n",
       "2  0.183284  0.158729  0.194402  0.1  0.1  100.0  204.358189 -1.002479   \n",
       "\n",
       "         λ2        Z_up      Z_down          Diff  \n",
       "0 -1.000000    8.494935 -100.000000  1.084949e+00  \n",
       "1 -1.002506  204.358189 -180.404993  2.132775e+00  \n",
       "2 -1.002506  204.358189  204.358189  1.390779e-16  "
      ]
     },
     "execution_count": 110,
     "metadata": {},
     "output_type": "execute_result"
    }
   ],
   "source": [
    "x = []\n",
    "diff = []\n",
    "for i in list(range(1,num_var+1)):\n",
    "     x.append(\"x\"+str(i)+\"\")\n",
    "\n",
    "for i in list(range(0,len(z_down))):\n",
    "     diff.append(abs(z_up[i] - z_down[i])/abs(z_down[i]))\n",
    "\n",
    "x_dat = pd.DataFrame(x_vars_list, columns=x)\n",
    "lam1_dat = pd.DataFrame(lam1, columns = ['\\u03BB1'])\n",
    "lam2_dat = pd.DataFrame(lam2, columns = ['\\u03BB2'])\n",
    "alpha_dat = pd.DataFrame(z_down, columns =['\\u03B1'])\n",
    "z_up_dat = pd.DataFrame(z_up, columns = [\"Z_up\"])\n",
    "z_down_dat = pd.DataFrame(z_down, columns =[\"Z_down\"])\n",
    "diff_dat = pd.DataFrame(diff, columns = ['Diff'])\n",
    "\n",
    "pd.concat([x_dat, alpha_dat,lam1_dat, lam2_dat,z_up_dat,z_down_dat, diff_dat], axis= 1)"
   ]
  },
  {
   "cell_type": "code",
   "execution_count": 111,
   "metadata": {},
   "outputs": [
    {
     "data": {
      "image/png": "[encoded data removed]",
      "text/plain": [
       "<Figure size 720x720 with 1 Axes>"
      ]
     },
     "metadata": {
      "needs_background": "light"
     },
     "output_type": "display_data"
    },
    {
     "data": {
      "image/png": "[encoded data removed]",
      "text/plain": [
       "<Figure size 720x720 with 1 Axes>"
      ]
     },
     "metadata": {
      "needs_background": "light"
     },
     "output_type": "display_data"
    },
    {
     "data": {
      "image/png": "[encoded data removed]",
      "text/plain": [
       "<Figure size 720x720 with 1 Axes>"
      ]
     },
     "metadata": {
      "needs_background": "light"
     },
     "output_type": "display_data"
    }
   ],
   "source": [
    "plt.plot(x_vars_list, label = x);  # ; suppress the matplotlib text\n",
    "plt.title(\"X variables\",fontsize = 16)\n",
    "for i in [iteration]:\n",
    "    for j in list(range(0,len(x_vars_list[0]))):\n",
    "        plt.text(i,x_vars_list[i][j],str(round(x_vars_list[i][j],2)))\n",
    "        plt.legend();\n",
    "plt.show()\n",
    "\n",
    "plt.plot(lam1, label = \"\\u03BB1\"); #suppress matpolotlib output\n",
    "for i in [iteration]:\n",
    "    plt.text(list(range(0,len(lam1)))[i],lam1[i],str(round(lam1[i],2)))\n",
    "\n",
    "plt.plot(lam2, label = \"\\u03BB2\"); #suppress matpolotlib output\n",
    "for i in [iteration]:\n",
    "    plt.text(list(range(0,len(lam2)))[i],lam2[i],str(round(lam2[i],2)))\n",
    "\n",
    "plt.title(\"\\u03BB\", fontsize = 20)\n",
    "plt.legend();\n",
    "plt.show()\n",
    "\n",
    "plt.plot(z_up, label = \"Z_up\"); #suppress matpolotlib output\n",
    "plt.plot(z_down, label = \"Z_down\"); #suppress matpolotlib output\n",
    "\n",
    "for i in [iteration]:\n",
    "    plt.text(list(range(0,len(z_up)))[i],z_up[i],str(round(z_up[i],2)))\n",
    "    plt.text(list(range(0,len(z_down)))[i],z_down[i],str(round(z_down[i],2)))\n",
    "plt.title(\"Convergence\", fontsize = 20)\n",
    "plt.legend();\n",
    "plt.show()"
   ]
  },
  {
   "cell_type": "code",
   "execution_count": 112,
   "metadata": {},
   "outputs": [
    {
     "data": {
      "text/plain": [
       "5.467005968773851"
      ]
     },
     "execution_count": 112,
     "metadata": {},
     "output_type": "execute_result"
    }
   ],
   "source": [
    "model = ConcreteModel()\n",
    "\n",
    "model.dual = Suffix(direction = Suffix.IMPORT)\n",
    "\n",
    "model.I = RangeSet(1,num_var)\n",
    "model.J = RangeSet(1,num_cons)\n",
    "\n",
    "model.x = Var(model.I, domain = NonNegativeReals, bounds = (0.1,100))\n",
    "\n",
    "def obj_rule(model):\n",
    "    return sum(model.x[i]*c[i-1] for i in model.I)\n",
    "model.obj = Objective(rule = obj_rule)\n",
    "\n",
    "def cons_rule(model,j):\n",
    "    return sum((1/model.x[i])*e[j-1][i-1] for i in model.I) <= b[j-1]\n",
    "\n",
    "model.cons = Constraint(model.J, rule = cons_rule)\n",
    "\n",
    "opt = SolverFactory('ipopt', executable = 'C:/Users/Faisal Ahmed/ipopt.exe')\n",
    "\n",
    "result_obj = opt.solve(model)\n",
    "\n",
    "#model.pprint()\n",
    "\n",
    "value(model.obj)"
   ]
  }
 ],
 "metadata": {
  "kernelspec": {
   "display_name": "base",
   "language": "python",
   "name": "python3"
  },
  "language_info": {
   "codemirror_mode": {
    "name": "ipython",
    "version": 3
   },
   "file_extension": ".py",
   "mimetype": "text/x-python",
   "name": "python",
   "nbconvert_exporter": "python",
   "pygments_lexer": "ipython3",
   "version": "3.9.12"
  }
 },
 "nbformat": 4,
 "nbformat_minor": 2
}
