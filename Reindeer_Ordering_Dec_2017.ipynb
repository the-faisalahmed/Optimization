{
  "nbformat": 4,
  "nbformat_minor": 0,
  "metadata": {
    "colab": {
      "provenance": [],
      "authorship_tag": "ABX9TyMkYK8YQXH6Ba5wAncQSSXi",
      "include_colab_link": true
    },
    "kernelspec": {
      "name": "python3",
      "display_name": "Python 3"
    },
    "language_info": {
      "name": "python"
    }
  },
  "cells": [
    {
      "cell_type": "markdown",
      "metadata": {
        "id": "view-in-github",
        "colab_type": "text"
      },
      "source": [
        "<a href=\"https://colab.research.google.com/github/the-faisalahmed/Optimization/blob/main/Reindeer_Ordering_Dec_2017.ipynb\" target=\"_parent\"><img src=\"https://colab.research.google.com/assets/colab-badge.svg\" alt=\"Open In Colab\"/></a>"
      ]
    },
    {
      "cell_type": "markdown",
      "source": [
        "![](https://dmcommunity.org/wp-content/uploads/2017/11/reindeer.jpg)\n",
        "\n",
        "[Here's](https://dmcommunity.org/challenge/challenge-dec-2017/) the link to the original challenge.\n",
        "\n",
        "Santa always leaves plans for his elves to determine the order in which the reindeer will pull his sleigh. This year, for the European leg of his journey, his elves are working to the following schedule, which will form a single line of nine reindeer. Here are the rules:\n",
        "\n",
        "1. Comet behind Rudolph, Prancer and Cupid\n",
        "2. Blitzen behind Cupid\n",
        "3. Blitzen in front of Donner, Vixen and Dancer\n",
        "4. Cupid in front of Comet, Blitzen and Vixen\n",
        "5. Donner behind Vixen, Dasher and Prancer\n",
        "6. Rudolph behind Prancer\n",
        "7. Rudolph in front of Donner, Dancer and Dasher\n",
        "8. Vixen in front of Dancer and Comet\n",
        "9. Dancer behind Donner, Rudolph and Blitzen\n",
        "10. Prancer in front of Cupid, Donner and Blitzen\n",
        "11. Dasher behind Prancer\n",
        "12. Dasher in front of Vixen, Dancer and Blitzen\n",
        "13. Donner behind Comet and Cupid\n",
        "14. Cupid in front of Rudolph and Dancer\n",
        "15. Vixen behind Rudolph, Prancer and Dasher."
      ],
      "metadata": {
        "id": "r_50vcZ_Qcmm"
      }
    },
    {
      "cell_type": "code",
      "execution_count": 2,
      "metadata": {
        "id": "WFQ-44R-KMlS"
      },
      "outputs": [],
      "source": [
        "%%capture\n",
        "import sys\n",
        "import os\n",
        "\n",
        "if 'google.colab' in sys.modules:\n",
        "    !pip install idaes-pse --pre\n",
        "    !idaes get-extensions --to ./bin\n",
        "    os.environ['PATH'] += ':bin'\n",
        "\n",
        "!pip install pyomo\n",
        "from pyomo.environ import *\n",
        "from pyomo.opt import SolverFactory\n",
        "from pyomo.util.infeasible import log_infeasible_constraints\n",
        "from pyomo.opt import SolverStatus\n",
        "import matplotlib.pyplot as plt\n",
        "import numpy as np\n",
        "import pandas as pd\n",
        "import itertools\n",
        "from pyomo.contrib.latex_printer import latex_printer\n"
      ]
    },
    {
      "cell_type": "code",
      "source": [
        "model = ConcreteModel()\n",
        "\n",
        "# Location\n",
        "model.I = RangeSet(1,9)\n",
        "# Reindeer\n",
        "model.J = ['Dasher', 'Dancer', 'Prancer', 'Vixen', 'Comet', 'Cupid', 'Donner', 'Blitzen', 'Rudolph']\n",
        "\n",
        "model.X = Var(model.I, model.J, within = Binary)\n",
        "\n",
        "# One area per reindeer\n",
        "def con0_rule(model,j):\n",
        "  return sum(model.X[i,j] for i in model.I) == 1\n",
        "model.con0 = Constraint(model.J, rule = con0_rule)\n",
        "\n",
        "# One reindeer per area\n",
        "def con01_rule(model,i):\n",
        "  return sum(model.X[i,j] for j in model.J) == 1\n",
        "model.con01 = Constraint(model.I, rule = con01_rule)\n",
        "\n",
        "# Comet behind Rudolph, Prancer and Cupid\n",
        "def con1_rule(model,i,j):\n",
        "  if i != 9:\n",
        "    return model.X[i,j] <= sum(model.X[x,k] for x in RangeSet(i+1,9) for k in ['Comet'])\n",
        "  else:\n",
        "    return model.X[i,j] == 0\n",
        "model.con1 = Constraint(model.I, ['Rudolph','Prancer','Cupid'], rule = con1_rule)\n",
        "\n",
        "# Blitzen behind Cupid\n",
        "\n",
        "def con2_rule(model,i,j):\n",
        "  if i != 9:\n",
        "    return model.X[i,j] <= sum(model.X[x,k] for x in RangeSet(i+1,9) for k in ['Blitzen'])\n",
        "  else:\n",
        "    return model.X[i,j] == 0\n",
        "model.con2 = Constraint(model.I, ['Cupid'], rule = con2_rule)\n",
        "\n",
        "# Blitzen in front of Donner, Vixen and Dancer\n",
        "\n",
        "def con3_rule(model,i,j):\n",
        "  if i != 1:\n",
        "    return model.X[i,j] <= sum(model.X[x,k] for x in RangeSet(1,i-1) for k in ['Blitzen'])\n",
        "  else:\n",
        "    return model.X[i,j] == 0\n",
        "model.con3 = Constraint(model.I, ['Donner', 'Vixen', 'Dancer'], rule = con3_rule)\n",
        "\n",
        "# Cupid in front of Comet, Blitzen and Vixen\n",
        "\n",
        "def con4_rule(model,i,j):\n",
        "  if i != 1:\n",
        "    return model.X[i,j] <= sum(model.X[x,k] for x in RangeSet(1,i-1) for k in ['Cupid'])\n",
        "  else:\n",
        "    return model.X[i,j] == 0\n",
        "model.con4 = Constraint(model.I, ['Comet', 'Blitzen', 'Vixen'], rule = con4_rule)\n",
        "\n",
        "# Donner behind Vixen, Dasher and Prancer\n",
        "\n",
        "def con5_rule(model,i,j):\n",
        "  if i != 9:\n",
        "    return model.X[i,j] <= sum(model.X[x,k] for x in RangeSet(i+1,9) for k in ['Donner'])\n",
        "  else:\n",
        "    return model.X[i,j] == 0\n",
        "model.con5 = Constraint(model.I, ['Vixen','Dasher','Prancer'], rule = con5_rule)\n",
        "\n",
        "# Rudolph behind Prancer\n",
        "\n",
        "def con6_rule(model,i,j):\n",
        "  if i != 9:\n",
        "    return model.X[i,j] <= sum(model.X[x,k] for x in RangeSet(i+1,9) for k in ['Rudolph'])\n",
        "  else:\n",
        "    return model.X[i,j] == 0\n",
        "model.con6 = Constraint(model.I, ['Prancer'], rule = con6_rule)\n",
        "\n",
        "# Rudolph in front of Donner, Dancer and Dasher\n",
        "\n",
        "def con7_rule(model,i,j):\n",
        "  if i != 1:\n",
        "    return model.X[i,j] <= sum(model.X[x,k] for x in RangeSet(1,i-1) for k in ['Rudolph'])\n",
        "  else:\n",
        "    return model.X[i,j] == 0\n",
        "model.con7 = Constraint(model.I, ['Donner', 'Dancer', 'Dasher'], rule = con7_rule)\n",
        "\n",
        "# Vixen in front of Dancer and Comet\n",
        "\n",
        "def con8_rule(model,i,j):\n",
        "  if i != 1:\n",
        "    return model.X[i,j] <= sum(model.X[x,k] for x in RangeSet(1,i-1) for k in ['Vixen'])\n",
        "  else:\n",
        "    return model.X[i,j] == 0\n",
        "model.con8 = Constraint(model.I, ['Dancer', 'Comet'], rule = con8_rule)\n",
        "\n",
        "# Dancer behind Donner, Rudolph and Blitzen\n",
        "\n",
        "def con9_rule(model,i,j):\n",
        "  if i != 9:\n",
        "    return model.X[i,j] <= sum(model.X[x,k] for x in RangeSet(i+1,9) for k in ['Dancer'])\n",
        "  else:\n",
        "    return model.X[i,j] == 0\n",
        "model.con9 = Constraint(model.I, ['Donner', 'Rudolph', 'Blitzen'], rule = con9_rule)\n",
        "\n",
        "# Prancer in front of Cupid, Donner and Blitzen\n",
        "\n",
        "def con10_rule(model,i,j):\n",
        "  if i != 1:\n",
        "    return model.X[i,j] <= sum(model.X[x,k] for x in RangeSet(1,i-1) for k in ['Prancer'])\n",
        "  else:\n",
        "    return model.X[i,j] == 0\n",
        "model.con10 = Constraint(model.I, ['Cupid', 'Donner', 'Blitzen'], rule = con10_rule)\n",
        "\n",
        "# Dasher behind Prancer\n",
        "\n",
        "def con11_rule(model,i,j):\n",
        "  if i != 9:\n",
        "    return model.X[i,j] <= sum(model.X[x,k] for x in RangeSet(i+1,9) for k in ['Dasher'])\n",
        "  else:\n",
        "    return model.X[i,j] == 0\n",
        "model.con11 = Constraint(model.I, ['Prancer'], rule = con11_rule)\n",
        "\n",
        "# Dasher in front of Vixen, Dancer and Blitzen\n",
        "\n",
        "def con12_rule(model,i,j):\n",
        "  if i != 1:\n",
        "    return model.X[i,j] <= sum(model.X[x,k] for x in RangeSet(1,i-1) for k in ['Dasher'])\n",
        "  else:\n",
        "    return model.X[i,j] == 0\n",
        "model.con12 = Constraint(model.I, ['Vixen', 'Dancer', 'Blitzen'], rule = con12_rule)\n",
        "\n",
        "# Donner behind Comet and Cupid\n",
        "\n",
        "def con13_rule(model,i,j):\n",
        "  if i != 9:\n",
        "    return model.X[i,j] <= sum(model.X[x,k] for x in RangeSet(i+1,9) for k in ['Donner'])\n",
        "  else:\n",
        "    return model.X[i,j] == 0\n",
        "model.con13 = Constraint(model.I, ['Comet','Cupid'], rule = con13_rule)\n",
        "\n",
        "# Cupid in front of Rudolph and Dancer\n",
        "\n",
        "def con14_rule(model,i,j):\n",
        "  if i != 1:\n",
        "    return model.X[i,j] <= sum(model.X[x,k] for x in RangeSet(1,i-1) for k in ['Cupid'])\n",
        "  else:\n",
        "    return model.X[i,j] == 0\n",
        "model.con14 = Constraint(model.I, ['Rudolph', 'Dancer'], rule = con14_rule)\n",
        "\n",
        "# Vixen behind Rudolph, Prancer and Dasher.\n",
        "\n",
        "def con15_rule(model,i,j):\n",
        "  if i != 9:\n",
        "    return model.X[i,j] <= sum(model.X[x,k] for x in RangeSet(i+1,9) for k in ['Vixen'])\n",
        "  else:\n",
        "    return model.X[i,j] == 0\n",
        "model.con15 = Constraint(model.I, ['Rudolph', 'Prancer', 'Dasher'], rule = con15_rule)"
      ],
      "metadata": {
        "id": "rbTflyO1KXFX"
      },
      "execution_count": 85,
      "outputs": []
    },
    {
      "cell_type": "code",
      "source": [
        "# Solve model\n",
        "opt = SolverFactory('cbc')\n",
        "result = opt.solve(model)\n",
        "\n",
        "if (result.solver.status == SolverStatus.ok) and \\\n",
        "    (result.solver.termination_condition == TerminationCondition.optimal):\n",
        "    # Do something when the solution in optimal and feasible\n",
        "    print('Solution is Optimal')\n",
        "elif (result.solver.termination_condition == TerminationCondition.infeasible):\n",
        "    # Do something when model in infeasible\n",
        "    print('Solution is Infeasible')\n",
        "else:\n",
        "        # Something else is wrong\n",
        "    print(\"Solver Status:\",  result.solver.status)\n",
        "\n",
        "# Solve time\n",
        "print('Solve Time: ', result.solver.wallclock_time)"
      ],
      "metadata": {
        "id": "VtYjtjSKKQwK",
        "colab": {
          "base_uri": "https://localhost:8080/"
        },
        "outputId": "2fe8c831-ffce-4b70-f5d9-8b59e39debce"
      },
      "execution_count": 86,
      "outputs": [
        {
          "output_type": "stream",
          "name": "stdout",
          "text": [
            "Solution is Optimal\n",
            "Solve Time:  0.02\n"
          ]
        }
      ]
    },
    {
      "cell_type": "code",
      "source": [
        "x = model.X.extract_values()\n",
        "sol = {}\n",
        "for i in x.keys():\n",
        "  if x[i]>0:\n",
        "    sol[i] = x[i]\n",
        "\n",
        "for i,j in sol.keys():\n",
        "  print(\"{0} {1}\".format(i,j))"
      ],
      "metadata": {
        "colab": {
          "base_uri": "https://localhost:8080/"
        },
        "id": "veIkwfvPf_cH",
        "outputId": "7db5a412-c8fd-4277-b8f4-4cd1f687270f"
      },
      "execution_count": 89,
      "outputs": [
        {
          "output_type": "stream",
          "name": "stdout",
          "text": [
            "1 Prancer\n",
            "2 Cupid\n",
            "3 Rudolph\n",
            "4 Dasher\n",
            "5 Blitzen\n",
            "6 Vixen\n",
            "7 Comet\n",
            "8 Donner\n",
            "9 Dancer\n"
          ]
        }
      ]
    }
  ]
}