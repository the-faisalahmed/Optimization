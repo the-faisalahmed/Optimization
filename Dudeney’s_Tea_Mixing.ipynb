{
  "nbformat": 4,
  "nbformat_minor": 0,
  "metadata": {
    "colab": {
      "provenance": [],
      "authorship_tag": "ABX9TyO/lYQaSm2q3Wb7nbER+Dez",
      "include_colab_link": true
    },
    "kernelspec": {
      "name": "python3",
      "display_name": "Python 3"
    },
    "language_info": {
      "name": "python"
    }
  },
  "cells": [
    {
      "cell_type": "markdown",
      "metadata": {
        "id": "view-in-github",
        "colab_type": "text"
      },
      "source": [
        "<a href=\"https://colab.research.google.com/github/the-faisalahmed/Optimization/blob/main/Dudeney%E2%80%99s_Tea_Mixing.ipynb\" target=\"_parent\"><img src=\"https://colab.research.google.com/assets/colab-badge.svg\" alt=\"Open In Colab\"/></a>"
      ]
    },
    {
      "cell_type": "code",
      "execution_count": 1,
      "metadata": {
        "id": "WFQ-44R-KMlS"
      },
      "outputs": [],
      "source": [
        "%%capture\n",
        "import sys\n",
        "import os\n",
        "\n",
        "if 'google.colab' in sys.modules:\n",
        "    !pip install idaes-pse --pre\n",
        "    !idaes get-extensions --to ./bin\n",
        "    os.environ['PATH'] += ':bin'\n",
        "\n",
        "!pip install pyomo\n",
        "from pyomo.environ import *\n",
        "from pyomo.opt import SolverFactory\n",
        "from pyomo.util.infeasible import log_infeasible_constraints\n",
        "from pyomo.opt import SolverStatus\n",
        "import matplotlib.pyplot as plt\n",
        "import numpy as np\n",
        "import pandas as pd\n",
        "import itertools\n",
        "from pyomo.contrib.latex_printer import latex_printer\n"
      ]
    },
    {
      "cell_type": "markdown",
      "source": [
        "![](data:image/jpeg;base64,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)\n",
        "\n",
        "[Link](https://matmod.ch/blog/2024/01/31/dudeneys-tea-mixing-math12/) to the original problem.\n",
        "\n",
        "Mrs. Spooner called this morning,” said the honest grocer to his assistant. “She wants twenty pounds of tea at \\$2.85 per lb. Of course, we have a good tea \\$3.0 per 1b, a slightly inferior at \\$2.7, and a cheap tea at 2.1” “What do you propose to do?” asked the innocent assistant. “Do?” exclaimed the grocer. “Why, just mix up the three teas in different proportions so that the twenty pounds will work out fairly at the lady’s price. Just don’t put in more of the best tea than necessary, as we make less profit on that, and of course you will use only our complete pound packets. Don’t do any weighing.” How was the poor fellow able to mix the three teas? Could you have shown him how to do it?"
      ],
      "metadata": {
        "id": "-bGHGbs7FFlg"
      }
    },
    {
      "cell_type": "code",
      "source": [
        "def SolveModel(model, solver):\n",
        "  # Solve model\n",
        "  opt = SolverFactory(solver)\n",
        "  result = opt.solve(model)\n",
        "\n",
        "  if (result.solver.status == SolverStatus.ok) and \\\n",
        "      (result.solver.termination_condition == TerminationCondition.optimal):\n",
        "      # Do something when the solution in optimal and feasible\n",
        "      print('Solution is Optimal')\n",
        "  elif (result.solver.termination_condition == TerminationCondition.infeasible):\n",
        "      # Do something when model in infeasible\n",
        "      print('Solution is Infeasible')\n",
        "  else:\n",
        "          # Something else is wrong\n",
        "      print(\"Solver Status:\",  result.solver.status)\n",
        "\n",
        "  # Solve time\n",
        "  print('Solve Time: ', result.solver.wallclock_time)"
      ],
      "metadata": {
        "id": "VtYjtjSKKQwK"
      },
      "execution_count": 2,
      "outputs": []
    },
    {
      "cell_type": "code",
      "source": [
        "model = ConcreteModel()\n",
        "\n",
        "model.I = ['GT','IT','CT']\n",
        "\n",
        "model.X = Var(model.I, within = NonNegativeIntegers)\n",
        "model.P = Param(model.I, initialize = {'GT': 3.0, 'IT': 2.7, 'CT': 2.1})\n",
        "\n",
        "model.con1 = Constraint(expr = sum(model.P[i]*model.X[i] for i in model.I) == 2.85*20)\n",
        "\n",
        "model.con2 = Constraint(expr = sum(model.X[i] for i in model.I) == 20)\n",
        "\n",
        "model.obj = Objective(expr = model.X['GT'])\n",
        "\n",
        "SolveModel(model, 'cbc')"
      ],
      "metadata": {
        "id": "rbTflyO1KXFX",
        "colab": {
          "base_uri": "https://localhost:8080/"
        },
        "outputId": "dfcf0e11-258d-4e2a-8c34-c7916dec798e"
      },
      "execution_count": 3,
      "outputs": [
        {
          "output_type": "stream",
          "name": "stdout",
          "text": [
            "Solution is Optimal\n",
            "Solve Time:  0.0\n"
          ]
        }
      ]
    },
    {
      "cell_type": "code",
      "source": [
        "sol = model.X.extract_values()\n",
        "sol"
      ],
      "metadata": {
        "colab": {
          "base_uri": "https://localhost:8080/"
        },
        "id": "b5-e2pesFAMX",
        "outputId": "a822ea77-c77e-4327-e166-bc620381635f"
      },
      "execution_count": 4,
      "outputs": [
        {
          "output_type": "execute_result",
          "data": {
            "text/plain": [
              "{'GT': 10.0, 'IT': 10.0, 'CT': 0.0}"
            ]
          },
          "metadata": {},
          "execution_count": 4
        }
      ]
    }
  ]
}