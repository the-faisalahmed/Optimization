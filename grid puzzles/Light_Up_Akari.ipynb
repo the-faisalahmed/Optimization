{
  "nbformat": 4,
  "nbformat_minor": 0,
  "metadata": {
    "colab": {
      "provenance": [],
      "authorship_tag": "ABX9TyM9+fZIGG3iR7GCEGwc4Tdk",
      "include_colab_link": true
    },
    "kernelspec": {
      "name": "python3",
      "display_name": "Python 3"
    },
    "language_info": {
      "name": "python"
    }
  },
  "cells": [
    {
      "cell_type": "markdown",
      "metadata": {
        "id": "view-in-github",
        "colab_type": "text"
      },
      "source": [
        "<a href=\"https://colab.research.google.com/github/the-faisalahmed/Optimization/blob/main/Light_Up_Akari.ipynb\" target=\"_parent\"><img src=\"https://colab.research.google.com/assets/colab-badge.svg\" alt=\"Open In Colab\"/></a>"
      ]
    },
    {
      "cell_type": "code",
      "execution_count": 1,
      "metadata": {
        "id": "WFQ-44R-KMlS"
      },
      "outputs": [],
      "source": [
        "%%capture\n",
        "import sys\n",
        "import os\n",
        "\n",
        "if 'google.colab' in sys.modules:\n",
        "    !pip install idaes-pse --pre\n",
        "    !idaes get-extensions --to ./bin\n",
        "    os.environ['PATH'] += ':bin'\n",
        "\n",
        "!pip install pyomo\n",
        "from pyomo.environ import *\n",
        "from pyomo.opt import SolverFactory\n",
        "from pyomo.util.infeasible import log_infeasible_constraints\n",
        "from pyomo.opt import SolverStatus\n",
        "import matplotlib.pyplot as plt\n",
        "import numpy as np\n",
        "import pandas as pd\n",
        "import itertools\n",
        "from pyomo.contrib.latex_printer import latex_printer"
      ]
    },
    {
      "cell_type": "code",
      "source": [
        "n = 7\n",
        "size = 1000\n",
        "\n",
        "blocked = {(5,1): 3,\n",
        "           (2,2): 0, (6,2): 0,\n",
        "           (1,3): 3,\n",
        "           (4,4): 0,\n",
        "           (7,5): 1,\n",
        "           (2,6): 0, (6,6): 0,\n",
        "           (3,7): 3}\n",
        "\n",
        "num = {}\n",
        "\n",
        "for i in blocked:\n",
        "  if blocked[i] > 0:\n",
        "    num[i] = blocked[i]\n",
        "\n",
        "for i,j in list(itertools.product(list(range(1,n+1)),list(range(1,n+1)))):\n",
        "  if (i,j) in blocked.keys():\n",
        "    if blocked[i,j] > 0:\n",
        "      plt.scatter(i,j,marker = 's',s=size, c='k', clip_on=False);\n",
        "      plt.text(i-.1,j-.15,blocked[i,j], fontsize = 20, color = '#FFFFFF', weight = 'semibold');\n",
        "    else:\n",
        "      plt.scatter(i,j,marker = 's',s=size, c='k', clip_on=False);\n",
        "  else:\n",
        "    plt.scatter(i,j,marker = 's',s=size, c='#FFFFFF', edgecolor = 'k', clip_on=False);\n",
        "\n",
        "plt.axis('off');\n",
        "\n",
        "#plt.savefig('pic1.png')\n"
      ],
      "metadata": {
        "id": "lsvWcOC0KW_p",
        "colab": {
          "base_uri": "https://localhost:8080/",
          "height": 406
        },
        "outputId": "13dd0b1d-0d80-4772-fb01-3aa88563520b"
      },
      "execution_count": 123,
      "outputs": [
        {
          "output_type": "display_data",
          "data": {
            "text/plain": [
              "<Figure size 640x480 with 1 Axes>"
            ],
            "image/png": "[encoded data removed]"
          },
          "metadata": {}
        }
      ]
    },
    {
      "cell_type": "code",
      "source": [
        "blocked"
      ],
      "metadata": {
        "colab": {
          "base_uri": "https://localhost:8080/"
        },
        "id": "xyoZSnLnXCN7",
        "outputId": "42168da1-f666-4add-efc7-6cc80906ac58"
      },
      "execution_count": 42,
      "outputs": [
        {
          "output_type": "execute_result",
          "data": {
            "text/plain": [
              "{(5, 1): 3,\n",
              " (2, 2): 0,\n",
              " (6, 2): 0,\n",
              " (1, 3): 3,\n",
              " (4, 4): 0,\n",
              " (7, 5): 1,\n",
              " (2, 6): 0,\n",
              " (6, 6): 0,\n",
              " (3, 7): 3}"
            ]
          },
          "metadata": {},
          "execution_count": 42
        }
      ]
    },
    {
      "cell_type": "code",
      "source": [
        "model = ConcreteModel()\n",
        "\n",
        "model.I = RangeSet(1,n)\n",
        "model.x = Var(model.I, model.I, within = Binary)\n",
        "model.param = Param(model.I, model.I, initialize = num)\n",
        "\n",
        "for (i,j) in blocked:\n",
        "  model.x[i,j].fix(0)\n",
        "\n",
        "# Rows must sum to one\n",
        "model.cons1 = ConstraintList()\n",
        "for j in model.I:\n",
        "  area = []\n",
        "  for i in model.I:\n",
        "    if (i,j) not in blocked:\n",
        "      area.append((i,j))\n",
        "    elif (i,j) in blocked and len(area) > 0:\n",
        "      model.cons1.add(sum(model.x[v] for v in area) <= 1)\n",
        "      area = []\n",
        "    elif (i,j) in blocked and len(area) < 0:\n",
        "      area = []\n",
        "\n",
        "    if i == len(model.I) and len(area) > 0:\n",
        "      model.cons1.add(sum(model.x[v] for v in area) <= 1)\n",
        "      area = []\n",
        "\n",
        "# Columns must sum to one\n",
        "model.cons2 = ConstraintList()\n",
        "for i in model.I:\n",
        "  area = []\n",
        "  for j in model.I:\n",
        "    if (i,j) not in blocked:\n",
        "      area.append((i,j))\n",
        "    elif (i,j) in blocked and len(area) > 0:\n",
        "      model.cons2.add(sum(model.x[v] for v in area) <= 1)\n",
        "      area = []\n",
        "    elif (i,j) in blocked and len(area) < 0:\n",
        "      area = []\n",
        "\n",
        "    if j == len(model.I) and len(area) > 0:\n",
        "      model.cons2.add(sum(model.x[v] for v in area) <= 1)\n",
        "      area = []\n",
        "\n",
        "# Sum parameters for blocked areas\n",
        "model.cons3 = ConstraintList()\n",
        "\n",
        "for (i,j) in list(model.param.keys()):\n",
        "  v = []\n",
        "  for (w,x) in [(1,0),(0,1),(-1,0),(0,-1)]:\n",
        "    if (i+w,j+x) in list(model.x.keys()):\n",
        "      v.append((i+w,j+x))\n",
        "  model.cons3.add(model.param[i,j] == sum(model.x[k] for k in v))\n",
        "\n",
        "\n",
        "model.obj = Objective(expr = sum(model.x[i,j] for i in model.I for j in model.I),sense = maximize)\n"
      ],
      "metadata": {
        "id": "HEdk9tNpKXCa"
      },
      "execution_count": 118,
      "outputs": []
    },
    {
      "cell_type": "code",
      "source": [
        "#Optimization problem in latex form\n",
        "\n",
        "#latex_printer(model)"
      ],
      "metadata": {
        "id": "3Kgk3HPjKXNl"
      },
      "execution_count": null,
      "outputs": []
    },
    {
      "cell_type": "code",
      "source": [
        "# Solve model\n",
        "opt = SolverFactory('cbc')\n",
        "result = opt.solve(model)\n",
        "\n",
        "if (result.solver.status == SolverStatus.ok) and \\\n",
        "    (result.solver.termination_condition == TerminationCondition.optimal):\n",
        "    # Do something when the solution in optimal and feasible\n",
        "    print('Solution is Optimal')\n",
        "elif (result.solver.termination_condition == TerminationCondition.infeasible):\n",
        "    # Do something when model in infeasible\n",
        "    print('Solution is Infeasible')\n",
        "else:\n",
        "        # Something else is wrong\n",
        "    print(\"Solver Status:\",  result.solver.status)\n",
        "\n",
        "# Solve time\n",
        "print('Solve Time: ', result.solver.wallclock_time)"
      ],
      "metadata": {
        "id": "VtYjtjSKKQwK",
        "colab": {
          "base_uri": "https://localhost:8080/"
        },
        "outputId": "b2649114-fd32-4d98-a2f3-9138c76da6de"
      },
      "execution_count": 119,
      "outputs": [
        {
          "output_type": "stream",
          "name": "stdout",
          "text": [
            "Solution is Optimal\n",
            "Solve Time:  0.0\n"
          ]
        }
      ]
    },
    {
      "cell_type": "code",
      "source": [
        "sol = model.x.extract_values()"
      ],
      "metadata": {
        "id": "uuStyXQ8gObB"
      },
      "execution_count": 120,
      "outputs": []
    },
    {
      "cell_type": "code",
      "source": [
        "for i,j in list(itertools.product(list(range(1,n+1)),list(range(1,n+1)))):\n",
        "  if (i,j) in blocked.keys():\n",
        "    if blocked[i,j] > 0:\n",
        "      plt.scatter(i,j,marker = 's',s=size, c='k', clip_on=False);\n",
        "      plt.text(i-.1,j-.15,blocked[i,j], fontsize = 20, color = '#FFFFFF', weight = 'semibold');\n",
        "    else:\n",
        "      plt.scatter(i,j,marker = 's',s=size, c='k', clip_on=False);\n",
        "  elif sol[i,j] > 0:\n",
        "    plt.scatter(i,j,marker = 's',s=size, c='w', edgecolor = 'k', clip_on=False)\n",
        "    plt.scatter(i,j, marker = \"P\", s = 200, color = 'y', edgecolor = 'k')\n",
        "  else:\n",
        "    plt.scatter(i,j,marker = 's',s=size, c='w', edgecolor = 'k', clip_on=False);\n",
        "\n",
        "plt.axis('off');\n",
        "#plt.savefig('pic2.png')\n"
      ],
      "metadata": {
        "colab": {
          "base_uri": "https://localhost:8080/",
          "height": 406
        },
        "id": "d3X8MzH4gdKO",
        "outputId": "d3c2b4e1-caaa-4b66-a418-f1df7e339e20"
      },
      "execution_count": 124,
      "outputs": [
        {
          "output_type": "display_data",
          "data": {
            "text/plain": [
              "<Figure size 640x480 with 1 Axes>"
            ],
            "image/png": "[encoded data removed]"
          },
          "metadata": {}
        }
      ]
    }
  ]
}