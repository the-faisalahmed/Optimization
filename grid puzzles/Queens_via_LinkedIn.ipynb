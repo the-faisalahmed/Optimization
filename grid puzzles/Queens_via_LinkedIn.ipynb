{
 "cells": [
  {
   "cell_type": "markdown",
   "metadata": {
    "colab_type": "text",
    "id": "view-in-github"
   },
   "source": [
    "<a href=\"https://colab.research.google.com/github/the-faisalahmed/Optimization/blob/main/Queens_via_LinkedIn.ipynb\" target=\"_parent\"><img src=\"https://colab.research.google.com/assets/colab-badge.svg\" alt=\"Open In Colab\"/></a>"
   ]
  },
  {
   "cell_type": "markdown",
   "metadata": {
    "id": "XgsvW82_vjdY"
   },
   "source": [
    "![](https://media.istockphoto.com/id/1319503912/vector/golden-crown-icons-set-isolated.jpg?s=612x612&w=0&k=20&c=Uv7qsljZdTWakAZUps0WW7XiriDzbeUpHeDajrYiGTY=)\n",
    "\n",
    "**Queens via LinkedIn**\n",
    "\n",
    "The goal is to have exactly one queen in each row, column, and color region.\n",
    "\n",
    "Two queens cannot touch each other, not even diagonally."
   ]
  },
  {
   "cell_type": "code",
   "execution_count": 38,
   "metadata": {
    "id": "WFQ-44R-KMlS"
   },
   "outputs": [],
   "source": [
    "# %%capture\n",
    "# import sys\n",
    "# import os\n",
    "\n",
    "# if 'google.colab' in sys.modules:\n",
    "#     !pip install idaes-pse --pre\n",
    "#     !idaes get-extensions --to ./bin\n",
    "#     os.environ['PATH'] += ':bin'\n",
    "\n",
    "# !pip install pyomo\n",
    "from pyomo.environ import *\n",
    "from pyomo.opt import SolverFactory\n",
    "from pyomo.util.infeasible import log_infeasible_constraints\n",
    "from pyomo.opt import SolverStatus\n",
    "import matplotlib.pyplot as plt\n",
    "import numpy as np\n",
    "import pandas as pd\n",
    "import itertools\n",
    "from pyomo.contrib.latex_printer import latex_printer\n"
   ]
  },
  {
   "cell_type": "code",
   "execution_count": 39,
   "metadata": {
    "id": "rbTflyO1KXFX"
   },
   "outputs": [],
   "source": [
    "n = 9\n",
    "\n",
    "#####    Creating the groups in the grid   ######\n",
    "\n",
    "# Purple\n",
    "groups = {1: []}\n",
    "\n",
    "for i in range(1,5):\n",
    "  groups[1].append((i,1))\n",
    "\n",
    "for i in range(2,10):\n",
    "  groups[1].append((1,i))\n",
    "\n",
    "for i in range(2,10):\n",
    "  groups[1].append((i,9))\n",
    "\n",
    "for i in range(4,9):\n",
    "  groups[1].append((9,i))\n",
    "\n",
    "# Yellow\n",
    "groups[2] = [(5,1),(6,1),(7,1)]\n",
    "\n",
    "# Light Blue\n",
    "groups[3] = [(8,1),(9,1),(9,2),(9,3)]\n",
    "\n",
    "# Orange\n",
    "groups[4] = [(2,2),(2,3),(3,2),(4,2),(5,2),(6,2)]\n",
    "\n",
    "# Coral Pink\n",
    "groups[5] = []\n",
    "for i in range(4,9):\n",
    "  groups[5].append((2,i))\n",
    "\n",
    "for i in range(2,8):\n",
    "  groups[5].append((i,8))\n",
    "\n",
    "for i in range(2,9):\n",
    "  groups[5].append((8,i))\n",
    "\n",
    "groups[5].append((7,2))\n",
    "\n",
    "# Peach\n",
    "\n",
    "groups[6] = []\n",
    "\n",
    "for i in range(3,8):\n",
    "  groups[6].append((i,3))\n",
    "\n",
    "groups[6].append((3,4))\n",
    "groups[6].append((7,4))\n",
    "\n",
    "# Blue\n",
    "\n",
    "groups[7] = []\n",
    "\n",
    "for i in range(5,8):\n",
    "  groups[7].append((3,i))\n",
    "\n",
    "groups[7].append((4,7))\n",
    "groups[7].append((5,7))\n",
    "\n",
    "# Green\n",
    "\n",
    "groups[8] = []\n",
    "\n",
    "for i in range(5,8):\n",
    "  groups[8].append((7,i))\n",
    "\n",
    "groups[8].append((6,7))\n",
    "\n",
    "# Grey\n",
    "\n",
    "groups[9] = []\n",
    "\n",
    "for i in range(4,7):\n",
    "  for j in range(4,7):\n",
    "    groups[9].append((i,j))"
   ]
  },
  {
   "cell_type": "code",
   "execution_count": 40,
   "metadata": {
    "colab": {
     "base_uri": "https://localhost:8080/",
     "height": 406
    },
    "id": "v8o9ZVwSjC7H",
    "outputId": "b82be36a-7dd1-4f65-afd3-81d31e5c5059"
   },
   "outputs": [
    {
     "data": {
      "image/png": "[encoded data removed]",
      "text/plain": [
       "<Figure size 640x480 with 1 Axes>"
      ]
     },
     "metadata": {},
     "output_type": "display_data"
    }
   ],
   "source": [
    "colors = {1: 'violet', 2: 'yellow', 3: 'powderblue', 4: 'darkorange',\n",
    "          5: 'palevioletred', 6: 'lightsalmon', 7: 'cornflowerblue', 8: 'green', 9: 'gray'}\n",
    "\n",
    "plt.axis('off')\n",
    "plt.xlim(-1,n+1)\n",
    "\n",
    "count = 1\n",
    "for i in list(groups.values()):\n",
    "  for j in i:\n",
    "    plt.scatter(j[0], j[1], marker = 's', c = colors[count], s = 630, edgecolor = 'k')\n",
    "  count+=1\n",
    "\n",
    "#plt.savefig('Initial')"
   ]
  },
  {
   "cell_type": "code",
   "execution_count": 41,
   "metadata": {
    "id": "jnzhOuttmRIS"
   },
   "outputs": [],
   "source": [
    "model = ConcreteModel()\n",
    "\n",
    "model.I = RangeSet(1,n)\n",
    "\n",
    "model.X = Var(model.I, model.I, within = Binary)\n",
    "\n",
    "# Every group should have exactly one queen\n",
    "model.con1 = ConstraintList()\n",
    "for i in list(groups.values()):\n",
    "  model.con1.add(sum(model.X[j,k] for j in model.I for k in model.I if (j,k) in i) == 1)\n",
    "\n",
    "# No queens on the same row\n",
    "def con2_rule(model, i):\n",
    "  return sum(model.X[i,j] for j in model.I) == 1\n",
    "model.con2 = Constraint(model.I, rule = con2_rule)\n",
    "\n",
    "# No queens on the same column\n",
    "def con3_rule(model, j):\n",
    "  return sum(model.X[i,j] for i in model.I) == 1\n",
    "model.con3 = Constraint(model.I, rule = con3_rule)\n",
    "\n",
    "# Queens shouldn't touch diagonally\n",
    "def con4_rule(model, i, j):\n",
    "  if 1 < i < n and 1 < j < n:\n",
    "    return  model.X[i+1,j-1] + model.X[i+1,j+1] + model.X[i-1,j+1] + model.X[i-1,j-1] <= 2*(1-model.X[i,j])\n",
    "  else:\n",
    "    return Constraint.Skip\n",
    "model.con4 = Constraint(model.I, model.I, rule = con4_rule)"
   ]
  },
  {
   "cell_type": "code",
   "execution_count": 42,
   "metadata": {
    "colab": {
     "base_uri": "https://localhost:8080/"
    },
    "id": "VtYjtjSKKQwK",
    "outputId": "90658161-d28d-4c08-e247-74983f4b6971"
   },
   "outputs": [
    {
     "name": "stdout",
     "output_type": "stream",
     "text": [
      "Solution is Optimal\n",
      "Solve Time:  <undefined>\n"
     ]
    }
   ],
   "source": [
    "# Solve model\n",
    "opt = SolverFactory('glpk')\n",
    "result = opt.solve(model)\n",
    "\n",
    "if (result.solver.status == SolverStatus.ok) and \\\n",
    "    (result.solver.termination_condition == TerminationCondition.optimal):\n",
    "    # Do something when the solution in optimal and feasible\n",
    "    print('Solution is Optimal')\n",
    "elif (result.solver.termination_condition == TerminationCondition.infeasible):\n",
    "    # Do something when model in infeasible\n",
    "    print('Solution is Infeasible')\n",
    "else:\n",
    "        # Something else is wrong\n",
    "    print(\"Solver Status:\",  result.solver.status)\n",
    "\n",
    "# Solve time\n",
    "print('Solve Time: ', result.solver.wallclock_time)"
   ]
  },
  {
   "cell_type": "code",
   "execution_count": 43,
   "metadata": {
    "colab": {
     "base_uri": "https://localhost:8080/",
     "height": 409
    },
    "id": "G_IbOYANo8Bu",
    "outputId": "73bd7613-2073-4c3c-cf75-f4a868c18fdb"
   },
   "outputs": [
    {
     "data": {
      "image/png": "[encoded data removed]",
      "text/plain": [
       "<Figure size 640x480 with 1 Axes>"
      ]
     },
     "metadata": {},
     "output_type": "display_data"
    }
   ],
   "source": [
    "x = model.X.extract_values()\n",
    "\n",
    "plt.xlim(-1,n+1)\n",
    "plt.axis('off')\n",
    "count = 1\n",
    "for i in list(groups.values()):\n",
    "  for j in i:\n",
    "    if x[j] == 1.0:\n",
    "      plt.scatter(j[0], j[1], marker = 's', c = colors[count], s = 630, edgecolor = 'k')\n",
    "      plt.text(j[0]-.35, j[1]-.3, s = '\\u2655', fontsize = 25, c = 'k', fontweight = 'heavy', zorder = 10)\n",
    "    else:\n",
    "      plt.scatter(j[0], j[1], marker = 's', c = colors[count], s = 630, edgecolor = 'k')\n",
    "  count+=1\n",
    "\n",
    "#plt.savefig('Complete')"
   ]
  }
 ],
 "metadata": {
  "colab": {
   "authorship_tag": "ABX9TyPusBmJJk/nhQS5fUMFOiw0",
   "include_colab_link": true,
   "provenance": []
  },
  "kernelspec": {
   "display_name": "Python 3",
   "name": "python3"
  },
  "language_info": {
   "codemirror_mode": {
    "name": "ipython",
    "version": 3
   },
   "file_extension": ".py",
   "mimetype": "text/x-python",
   "name": "python",
   "nbconvert_exporter": "python",
   "pygments_lexer": "ipython3",
   "version": "3.11.9"
  }
 },
 "nbformat": 4,
 "nbformat_minor": 0
}
