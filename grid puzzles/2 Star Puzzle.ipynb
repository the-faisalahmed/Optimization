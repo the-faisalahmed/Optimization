{
 "cells": [
  {
   "cell_type": "markdown",
   "metadata": {},
   "source": [
    "# 2 Star Puzzle\n",
    "\n",
    "**2 Star Puzzle** is a type of puzzle game where the goal is to place stars in a grid such that:\n",
    "1. Each group in the grid has exactly 2 stars.\n",
    "2. No two stars touch each other horizontally, vertically, or diagonally.\n",
    "\n",
    "This game can also be played with fewer stars and sometimes more than 2 stars."
   ]
  },
  {
   "cell_type": "code",
   "execution_count": 2,
   "metadata": {},
   "outputs": [],
   "source": [
    "from ortools.sat.python import cp_model"
   ]
  },
  {
   "cell_type": "code",
   "execution_count": 47,
   "metadata": {},
   "outputs": [
    {
     "data": {
      "image/png": "[encoded data removed]",
      "text/plain": [
       "<Figure size 324x324 with 1 Axes>"
      ]
     },
     "metadata": {
      "needs_background": "light"
     },
     "output_type": "display_data"
    }
   ],
   "source": [
    "import matplotlib.pyplot as plt\n",
    "import numpy as np\n",
    "\n",
    "rows = cols = 9\n",
    "\n",
    "stars = 2\n",
    "\n",
    "groups = {0: [(0,0), (0,1), (0,2), (1,0), (1,1), (1,2), (2,0), (2,2), (2,3)],\n",
    "          1: [(0,3),(0,4),(0,5),(0,6),(1,3),(1,4),(1,5),(2,4),(2,5)],\n",
    "          2: [(0,7),(0,8),(1,6),(1,7),(1,8),(2,6),(2,7),(2,8),(3,6)],\n",
    "          3: [(2,1),(3,0),(3,1),(3,2),(4,0),(4,1),(4,2),(5,0),(5,1)],\n",
    "          4: [(3,3),(3,4),(3,5),(4,3),(4,4),(5,3),(5,4),(5,5),(6,3)],\n",
    "          5: [(3,7),(3,8),(4,5),(4,6),(4,7),(4,8),(5,6),(5,7),(5,8)],\n",
    "          6: [(5,2),(6,0),(6,1),(6,2),(7,0),(7,1),(8,0),(8,1),(8,2)],\n",
    "          7: [(6,4),(6,5),(7,2),(7,3),(7,4),(7,5),(8,3),(8,4),(8,5)],\n",
    "          8: [(6,6),(6,7),(6,8),(7,6),(7,7),(7,8),(8,6),(8,7),(8,8)]\n",
    "          }\n",
    "\n",
    "colors = {\n",
    "0: 'blue',\n",
    "1: 'limegreen',\n",
    "2: 'red',\n",
    "3: 'purple',\n",
    "4: 'yellow',\n",
    "5: 'orange', \n",
    "6: 'cyan', \n",
    "7: 'brown', \n",
    "8: 'magenta'\n",
    "}\n",
    "\n",
    "plt.figure(figsize=(4.5,4.5))\n",
    "\n",
    "# Plotting grid\n",
    "for i in range(rows):\n",
    "    for j in range(cols):\n",
    "        for k in groups:\n",
    "            if (i,j) in groups[k]:\n",
    "                plt.scatter(j,cols-i-1, marker = 's', color = colors[k], s = 600, edgecolors='k',  linewidth = 1.5)\n",
    "\n",
    "plt.axis('off');"
   ]
  },
  {
   "cell_type": "code",
   "execution_count": 10,
   "metadata": {},
   "outputs": [
    {
     "name": "stdout",
     "output_type": "stream",
     "text": [
      "Status = OPTIMAL\n"
     ]
    }
   ],
   "source": [
    "# Creates the model and set solver\n",
    "model = cp_model.CpModel()\n",
    "solver = cp_model.CpSolver()\n",
    "\n",
    "x = {(i,j): model.NewBoolVar(f\"x_{i}_{j}\") for i in range(rows) for j in range(cols)}\n",
    "\n",
    "# Each group is assinged 2 stars\n",
    "for i in groups:\n",
    "    model.Add(sum(x[a,b] for (a,b) in groups[i]) == stars)\n",
    "\n",
    "# Each star cannot be next to a star horizontally, vertically, or diagonally\n",
    "perimeter = [(0,1),(0,-1),(-1,0),(-1,1),(-1,-1),(1,0),(1,-1),(1,1)]\n",
    "for i,j in x.keys():\n",
    "    model.Add(sum(x[i+a,j+b] for (a,b) in perimeter if (i+a,j+b) in x.keys()) == 0).OnlyEnforceIf(x[i,j])\n",
    "\n",
    "status = solver.Solve(model)\n",
    "\n",
    "print(f\"Status = {solver.StatusName(status)}\")"
   ]
  },
  {
   "cell_type": "code",
   "execution_count": 48,
   "metadata": {},
   "outputs": [
    {
     "data": {
      "image/png": "[encoded data removed]",
      "text/plain": [
       "<Figure size 324x324 with 1 Axes>"
      ]
     },
     "metadata": {
      "needs_background": "light"
     },
     "output_type": "display_data"
    }
   ],
   "source": [
    "sol = [solver.value(x[i,j]) for i,j in x.keys()]\n",
    "sol = np.reshape(sol,(rows,cols))\n",
    "\n",
    "plt.figure(figsize=(4.5,4.5))\n",
    "\n",
    "# Plotting solution\n",
    "for i in range(rows):\n",
    "    for j in range(cols):\n",
    "        for k in groups:\n",
    "            if (i,j) in groups[k]:\n",
    "                plt.scatter(j,cols-i-1, marker = 's', color = colors[k], s = 600, edgecolors='k',  linewidth = 1.5)\n",
    "                if sol[i,j] == 1:\n",
    "                    plt.scatter(j,cols-i-1, marker = '*', color = 'w', s = 400, edgecolors='k', linewidth = 1.5)\n",
    "                else:\n",
    "                    plt.scatter(j,cols-i-1, marker = '.', color = 'k', s = 100, edgecolors='k')\n",
    "\n",
    "plt.axis('off');"
   ]
  }
 ],
 "metadata": {
  "kernelspec": {
   "display_name": "base",
   "language": "python",
   "name": "python3"
  },
  "language_info": {
   "codemirror_mode": {
    "name": "ipython",
    "version": 3
   },
   "file_extension": ".py",
   "mimetype": "text/x-python",
   "name": "python",
   "nbconvert_exporter": "python",
   "pygments_lexer": "ipython3",
   "version": "3.9.12"
  }
 },
 "nbformat": 4,
 "nbformat_minor": 2
}
