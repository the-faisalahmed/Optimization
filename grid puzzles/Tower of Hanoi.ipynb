{
 "cells": [
  {
   "cell_type": "code",
   "execution_count": 1,
   "metadata": {},
   "outputs": [],
   "source": [
    "from ortools.sat.python import cp_model\n",
    "import numpy as np\n",
    "import matplotlib.pyplot as plt\n",
    "import itertools"
   ]
  },
  {
   "cell_type": "code",
   "execution_count": 2,
   "metadata": {},
   "outputs": [
    {
     "name": "stdout",
     "output_type": "stream",
     "text": [
      "Status = OPTIMAL\n"
     ]
    },
    {
     "data": {
      "image/png": "[encoded data removed]",
      "text/plain": [
       "<Figure size 432x288 with 1 Axes>"
      ]
     },
     "metadata": {
      "needs_background": "light"
     },
     "output_type": "display_data"
    },
    {
     "data": {
      "image/png": "[encoded data removed]",
      "text/plain": [
       "<Figure size 432x288 with 1 Axes>"
      ]
     },
     "metadata": {
      "needs_background": "light"
     },
     "output_type": "display_data"
    },
    {
     "data": {
      "image/png": "[encoded data removed]",
      "text/plain": [
       "<Figure size 432x288 with 1 Axes>"
      ]
     },
     "metadata": {
      "needs_background": "light"
     },
     "output_type": "display_data"
    },
    {
     "data": {
      "image/png": "[encoded data removed]",
      "text/plain": [
       "<Figure size 432x288 with 1 Axes>"
      ]
     },
     "metadata": {
      "needs_background": "light"
     },
     "output_type": "display_data"
    },
    {
     "data": {
      "image/png": "[encoded data removed]",
      "text/plain": [
       "<Figure size 432x288 with 1 Axes>"
      ]
     },
     "metadata": {
      "needs_background": "light"
     },
     "output_type": "display_data"
    },
    {
     "data": {
      "image/png": "[encoded data removed]",
      "text/plain": [
       "<Figure size 432x288 with 1 Axes>"
      ]
     },
     "metadata": {
      "needs_background": "light"
     },
     "output_type": "display_data"
    },
    {
     "data": {
      "image/png": "[encoded data removed]",
      "text/plain": [
       "<Figure size 432x288 with 1 Axes>"
      ]
     },
     "metadata": {
      "needs_background": "light"
     },
     "output_type": "display_data"
    },
    {
     "data": {
      "image/png": "[encoded data removed]",
      "text/plain": [
       "<Figure size 432x288 with 1 Axes>"
      ]
     },
     "metadata": {
      "needs_background": "light"
     },
     "output_type": "display_data"
    }
   ],
   "source": [
    "def Tower3(n):\n",
    "    \n",
    "    # Creates the model and set solver\n",
    "    model = cp_model.CpModel()\n",
    "    solver = cp_model.CpSolver()\n",
    "\n",
    "    # Number of moves\n",
    "    S = range(2**n)\n",
    "\n",
    "    x = {(i,j,s): model.NewIntVar(0, n, f'x_{i}_{j}_{s}') for i in range(3) for j in range(n) for s in S}\n",
    "    term = {(s): model.NewBoolVar(f'term_{s}') for s in S}\n",
    "    choice1 = {(i,j,s): model.NewBoolVar(f'choice1_{i}_{j}_{s}') for i in range(3) for j in range(n) for s in S}\n",
    "    choice2 = {(i,j,s): model.NewBoolVar(f'choice2_{i}_{j}_{s}') for i in range(3) for j in range(n) for s in S}\n",
    "    \n",
    "    # Creating initial Tower of Hanoi\n",
    "    count = n\n",
    "    for i in range(3):\n",
    "        for j in range(n):\n",
    "            if i == 0:\n",
    "                model.Add(x[i,j,0] == count)\n",
    "                count-=1\n",
    "            else:\n",
    "                model.Add(x[i,j,0] == 0)\n",
    "\n",
    "    # Must terminate at some point\n",
    "    model.AddExactlyOne([term[s] for s in S])\n",
    "\n",
    "    for s in S:\n",
    "        # If terminated, then the first two towers are all 0, otherwise not\n",
    "        model.Add(sum(x[i,j,s] for i in range(2) for j in range(n)) == 0).OnlyEnforceIf(term[s])\n",
    "        model.Add(sum(x[i,j,s] for i in range(2) for j in range(n)) != 0).OnlyEnforceIf(term[s].Not())\n",
    "        if s > 0:\n",
    "            # if s != S:\n",
    "            #     model.Add(term[s-1] <= term[s])\n",
    "            for a,b in list(itertools.permutations(range(3),2)):\n",
    "                for j,k in list(itertools.product(range(n),range(n))):\n",
    "                    # If choice1 is pillar a, index j, then that value in the last stage\n",
    "                    # must be greater than or equal to 1\n",
    "                    model.Add(x[a,j,s-1] >= 1).OnlyEnforceIf(choice1[a,j,s])\n",
    "\n",
    "                    # If choice1 is pillar a, index j, then that value must now be 0\n",
    "                    model.Add(x[a,j,s] == 0).OnlyEnforceIf(choice1[a,j,s])\n",
    "\n",
    "                    # If choice2 is pillar b, index j, then that value must have been 0\n",
    "                    # or open slot in the last stage\n",
    "                    model.Add(x[b,k,s-1] == 0).OnlyEnforceIf(choice2[b,k,s])\n",
    "\n",
    "                    # The previous stages value of choice1 is now the current stage's value\n",
    "                    # of choice2, indicating a move has been made\n",
    "                    model.Add(x[a,j,s-1] == x[b,k,s]).OnlyEnforceIf(choice1[a,j,s],choice2[b,k,s])\n",
    "            \n",
    "            for i in range(3):\n",
    "                # At each stage a choice can only be made at most once per pillar\n",
    "                model.AddAtMostOne([choice1[i,j,s] for j in range(n)])\n",
    "                model.AddAtMostOne([choice2[i,j,s] for j in range(n)])\n",
    "                # Choice 1 and choice 2 can't be the same pillar\n",
    "                model.Add(sum(choice1[i,j,s] + choice2[i,j,s] for j in range(n)) <= 1)\n",
    "                # If a choice is made for choice 1 or 2 then a choice is made for the other\n",
    "                model.Add(sum(choice1[i,j,s] for i in range(3) for j in range(n)) == sum(choice2[i,j,s]for i in range(3) for j in range(n)))\n",
    "\n",
    "                for j in range(n):\n",
    "                    # Value of non-moved items do not change\n",
    "                    model.Add(x[i,j,s-1] == x[i,j,s]).OnlyEnforceIf([choice1[i,j,s].Not(),choice2[i,j,s].Not()])\n",
    "                    if j < n-1:\n",
    "                        # No value on the pillar is greater than the value beneath (to the left of) it\n",
    "                        model.Add(x[i,j,s] >= x[i,j+1,s])\n",
    "            \n",
    "            #model.Add(sum(choice1[i,j,s] + choice2[i,j,s] for i in range(3) for j in range(n)) == 2).OnlyEnforceIf(term[s].Not())\n",
    "\n",
    "    status = solver.Solve(model)\n",
    "    print(f\"Status = {solver.StatusName(status)}\")\n",
    "\n",
    "    # Storing Solutions\n",
    "    global sol, final, option1, option2\n",
    "\n",
    "    sol = [solver.value(x[i,j,s]) for s in S for i in range(3) for j in range(n)]\n",
    "    sol = np.reshape(sol,(len(S),3,n))\n",
    "\n",
    "    option1 = [(i,j,s) for s in S for i in range(3) for j in range(n) if solver.value(choice1[i,j,s]) == 1]\n",
    "    option2 = [(i,j,s) for s in S for i in range(3) for j in range(n) if solver.value(choice2[i,j,s]) == 1]\n",
    "\n",
    "    final = [solver.value(term[s]) for s in S]\n",
    "\n",
    "    # Plotting solution\n",
    "    colors = ['blue', 'green', 'red', 'cyan', 'magenta', 'yellow', 'orange',]\n",
    "\n",
    "    for s in range(len(sol)):\n",
    "        for i in range(3):\n",
    "            plt.plot((i,i),(0,3), color = 'k', linewidth = 5, zorder = 0)\n",
    "            for j in range(n):\n",
    "                if sol[s,i,j] != 0:\n",
    "                    plt.scatter(i,j, marker= 's', s = 300*sol[s,i,j]**2, c = colors[sol[s,i,j]])\n",
    "                    plt.text(i-.05,j-.1,sol[s,i,j], fontsize = 15+sol[s,i,j]**2)\n",
    "\n",
    "        plt.axis('off')\n",
    "        plt.xlim(-1,3)\n",
    "        plt.show()\n",
    "\n",
    "Tower3(3)"
   ]
  }
 ],
 "metadata": {
  "kernelspec": {
   "display_name": "base",
   "language": "python",
   "name": "python3"
  },
  "language_info": {
   "codemirror_mode": {
    "name": "ipython",
    "version": 3
   },
   "file_extension": ".py",
   "mimetype": "text/x-python",
   "name": "python",
   "nbconvert_exporter": "python",
   "pygments_lexer": "ipython3",
   "version": "3.9.12"
  }
 },
 "nbformat": 4,
 "nbformat_minor": 2
}
