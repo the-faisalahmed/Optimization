{
 "cells": [
  {
   "cell_type": "code",
   "execution_count": 1,
   "metadata": {},
   "outputs": [],
   "source": [
    "from ortools.sat.python import cp_model\n",
    "import numpy as np\n",
    "import matplotlib.pyplot as plt\n",
    "import itertools\n",
    "from numpy import genfromtxt"
   ]
  },
  {
   "cell_type": "markdown",
   "metadata": {},
   "source": [
    "# Yin-Yang Puzzle\n",
    "\n",
    "[Yin-Yang](https://www.puzzle-yin-yang.com/) is a logic puzzle with simple rules and challenging solutions.\n",
    "\n",
    "The rules are simple.Yin-Yang is played on a rectangular grid with no standard size. Some cells start out filled with black or white. The rest of the cells are empty. The goal is to color all cells in such a way that:\n",
    "1. All black cells should be connected orthogonally in a single group.\n",
    "2. All white cells should be connected orthogonally in a single group.\n",
    "3. 2x2 areas of the same color are not allowed.\n",
    "\n",
    "## Note\n",
    "### Flow balance code used from [this post.](https://github.com/OptimizationExpert/Pyomo/blob/main/half_chess_board.ipynb)"
   ]
  },
  {
   "cell_type": "code",
   "execution_count": 2,
   "metadata": {},
   "outputs": [
    {
     "data": {
      "image/png": "[encoded data removed]",
      "text/plain": [
       "<Figure size 400x400 with 1 Axes>"
      ]
     },
     "metadata": {},
     "output_type": "display_data"
    }
   ],
   "source": [
    "file = 'yin-yang6.csv'\n",
    "\n",
    "hint = genfromtxt(file, delimiter=',')\n",
    "hint = np.delete(hint, (0), axis=0)\n",
    "np.nan_to_num(hint, copy=False, nan=-1)\n",
    "hint.astype(int)\n",
    "\n",
    "n = len(hint)\n",
    "S = range(n)\n",
    "\n",
    "color = {0: 'w', 1: 'k'}\n",
    "\n",
    "plt.figure(figsize=((n+2)/2,(n+2)/2))\n",
    "\n",
    "for i in S:\n",
    "    for j in S:\n",
    "        if hint[i][j] != -1:\n",
    "            plt.scatter(j,n-i-1,marker='o', c = color[hint[i][j]], s = 600, edgecolor = 'k', zorder = 3)\n",
    "\n",
    "plt.xlim(-1,n)\n",
    "plt.xticks(range(-1,n))\n",
    "plt.ylim(-1,n)\n",
    "plt.yticks(range(-1,n))\n",
    "plt.grid(True)"
   ]
  },
  {
   "cell_type": "code",
   "execution_count": 3,
   "metadata": {},
   "outputs": [
    {
     "name": "stdout",
     "output_type": "stream",
     "text": [
      "Status = OPTIMAL\n"
     ]
    }
   ],
   "source": [
    "# Function tracking Euclidean distance between two cells\n",
    "def dist(a,b,c,d):\n",
    "    return int((c-a)**2 + (d-b)**2)\n",
    "\n",
    "# Creates the model and set solver\n",
    "model = cp_model.CpModel()\n",
    "solver = cp_model.CpSolver()\n",
    "\n",
    "C = ['black','white']\n",
    "\n",
    "rule = {'black': 1, 'white': 0}\n",
    "\n",
    "# Grid variables (1 if black, 0 if white)\n",
    "x = {(i,j): model.NewBoolVar(f'x_{i}_{j}') for i in S for j in S}\n",
    "\n",
    "# Tracking demand between black and white cells\n",
    "demand = {k: model.NewIntVar(1,n**2, f'demand_{k}') for k in C}\n",
    "\n",
    "# Tracking source nodes between black and white cells\n",
    "source = {k: {(i,j): model.NewBoolVar(f'source_{i}_{j}') for i in S for j in S} for k in C}\n",
    "\n",
    "# Intermediary variable multiplying demand and source variables\n",
    "ds =  {k: {(i,j): model.NewIntVar(0,n**2,f'ds_{i}_{j}') for i in S for j in S} for k in C}\n",
    "\n",
    "# Flow balance variable between white and black cells\n",
    "flow = {k: {((a,b),(c,d)): model.NewIntVar(0,n**2,f'flow_{a}_{b}_{c}_{d}') \\\n",
    "              for (a,b),(c,d) in (list(itertools.permutations(list(itertools.product(range(n), range(n))),2))) if dist(a,b,c,d) == 1} for k in C}\n",
    "\n",
    "# Tracking if two cells are linked\n",
    "link = {k: {((a,b),(c,d)): model.NewBoolVar(f'link_{a}_{b}_{c}_{d}') \\\n",
    "              for (a,b),(c,d) in (list(itertools.permutations(list(itertools.product(range(n), range(n))),2))) if dist(a,b,c,d) == 1} for k in C}\n",
    "\n",
    "# Intermediary variable multiplying link and demand\n",
    "dl = {k: {((a,b),(c,d)): model.NewIntVar(0,n**2,f'dl_{a}_{b}_{c}_{d}') \\\n",
    "            for (a,b),(c,d) in (list(itertools.permutations(list(itertools.product(range(n), range(n))),2))) if dist(a,b,c,d) == 1} for k in C}\n",
    "\n",
    "# Tracking 2x2 area\n",
    "area = [(0,0),(0,1),(1,0),(1,1)]\n",
    "\n",
    "for i in range(n-1):\n",
    "    for j in range(n-1):\n",
    "        # 2x2 areas of the same color not allowed\n",
    "        model.Add(sum(x[i+a,j+b] for a,b in area) > 0)\n",
    "        model.Add(sum(x[i+a,j+b] for a,b in area) < 4)\n",
    "\n",
    "for i in S:\n",
    "    for j in S:\n",
    "        if hint[i][j] != -1:\n",
    "            # Initializing grid with hints\n",
    "            model.Add(x[i,j] == int(hint[i][j]))\n",
    "\n",
    "# Demand equal to the number of black and white cells, respectively        \n",
    "model.Add(sum(x[j,k] for j in S for k in S) == demand['black'])\n",
    "model.Add(demand['white'] == n**2 - demand['black'])\n",
    "\n",
    "for i in C:\n",
    "    # Only one source node per color\n",
    "    model.AddExactlyOne([source[i][j,k] for j in S for k in S])\n",
    "\n",
    "    for j in S:\n",
    "        for k in S:\n",
    "\n",
    "            # Nodal constraint\n",
    "            model.AddMultiplicationEquality(ds[i][j,k], demand[i], source[i][j,k])\n",
    "            \n",
    "            if i == 'black':\n",
    "                # If black source node, then that cell must be black\n",
    "                model.Add(source[i][j,k] <= x[j,k])\n",
    "\n",
    "                # Flow balance equation\n",
    "                model.Add(ds[i][j,k] - (x[j,k]) == \\\n",
    "                      sum(flow[i][((j,k),(c,d))] - flow[i][((c,d),(j,k))] for c in S for d in S if ((j,k),(c,d)) in flow[i]))\\\n",
    "                        .OnlyEnforceIf(x[j,k])\n",
    "            else:\n",
    "                # If white source node, then that cell must be white\n",
    "                model.Add(source[i][j,k] <= 1 - x[j,k])\n",
    "                \n",
    "                # Flow balance equation\n",
    "                model.Add(ds[i][j,k] - (1-x[j,k]) == \\\n",
    "                        sum(flow[i][((j,k),(c,d))] - flow[i][((c,d),(j,k))] for c in S for d in S if ((j,k),(c,d)) in flow[i]))\\\n",
    "                            .OnlyEnforceIf(x[j,k].Not())\n",
    "\n",
    "    for (j,k),(a,b) in (list(itertools.permutations(list(itertools.product(range(n), range(n))),2))):\n",
    "\n",
    "        if dist(j,k,a,b) == 1:\n",
    "            \n",
    "            model.AddMultiplicationEquality(dl[i][((j,k),(a,b))], demand[i], link[i][((j,k),(a,b))])\n",
    "\n",
    "            if i == 'black':\n",
    "                # Flow cannot exceed demand\n",
    "                model.Add(flow[i][((j,k),(a,b))] <= dl[i][((j,k),(a,b))])\n",
    "\n",
    "                # If two cells linked, then both should be black\n",
    "                model.Add(link[i][((j,k),(a,b))] <= x[j,k])\n",
    "                model.Add(link[i][((j,k),(a,b))] <= x[a,b])\n",
    "\n",
    "                # No flow between unlinked black pairs\n",
    "                model.Add(flow[i][((j,k),(a,b))] == 0).OnlyEnforceIf(link[i][((j,k),(a,b))].Not())\n",
    "            else:\n",
    "                # Flow cannot exceed demand\n",
    "                model.Add(flow[i][((j,k),(a,b))] <= dl[i][((j,k),(a,b))])\n",
    "\n",
    "                # If two cells linked, then both should be white\n",
    "                model.Add(link[i][((j,k),(a,b))] <= 1 - x[j,k])\n",
    "                model.Add(link[i][((j,k),(a,b))] <= 1 - x[a,b])\n",
    "\n",
    "                # No flow between unlinked white pairs\n",
    "                model.Add(flow[i][((j,k),(a,b))] == 0).OnlyEnforceIf(link[i][((j,k),(a,b))].Not())\n",
    "\n",
    "status = solver.Solve(model)\n",
    "print(f'Status = {solver.StatusName(status)}')"
   ]
  },
  {
   "cell_type": "code",
   "execution_count": 4,
   "metadata": {},
   "outputs": [
    {
     "data": {
      "image/png": "[encoded data removed]",
      "text/plain": [
       "<Figure size 400x400 with 1 Axes>"
      ]
     },
     "metadata": {},
     "output_type": "display_data"
    }
   ],
   "source": [
    "sol = [solver.value(x[i,j]) for i,j in x]\n",
    "sol = np.reshape(sol,(n,n))\n",
    "\n",
    "color = {0: 'w', 1: 'k'}\n",
    "plt.figure(figsize=((n+2)/2,(n+2)/2))\n",
    "\n",
    "for i in S:\n",
    "    for j in S:\n",
    "        plt.scatter(j,n-i-1,marker='o', c = color[sol[i,j]], s = 600, edgecolor = 'k', zorder = 3)\n",
    "\n",
    "plt.xlim(-1,n)\n",
    "plt.ylim(-1,n)\n",
    "plt.grid(True)"
   ]
  }
 ],
 "metadata": {
  "kernelspec": {
   "display_name": "Python 3",
   "language": "python",
   "name": "python3"
  },
  "language_info": {
   "codemirror_mode": {
    "name": "ipython",
    "version": 3
   },
   "file_extension": ".py",
   "mimetype": "text/x-python",
   "name": "python",
   "nbconvert_exporter": "python",
   "pygments_lexer": "ipython3",
   "version": "3.11.9"
  }
 },
 "nbformat": 4,
 "nbformat_minor": 2
}
