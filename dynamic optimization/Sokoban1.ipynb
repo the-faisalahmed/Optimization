{
 "cells": [
  {
   "cell_type": "code",
   "execution_count": 1,
   "metadata": {},
   "outputs": [],
   "source": [
    "from ortools.sat.python import cp_model\n",
    "import numpy as np\n",
    "import matplotlib.pyplot as plt\n",
    "import itertools"
   ]
  },
  {
   "cell_type": "code",
   "execution_count": 2,
   "metadata": {},
   "outputs": [],
   "source": [
    "grid = [[10,10,10,10,10,10,10,10],\n",
    "        [10,10,10,0,0,0,10,10],\n",
    "        [10,0,2,1,0,0,10,10],\n",
    "        [10,10,10,0,1,0,10,10],\n",
    "        [10,0,10,10,1,0,10,10],\n",
    "        [10,0,10,0,0,0,10,10],\n",
    "        [10,1,0,1,1,1,0,10],\n",
    "        [10,0,0,0,0,0,0,10],\n",
    "        [10,10,10,10,10,10,10,10]]"
   ]
  },
  {
   "cell_type": "code",
   "execution_count": 3,
   "metadata": {},
   "outputs": [
    {
     "data": {
      "image/png": "[encoded data removed]",
      "text/plain": [
       "<Figure size 350x350 with 1 Axes>"
      ]
     },
     "metadata": {},
     "output_type": "display_data"
    }
   ],
   "source": [
    "size = 300\n",
    "\n",
    "loc = [(2,1), (3,5), (4,1), (5,4), (6,3), (6,6), (7,4)]\n",
    "\n",
    "feature = {0: {'color': 'w', 'marker': 's'},\n",
    "         1: {'color': 'grey', 'marker': 's'},\n",
    "         2: {'color': 'g', 'marker': 'v'},\n",
    "         10: {'color': 'k', 'marker': 's'}}\n",
    "\n",
    "plt.figure(figsize=(3.5,3.5))\n",
    "for i in range(len(grid)):\n",
    "    for j in range(len(grid[0])):\n",
    "        if (i,j) in loc:\n",
    "            plt.scatter(j,8-i, marker = 'o', s = 100, c = 'maroon', zorder = 2)\n",
    "        plt.scatter(j,8-i, marker = feature[grid[i][j]]['marker'], s= size, c = feature[grid[i][j]]['color'])\n",
    "\n",
    "plt.axis('off');"
   ]
  },
  {
   "cell_type": "code",
   "execution_count": 4,
   "metadata": {},
   "outputs": [
    {
     "ename": "",
     "evalue": "",
     "output_type": "error",
     "traceback": [
      "\u001b[1;31mThe Kernel crashed while executing code in the current cell or a previous cell. \n",
      "\u001b[1;31mPlease review the code in the cell(s) to identify a possible cause of the failure. \n",
      "\u001b[1;31mClick <a href='https://aka.ms/vscodeJupyterKernelCrash'>here</a> for more info. \n",
      "\u001b[1;31mView Jupyter <a href='command:jupyter.viewOutput'>log</a> for further details."
     ]
    }
   ],
   "source": [
    "# Creates the model and set solver\n",
    "model = cp_model.CpModel()\n",
    "solver = cp_model.CpSolver()\n",
    "\n",
    "# Size of the grid\n",
    "rows = range(9)\n",
    "cols = range(8)\n",
    "\n",
    "# Number of stages\n",
    "S = range(200)\n",
    "\n",
    "# Cell variables at each stage\n",
    "x = {(i,j,s): model.NewIntVar(0, 10, f'x_{i}_{j}_{s}') for i in rows for j in cols for s in S}\n",
    "\n",
    "# Direction that player moves\n",
    "left = {(i,j,s): model.NewBoolVar(f'up_{i}_{j}_{s}') for i in rows for j in cols for s in S}\n",
    "right = {(i,j,s): model.NewBoolVar(f'down_{i}_{j}_{s}') for i in rows for j in cols for s in S}\n",
    "up = {(i,j,s): model.NewBoolVar(f'left_{i}_{j}_{s}') for i in rows for j in cols for s in S}\n",
    "down = {(i,j,s): model.NewBoolVar(f'right_{i}_{j}_{s}') for i in rows for j in cols for s in S}\n",
    "\n",
    "# Termination {1 if terminated, 0 otherwise}\n",
    "term = {(s): model.NewBoolVar(f'term_{s}') for s in S}\n",
    "\n",
    "# Initializing grid\n",
    "for i in rows:\n",
    "    for j in cols:\n",
    "        model.Add(x[i,j,0] == grid[i][j])\n",
    "\n",
    "# Model must terminate\n",
    "model.AddAtLeastOne([term[s] for s in S])\n",
    "\n",
    "for s in S:\n",
    "    # Only one choice per state\n",
    "    model.Add(sum(left[i,j,s] + right[i,j,s] + up[i,j,s] + down[i,j,s] for i in rows for j in cols) <= 1)\n",
    "    # If terminated, then the sume of the selected locations of the puzzle must be 6\n",
    "    model.Add(sum(x[i,j,s] for i in rows for j in cols if (i,j) in loc) == 7).OnlyEnforceIf(term[s])\n",
    "\n",
    "    if s > 0:\n",
    "        for i in rows:\n",
    "            for j in cols:\n",
    "                # Boundaries stay the same\n",
    "                if grid[i][j] == 10:\n",
    "                    model.Add((left[i,j,s] + right[i,j,s] + up[i,j,s] + down[i,j,s]) == 0)\n",
    "                    model.Add(x[i,j,s-1] == x[i,j,s])\n",
    "                    continue\n",
    "                # Up\n",
    "                if i>1 and grid[i-1][j] + grid[i-2][j] < 10:\n",
    "                    pass\n",
    "\n",
    "                \n",
    "                \n",
    "\n",
    "\n",
    "# Solving\n",
    "status = solver.Solve(model)\n",
    "# print(f\"Status = {solver.StatusName(status)}\")\n",
    "\n",
    "# # Storing Solution\n",
    "# sol = [solver.value(x[i,j,s]) for s in S for i in rows for j in cols]\n",
    "# sol = np.reshape(sol, (len(S),len(rows),len(cols)))"
   ]
  }
 ],
 "metadata": {
  "kernelspec": {
   "display_name": "Python 3",
   "language": "python",
   "name": "python3"
  },
  "language_info": {
   "codemirror_mode": {
    "name": "ipython",
    "version": 3
   },
   "file_extension": ".py",
   "mimetype": "text/x-python",
   "name": "python",
   "nbconvert_exporter": "python",
   "pygments_lexer": "ipython3",
   "version": "3.12.4"
  }
 },
 "nbformat": 4,
 "nbformat_minor": 2
}
