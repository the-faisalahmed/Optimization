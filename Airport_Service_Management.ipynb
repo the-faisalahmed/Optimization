{
 "cells": [
  {
   "cell_type": "code",
   "execution_count": 1,
   "metadata": {},
   "outputs": [],
   "source": [
    "#!pip install ortools\n",
    "from ortools.sat.python import cp_model"
   ]
  },
  {
   "cell_type": "code",
   "execution_count": 66,
   "metadata": {},
   "outputs": [],
   "source": [
    "%%capture\n",
    "import sys\n",
    "import os\n",
    "\n",
    "if 'google.colab' in sys.modules:\n",
    "    !pip install idaes-pse --pre\n",
    "    !idaes get-extensions --to ./bin\n",
    "    os.environ['PATH'] += ':bin'\n",
    "\n",
    "#!pip install pyomo\n",
    "from pyomo.environ import *\n",
    "from pyomo.opt import SolverFactory\n",
    "from pyomo.util.infeasible import log_infeasible_constraints\n",
    "from pyomo.opt import SolverStatus\n",
    "import matplotlib.pyplot as plt\n",
    "import numpy as np\n",
    "import pandas as pd\n",
    "import itertools"
   ]
  },
  {
   "cell_type": "code",
   "execution_count": 67,
   "metadata": {},
   "outputs": [],
   "source": [
    "import matplotlib.pyplot as plt\n",
    "import itertools\n",
    "import math\n",
    "import numpy as np\n",
    "from datetime import datetime, time, timedelta"
   ]
  },
  {
   "cell_type": "code",
   "execution_count": 68,
   "metadata": {},
   "outputs": [],
   "source": [
    "def SolveModel(model, solver):\n",
    "  # Solve model\n",
    "  opt = SolverFactory(solver)\n",
    "  result = opt.solve(model)\n",
    "\n",
    "  if (result.solver.status == SolverStatus.ok) and \\\n",
    "      (result.solver.termination_condition == TerminationCondition.optimal):\n",
    "      # Do something when the solution in optimal and feasible\n",
    "      print('Solution is Optimal')\n",
    "  elif (result.solver.termination_condition == TerminationCondition.infeasible):\n",
    "      # Do something when model in infeasible\n",
    "      print('Solution is Infeasible')\n",
    "  else:\n",
    "          # Something else is wrong\n",
    "      print(\"Solver Status:\",  result.solver.status)\n",
    "\n",
    "  # Solve time\n",
    "  print('Solve Time: ', result.solver.wallclock_time)"
   ]
  },
  {
   "cell_type": "code",
   "execution_count": 62,
   "metadata": {},
   "outputs": [],
   "source": [
    "Flights = {\n",
    "'AAL2561':  {'Target':39.5,\"Dept\":'WILEY'},\n",
    "'DAL4703':\t{'Target':38.25,\"Dept\":'WILEY'},\n",
    "'DAL2684': {'Target': 37.0, 'Dept': 'WILEY'},\n",
    "'AAL3441': {'Target': 36.0, 'Dept': 'CHASZ'},\n",
    "'AAL0639': {'Target': 35.0, 'Dept': 'WILEY'},\n",
    "'EGF1218': {'Target': 33.0, 'Dept': 'NELYN'},\n",
    "'DAL2777': {'Target': 32.0, 'Dept': 'WILEY'},\n",
    "'AAL9355': {'Target': 30.0, 'Dept': 'SMITH'},\n",
    "'AAL7665': {'Target': 26.0, 'Dept': 'WILEY'},\n",
    "'EGF9310': {'Target': 27.0, 'Dept': 'CHASZ'},\n",
    "'DAL9416': {'Target': 24.0, 'Dept': 'PHILS'},\n",
    "'AAL8912': {'Target': 23.0, 'Dept': 'WILEY'},\n",
    "'DAL5519': {'Target': 21.0, 'Dept': 'NELYN'},\n",
    "'EGF0862': {'Target': 20.0, 'Dept': 'WILEY'},\n",
    "'SKW3013': {'Target': 18.0, 'Dept': 'NICKY'},\n",
    "'EGF1050': {'Target': 17.0, 'Dept': 'WILEY'},\n",
    "'AAL1180': {'Target': 15.0, 'Dept': 'NELYN'},\n",
    "'KAL0043': {'Target': 14.0, 'Dept': 'WILEY'},\n",
    "'AAL7799': {'Target': 12.0, 'Dept': 'WORTH'},\n",
    "'DAL5919': {'Target': 11.0, 'Dept': 'WILEY'},\n",
    "'AAL3074': {'Target': 8.0, 'Dept': 'SMITH'},\n",
    "'EGF0512': {'Target': 9.0, 'Dept': 'CHASZ'},\n",
    "'AAL8365': {'Target': 7.0, 'Dept': 'WILEY'},\n",
    "'DAL2964': {'Target': 5.0, 'Dept': 'WHALT'},\n",
    "'AAL2435': {'Target': 4.0, 'Dept': 'WILEY'},\n",
    "'AAL3546': {'Target': 2.0, 'Dept': 'WORTH'},\n",
    "'DAL5917': {'Target': 1.0, 'Dept': 'WILEY'},\n",
    "'DAL2306': {'Target': 0.0, 'Dept': 'PHILS'}\n",
    " }\n",
    "\n",
    "Dept_Fix = {\n",
    "'NOBLR': {'Direction': 'N', 'Neighbor': ['NELYN'], 'Closed': 0},\n",
    "'NELYN': {'Direction': 'N', 'Neighbor': ['NOBLR', 'NIKKY'], 'Closed': 0},\n",
    "'NIKKY': {'Direction': 'N', 'Neighbor': ['NELYN', 'KNAVE'], 'Closed': 0},\n",
    "'KNAVE': {'Direction': 'N', 'Neighbor': ['NIKKY', 'NEXAR'], 'Closed': 0},\n",
    "'NEXAR': {'Direction': 'N', 'Neighbor': ['KNAVE'], 'Closed': 0},\n",
    "'PHILS': {'Direction': 'S', 'Neighbor': ['SMITH'], 'Closed': 0},\n",
    "'SMITH': {'Direction': 'S', 'Neighbor': ['PHILS', 'CHASZ'], 'Closed': 0},\n",
    "'CHASZ': {'Direction': 'S', 'Neighbor': ['SMITH','ALISA'], 'Closed': 0},\n",
    "'ALISA': {'Direction': 'S', 'Neighbor': ['CHASZ',  'EVANS'], 'Closed': 0},\n",
    "'EVANS': {'Direction': 'S', 'Neighbor': ['ALISA'], 'Closed': 0},\n",
    "'BEATY': {'Direction': 'E', 'Neighbor': ['EARTZ'], 'Closed': 0},\n",
    "'EARTZ': {'Direction': 'E', 'Neighbor': ['BEATY', 'BEAMR'], 'Closed': 0},\n",
    "'BEAMR': {'Direction': 'E', 'Neighbor': ['EARTZ', 'TREAT'], 'Closed': 0},\n",
    "'TREAT': {'Direction': 'E', 'Neighbor': ['BEAMR', 'CREAK'], 'Closed': 0},\n",
    "'CREAK': {'Direction': 'E', 'Neighbor': ['TREAT'], 'Closed': 0},\n",
    "'WILEY': {'Direction': 'W', 'Neighbor': ['WICKR'], 'Closed': 0},\n",
    "'WICKR': {'Direction': 'W', 'Neighbor': ['WILEY', 'WORTH'], 'Closed': 1},\n",
    "'WORTH': {'Direction': 'W', 'Neighbor': ['WICKR', 'WHALT',], 'Closed': 0},\n",
    "'WHALT': {'Direction': 'W', 'Neighbor': ['WORTH', 'WYMON'], 'Closed': 0},\n",
    "'WYMON': {'Direction': 'W', 'Neighbor': ['WHALT'], 'Closed': 0}\n",
    " }\n",
    "\n",
    "def timediff(x):\n",
    "    a = datetime.strptime(x, '%H:%M:%S')\n",
    "    b = datetime.strptime('18:00:00', '%H:%M:%S')\n",
    "    return (a - b).total_seconds()/60\n",
    "\n",
    "#Flights"
   ]
  },
  {
   "cell_type": "code",
   "execution_count": 91,
   "metadata": {},
   "outputs": [],
   "source": [
    "model = ConcreteModel()\n",
    "\n",
    "model.I = [i for i in Flights.keys()]\n",
    "\n",
    "model.J = [i for i in Dept_Fix.keys()]\n",
    "\n",
    "model.X = Var(model.I, model.J, bounds = (-10,10), within = Integers)\n",
    "model.Y = Var(model.I, model.J, within = Boolean)\n",
    "\n",
    "model.Closure = Param(model.J, initialize = {i: Dept_Fix[i]['Closed'] for i in Dept_Fix})\n",
    "\n",
    "#SolveModel(model, 'bonmin')"
   ]
  },
  {
   "cell_type": "code",
   "execution_count": 93,
   "metadata": {},
   "outputs": [
    {
     "name": "stdout",
     "output_type": "stream",
     "text": [
      "Closure : Size=20, Index=Closure_index, Domain=Any, Default=None, Mutable=False\n",
      "    Key   : Value\n",
      "    ALISA :     0\n",
      "    BEAMR :     0\n",
      "    BEATY :     0\n",
      "    CHASZ :     0\n",
      "    CREAK :     0\n",
      "    EARTZ :     0\n",
      "    EVANS :     0\n",
      "    KNAVE :     0\n",
      "    NELYN :     0\n",
      "    NEXAR :     0\n",
      "    NIKKY :     0\n",
      "    NOBLR :     0\n",
      "    PHILS :     0\n",
      "    SMITH :     0\n",
      "    TREAT :     0\n",
      "    WHALT :     0\n",
      "    WICKR :     1\n",
      "    WILEY :     0\n",
      "    WORTH :     0\n",
      "    WYMON :     0\n"
     ]
    }
   ],
   "source": [
    "model.Closure.pprint()"
   ]
  },
  {
   "cell_type": "code",
   "execution_count": null,
   "metadata": {},
   "outputs": [],
   "source": [
    "# Creates the model and set solver\n",
    "model = cp_model.CpModel()\n",
    "solver = cp_model.CpSolver()\n",
    "\n",
    "# Flight i uses dept fix j at time k\n",
    "x = {(i,j):model.NewIVar(f\"x_{i}_{j}\") \\\n",
    "     for i in Flights.keys() for j in Dept_Fix.keys()}\n",
    "#status = solver.Solve(model)\n",
    "\n",
    "# Minimize throughput\n",
    "\n",
    "print(f\"Status = {solver.StatusName(status)}\")"
   ]
  }
 ],
 "metadata": {
  "kernelspec": {
   "display_name": "base",
   "language": "python",
   "name": "python3"
  },
  "language_info": {
   "codemirror_mode": {
    "name": "ipython",
    "version": 3
   },
   "file_extension": ".py",
   "mimetype": "text/x-python",
   "name": "python",
   "nbconvert_exporter": "python",
   "pygments_lexer": "ipython3",
   "version": "3.9.12"
  }
 },
 "nbformat": 4,
 "nbformat_minor": 2
}
