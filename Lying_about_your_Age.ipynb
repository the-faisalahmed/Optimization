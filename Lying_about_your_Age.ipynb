{
  "nbformat": 4,
  "nbformat_minor": 0,
  "metadata": {
    "colab": {
      "provenance": [],
      "authorship_tag": "ABX9TyNrxBwgtSx0QoJwrFx3fmy1",
      "include_colab_link": true
    },
    "kernelspec": {
      "name": "python3",
      "display_name": "Python 3"
    },
    "language_info": {
      "name": "python"
    }
  },
  "cells": [
    {
      "cell_type": "markdown",
      "metadata": {
        "id": "view-in-github",
        "colab_type": "text"
      },
      "source": [
        "<a href=\"https://colab.research.google.com/github/the-faisalahmed/Optimization/blob/main/Lying_about_your_Age.ipynb\" target=\"_parent\"><img src=\"https://colab.research.google.com/assets/colab-badge.svg\" alt=\"Open In Colab\"/></a>"
      ]
    },
    {
      "cell_type": "markdown",
      "source": [
        "# Lying about your Age\n",
        "\n",
        "![](https://deliterate.wordpress.com/wp-content/uploads/2013/11/58452819_adventures_of_pinocchio_answer_1_xlarge.jpeg?w=144) ![](https://deliterate.wordpress.com/wp-content/uploads/2013/11/58452819_adventures_of_pinocchio_answer_1_xlarge.jpeg?w=144) ![](https://deliterate.wordpress.com/wp-content/uploads/2013/11/58452819_adventures_of_pinocchio_answer_1_xlarge.jpeg?w=144) ![](https://deliterate.wordpress.com/wp-content/uploads/2013/11/58452819_adventures_of_pinocchio_answer_1_xlarge.jpeg?w=144) ![](https://deliterate.wordpress.com/wp-content/uploads/2013/11/58452819_adventures_of_pinocchio_answer_1_xlarge.jpeg?w=144)\n",
        "\n",
        "Annie, Betty, Carrie, Darla, and Eve recently found out that all of their birthdays were on the same day, though they are different ages. On their mutual birthday, they were jabbering away, flapping their gums about their recent discovery. And, lucky me, I was there. Some of the things that I overheard were...\n",
        "\n",
        "1. Darla said to Betty: \"I'm nine years older than Eve.\"\n",
        "2. Eve said to Betty: \"I'm seven years older than Annie.\"\n",
        "3. Annie said to Betty: \"Your age is exactly 70% greater than mine.\"\n",
        "4.  Betty said to Carrie: \"Eve is younger than you.\"\n",
        "5.  Carrie said to Darla: \"The difference between our ages is six years.\"\n",
        "6.  Carrie said to Annie: \"I'm ten years older than you.\"\n",
        "7.  Carrie said to Annie: \"Betty is younger than Darla.\"\n",
        "8. Betty said to Carrie: \"The difference between your age and Darla's is the same as the difference between Darla's and Eve's.\"\n",
        "\n",
        "Since I knew these people -- and how old they were, I knew that they were not telling the whole truth. After thinking about it, I realized that when one of them spoke to somebody older than herself, everything she said was true, but when speaking to somebody younger, everything she said was false.\n",
        "\n",
        "How old is each person?"
      ],
      "metadata": {
        "id": "WqiFppWw-sPT"
      }
    },
    {
      "cell_type": "code",
      "execution_count": 1,
      "metadata": {
        "id": "G3u-dCzWVXTf",
        "collapsed": true,
        "colab": {
          "base_uri": "https://localhost:8080/"
        },
        "outputId": "8110d457-8aaf-4ea4-d443-b9284422456a"
      },
      "outputs": [
        {
          "output_type": "stream",
          "name": "stdout",
          "text": [
            "Collecting ortools\n",
            "  Downloading ortools-9.10.4067-cp310-cp310-manylinux_2_17_x86_64.manylinux2014_x86_64.whl (26.7 MB)\n",
            "\u001b[2K     \u001b[90m━━━━━━━━━━━━━━━━━━━━━━━━━━━━━━━━━━━━━━━━\u001b[0m \u001b[32m26.7/26.7 MB\u001b[0m \u001b[31m20.3 MB/s\u001b[0m eta \u001b[36m0:00:00\u001b[0m\n",
            "\u001b[?25hCollecting absl-py>=2.0.0 (from ortools)\n",
            "  Downloading absl_py-2.1.0-py3-none-any.whl (133 kB)\n",
            "\u001b[2K     \u001b[90m━━━━━━━━━━━━━━━━━━━━━━━━━━━━━━━━━━━━━━━━\u001b[0m \u001b[32m133.7/133.7 kB\u001b[0m \u001b[31m13.7 MB/s\u001b[0m eta \u001b[36m0:00:00\u001b[0m\n",
            "\u001b[?25hRequirement already satisfied: numpy>=1.13.3 in /usr/local/lib/python3.10/dist-packages (from ortools) (1.25.2)\n",
            "Requirement already satisfied: pandas>=2.0.0 in /usr/local/lib/python3.10/dist-packages (from ortools) (2.0.3)\n",
            "Installing collected packages: protobuf, absl-py, ortools\n",
            "  Attempting uninstall: protobuf\n",
            "    Found existing installation: protobuf 3.20.3\n",
            "    Uninstalling protobuf-3.20.3:\n",
            "      Successfully uninstalled protobuf-3.20.3\n",
            "  Attempting uninstall: absl-py\n",
            "    Found existing installation: absl-py 1.4.0\n",
            "    Uninstalling absl-py-1.4.0:\n",
            "      Successfully uninstalled absl-py-1.4.0\n",
            "\u001b[31mERROR: pip's dependency resolver does not currently take into account all the packages that are installed. This behaviour is the source of the following dependency conflicts.\n",
            "cudf-cu12 24.4.1 requires protobuf<5,>=3.20, but you have protobuf 5.27.2 which is incompatible.\n",
            "google-ai-generativelanguage 0.6.4 requires protobuf!=3.20.0,!=3.20.1,!=4.21.0,!=4.21.1,!=4.21.2,!=4.21.3,!=4.21.4,!=4.21.5,<5.0.0dev,>=3.19.5, but you have protobuf 5.27.2 which is incompatible.\n",
            "google-api-core 2.16.2 requires protobuf!=3.20.0,!=3.20.1,!=4.21.0,!=4.21.1,!=4.21.2,!=4.21.3,!=4.21.4,!=4.21.5,<5.0.0.dev0,>=3.19.5, but you have protobuf 5.27.2 which is incompatible.\n",
            "google-cloud-aiplatform 1.59.0 requires protobuf!=3.20.0,!=3.20.1,!=4.21.0,!=4.21.1,!=4.21.2,!=4.21.3,!=4.21.4,!=4.21.5,<5.0.0dev,>=3.19.5, but you have protobuf 5.27.2 which is incompatible.\n",
            "google-cloud-bigquery-connection 1.12.1 requires protobuf!=3.20.0,!=3.20.1,!=4.21.0,!=4.21.1,!=4.21.2,!=4.21.3,!=4.21.4,!=4.21.5,<5.0.0dev,>=3.19.5, but you have protobuf 5.27.2 which is incompatible.\n",
            "google-cloud-bigquery-storage 2.25.0 requires protobuf!=3.20.0,!=3.20.1,!=4.21.0,!=4.21.1,!=4.21.2,!=4.21.3,!=4.21.4,!=4.21.5,<5.0.0dev,>=3.19.5, but you have protobuf 5.27.2 which is incompatible.\n",
            "google-cloud-bigtable 2.24.0 requires protobuf!=3.20.0,!=3.20.1,!=4.21.0,!=4.21.1,!=4.21.2,!=4.21.3,!=4.21.4,!=4.21.5,<5.0.0dev,>=3.19.5, but you have protobuf 5.27.2 which is incompatible.\n",
            "google-cloud-datastore 2.15.2 requires protobuf!=3.20.0,!=3.20.1,!=4.21.0,!=4.21.1,!=4.21.2,!=4.21.3,!=4.21.4,!=4.21.5,<5.0.0dev,>=3.19.5, but you have protobuf 5.27.2 which is incompatible.\n",
            "google-cloud-firestore 2.11.1 requires protobuf!=3.20.0,!=3.20.1,!=4.21.0,!=4.21.1,!=4.21.2,!=4.21.3,!=4.21.4,!=4.21.5,<5.0.0dev,>=3.19.5, but you have protobuf 5.27.2 which is incompatible.\n",
            "google-cloud-functions 1.13.3 requires protobuf!=3.20.0,!=3.20.1,!=4.21.0,!=4.21.1,!=4.21.2,!=4.21.3,!=4.21.4,!=4.21.5,<5.0.0dev,>=3.19.5, but you have protobuf 5.27.2 which is incompatible.\n",
            "google-cloud-translate 3.11.3 requires protobuf!=3.20.0,!=3.20.1,!=4.21.0,!=4.21.1,!=4.21.2,!=4.21.3,!=4.21.4,!=4.21.5,<5.0.0dev,>=3.19.5, but you have protobuf 5.27.2 which is incompatible.\n",
            "tensorflow 2.15.0 requires protobuf!=4.21.0,!=4.21.1,!=4.21.2,!=4.21.3,!=4.21.4,!=4.21.5,<5.0.0dev,>=3.20.3, but you have protobuf 5.27.2 which is incompatible.\n",
            "tensorflow-metadata 1.15.0 requires protobuf<4.21,>=3.20.3; python_version < \"3.11\", but you have protobuf 5.27.2 which is incompatible.\u001b[0m\u001b[31m\n",
            "\u001b[0mSuccessfully installed absl-py-2.1.0 ortools-9.10.4067 protobuf-5.27.2\n"
          ]
        }
      ],
      "source": [
        "!pip install ortools\n",
        "from ortools.sat.python import cp_model"
      ]
    },
    {
      "cell_type": "code",
      "source": [
        "class VarArraySolutionPrinter(cp_model.CpSolverSolutionCallback):\n",
        "    \"\"\"Print intermediate solutions.\"\"\"\n",
        "\n",
        "    def __init__(self, x,y):\n",
        "        cp_model.CpSolverSolutionCallback.__init__(self)\n",
        "        self.__x = x\n",
        "        self.__y = y\n",
        "        self.__solution_count = 0\n",
        "\n",
        "\n",
        "    def on_solution_callback(self):\n",
        "        self.__solution_count += 1\n",
        "\n",
        "        print(f'Solution {self.__solution_count}')\n",
        "        print([(i,self.Value(self.__x[i])) for i in self.__x])\n",
        "        print([(i,self.Value(self.__y[i])) for i in self.__y])\n",
        "        print('\\n')\n",
        "\n",
        "    def solution_count(self):\n",
        "        return self.__solution_count"
      ],
      "metadata": {
        "id": "yIIIBcuGFl8s"
      },
      "execution_count": 21,
      "outputs": []
    },
    {
      "cell_type": "code",
      "source": [
        "def SearchForAllSolutionsSampleSat():\n",
        "  # Creates the model and set solver\n",
        "  model = cp_model.CpModel()\n",
        "  solver = cp_model.CpSolver()\n",
        "\n",
        "  max_age = 100\n",
        "  num_constraints = 8\n",
        "\n",
        "  people = ['Annie', 'Betty', 'Carrie', 'Darla', 'Eve' ]\n",
        "\n",
        "  x = {i:model.NewIntVar(1,max_age,f\"x_{i}\") for i in people}\n",
        "\n",
        "  y = {i:model.NewBoolVar(f\"y_{i}\") for i in range(1,num_constraints+1)}\n",
        "\n",
        "  # All different ages\n",
        "  model.AddAllDifferent([x[i] for i in x.keys()])\n",
        "\n",
        "  # 1. Darla said to Betty: \"I'm nine years older than Eve.\"\n",
        "  model.Add(x['Darla'] < x['Betty']).OnlyEnforceIf(y[1])\n",
        "  model.Add(x['Darla'] >= x['Betty']).OnlyEnforceIf(~y[1])\n",
        "  model.Add(x['Darla'] == x['Eve'] + 9).OnlyEnforceIf(y[1])\n",
        "\n",
        "  # 2. Eve said to Betty: \"I'm seven years older than Annie.\"\n",
        "  model.Add(x['Eve'] < x['Betty']).OnlyEnforceIf(y[2])\n",
        "  model.Add(x['Eve'] >= x['Betty']).OnlyEnforceIf(~y[2])\n",
        "  model.Add(x['Eve'] == x['Annie'] + 7).OnlyEnforceIf(y[2])\n",
        "\n",
        "  # 3. Annie said to Betty: \"Your age is exactly 70% greater than mine.\"\n",
        "  model.Add(x['Annie'] < x['Betty']).OnlyEnforceIf(y[3])\n",
        "  model.Add(x['Annie'] >= x['Betty']).OnlyEnforceIf(~y[3])\n",
        "  model.Add(170*x['Betty'] == 10*x['Annie']).OnlyEnforceIf(y[3])\n",
        "\n",
        "  # 4.  Betty said to Carrie: \"Eve is younger than you.\"\n",
        "  model.Add(x['Betty'] < x['Carrie']).OnlyEnforceIf(y[4])\n",
        "  model.Add(x['Betty'] >= x['Carrie']).OnlyEnforceIf(~y[4])\n",
        "  model.Add(x['Eve'] < x['Carrie']).OnlyEnforceIf(y[4])\n",
        "\n",
        "  # 5.  Carrie said to Darla: \"The difference between our ages is six years.\"\n",
        "  model.Add(x['Carrie'] < x['Darla']).OnlyEnforceIf(y[5])\n",
        "  model.Add(x['Carrie'] >= x['Darla']).OnlyEnforceIf(~y[5])\n",
        "  model.Add(x['Darla'] - x['Carrie'] == 6).OnlyEnforceIf(y[5])\n",
        "\n",
        "  # 6.  Carrie said to Annie: \"I'm ten years older than you.\"\n",
        "  model.Add(x['Carrie'] < x['Annie']).OnlyEnforceIf(y[6])\n",
        "  model.Add(x['Carrie'] >= x['Annie']).OnlyEnforceIf(~y[6])\n",
        "  model.Add(x['Carrie'] == x['Annie'] + 10).OnlyEnforceIf(y[6])\n",
        "\n",
        "  # 7.  Carrie said to Annie: \"Betty is younger than Darla.\"\n",
        "  model.Add(x['Carrie'] < x['Annie']).OnlyEnforceIf(y[7])\n",
        "  model.Add(x['Carrie'] >= x['Annie']).OnlyEnforceIf(~y[7])\n",
        "  model.Add(x['Betty'] < x['Darla']).OnlyEnforceIf(y[7])\n",
        "\n",
        "  # 8. Betty said to Carrie: \"The difference between your age and Darla's is the same as the difference between Darla's and Eve's.\"\n",
        "  model.Add(x['Betty'] < x['Carrie']).OnlyEnforceIf(y[8])\n",
        "  model.Add(x['Betty'] >= x['Carrie']).OnlyEnforceIf(~y[8])\n",
        "  model.Add(x['Carrie'] - x['Darla'] == x['Darla'] - x['Eve']).OnlyEnforceIf(y[8])\n",
        "\n",
        "  # Enumerate all solutions.\n",
        "  solver.parameters.enumerate_all_solutions = False\n",
        "\n",
        "  solution_printer = VarArraySolutionPrinter(x,y)\n",
        "\n",
        "  status = solver.Solve(model, solution_printer)\n",
        "\n",
        "  print(f\"Status = {solver.StatusName(status)}\")\n",
        "\n",
        "SearchForAllSolutionsSampleSat()"
      ],
      "metadata": {
        "id": "EOjG4X8nVoZN",
        "colab": {
          "base_uri": "https://localhost:8080/"
        },
        "outputId": "559cb166-5bcf-433c-a423-1d45ca264523"
      },
      "execution_count": 22,
      "outputs": [
        {
          "output_type": "stream",
          "name": "stdout",
          "text": [
            "Solution 1\n",
            "[('Annie', 2), ('Betty', 1), ('Carrie', 5), ('Darla', 4), ('Eve', 3)]\n",
            "[(1, 0), (2, 0), (3, 0), (4, 1), (5, 0), (6, 0), (7, 0), (8, 1)]\n",
            "\n",
            "\n",
            "Solution 2\n",
            "[('Annie', 97), ('Betty', 1), ('Carrie', 98), ('Darla', 50), ('Eve', 2)]\n",
            "[(1, 0), (2, 0), (3, 0), (4, 1), (5, 0), (6, 0), (7, 0), (8, 1)]\n",
            "\n",
            "\n",
            "Status = OPTIMAL\n"
          ]
        }
      ]
    }
  ]
}