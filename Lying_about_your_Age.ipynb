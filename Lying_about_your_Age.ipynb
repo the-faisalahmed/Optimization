{
  "nbformat": 4,
  "nbformat_minor": 0,
  "metadata": {
    "colab": {
      "provenance": [],
      "authorship_tag": "ABX9TyM28vpmQqjwu8XKnrmFpw2G",
      "include_colab_link": true
    },
    "kernelspec": {
      "name": "python3",
      "display_name": "Python 3"
    },
    "language_info": {
      "name": "python"
    }
  },
  "cells": [
    {
      "cell_type": "markdown",
      "metadata": {
        "id": "view-in-github",
        "colab_type": "text"
      },
      "source": [
        "<a href=\"https://colab.research.google.com/github/the-faisalahmed/Optimization/blob/main/Lying_about_your_Age.ipynb\" target=\"_parent\"><img src=\"https://colab.research.google.com/assets/colab-badge.svg\" alt=\"Open In Colab\"/></a>"
      ]
    },
    {
      "cell_type": "markdown",
      "source": [
        "# Lying about your Age\n",
        "\n",
        "![](https://deliterate.wordpress.com/wp-content/uploads/2013/11/58452819_adventures_of_pinocchio_answer_1_xlarge.jpeg?w=144) ![](https://deliterate.wordpress.com/wp-content/uploads/2013/11/58452819_adventures_of_pinocchio_answer_1_xlarge.jpeg?w=144) ![](https://deliterate.wordpress.com/wp-content/uploads/2013/11/58452819_adventures_of_pinocchio_answer_1_xlarge.jpeg?w=144) ![](https://deliterate.wordpress.com/wp-content/uploads/2013/11/58452819_adventures_of_pinocchio_answer_1_xlarge.jpeg?w=144) ![](https://deliterate.wordpress.com/wp-content/uploads/2013/11/58452819_adventures_of_pinocchio_answer_1_xlarge.jpeg?w=144)\n",
        "\n",
        "Annie, Betty, Carrie, Darla, and Eve recently found out that all of their birthdays were on the same day, though they are different ages. On their mutual birthday, they were jabbering away, flapping their gums about their recent discovery. And, lucky me, I was there. Some of the things that I overheard were...\n",
        "\n",
        "1. Darla said to Betty: \"I'm nine years older than Eve.\"\n",
        "2. Eve said to Betty: \"I'm seven years older than Annie.\"\n",
        "3. Annie said to Betty: \"Your age is exactly 70% greater than mine.\"\n",
        "4.  Betty said to Carrie: \"Eve is younger than you.\"\n",
        "5.  Carrie said to Darla: \"The difference between our ages is six years.\"\n",
        "6.  Carrie said to Annie: \"I'm ten years older than you.\"\n",
        "7.  Carrie said to Annie: \"Betty is younger than Darla.\"\n",
        "8. Betty said to Carrie: \"The difference between your age and Darla's is the same as the difference between Darla's and Eve's.\"\n",
        "\n",
        "Since I knew these people -- and how old they were, I knew that they were not telling the whole truth. After thinking about it, I realized that when one of them spoke to somebody older than herself, everything she said was true, but when speaking to somebody younger, everything she said was false.\n",
        "\n",
        "How old is each person?"
      ],
      "metadata": {
        "id": "WqiFppWw-sPT"
      }
    },
    {
      "cell_type": "code",
      "execution_count": 23,
      "metadata": {
        "id": "G3u-dCzWVXTf",
        "collapsed": true,
        "colab": {
          "base_uri": "https://localhost:8080/"
        },
        "outputId": "49682dcd-2f3a-42a2-9145-b469ca1bcdbc"
      },
      "outputs": [
        {
          "output_type": "stream",
          "name": "stdout",
          "text": [
            "Requirement already satisfied: ortools in /usr/local/lib/python3.10/dist-packages (9.10.4067)\n",
            "Requirement already satisfied: absl-py>=2.0.0 in /usr/local/lib/python3.10/dist-packages (from ortools) (2.1.0)\n",
            "Requirement already satisfied: numpy>=1.13.3 in /usr/local/lib/python3.10/dist-packages (from ortools) (1.25.2)\n",
            "Requirement already satisfied: pandas>=2.0.0 in /usr/local/lib/python3.10/dist-packages (from ortools) (2.0.3)\n",
            "Requirement already satisfied: protobuf>=5.26.1 in /usr/local/lib/python3.10/dist-packages (from ortools) (5.27.2)\n",
            "Requirement already satisfied: immutabledict>=3.0.0 in /usr/local/lib/python3.10/dist-packages (from ortools) (4.2.0)\n",
            "Requirement already satisfied: python-dateutil>=2.8.2 in /usr/local/lib/python3.10/dist-packages (from pandas>=2.0.0->ortools) (2.8.2)\n",
            "Requirement already satisfied: pytz>=2020.1 in /usr/local/lib/python3.10/dist-packages (from pandas>=2.0.0->ortools) (2023.4)\n",
            "Requirement already satisfied: tzdata>=2022.1 in /usr/local/lib/python3.10/dist-packages (from pandas>=2.0.0->ortools) (2024.1)\n",
            "Requirement already satisfied: six>=1.5 in /usr/local/lib/python3.10/dist-packages (from python-dateutil>=2.8.2->pandas>=2.0.0->ortools) (1.16.0)\n"
          ]
        }
      ],
      "source": [
        "!pip install ortools\n",
        "from ortools.sat.python import cp_model"
      ]
    },
    {
      "cell_type": "code",
      "source": [
        "class VarArraySolutionPrinter(cp_model.CpSolverSolutionCallback):\n",
        "    \"\"\"Print intermediate solutions.\"\"\"\n",
        "\n",
        "    def __init__(self, x,y):\n",
        "        cp_model.CpSolverSolutionCallback.__init__(self)\n",
        "        self.__x = x\n",
        "        self.__y = y\n",
        "        self.__solution_count = 0\n",
        "\n",
        "\n",
        "    def on_solution_callback(self):\n",
        "        self.__solution_count += 1\n",
        "\n",
        "        print(f'Solution {self.__solution_count}')\n",
        "        print([(i,self.Value(self.__x[i])) for i in self.__x])\n",
        "        print([(i,self.Value(self.__y[i])) for i in self.__y])\n",
        "        print('\\n')\n",
        "\n",
        "    def solution_count(self):\n",
        "        return self.__solution_count"
      ],
      "metadata": {
        "id": "yIIIBcuGFl8s"
      },
      "execution_count": 24,
      "outputs": []
    },
    {
      "cell_type": "code",
      "source": [
        "def SearchForAllSolutionsSampleSat():\n",
        "  # Creates the model and set solver\n",
        "  model = cp_model.CpModel()\n",
        "  solver = cp_model.CpSolver()\n",
        "\n",
        "  max_age = 100\n",
        "  num_constraints = 8\n",
        "\n",
        "  people = ['Annie', 'Betty', 'Carrie', 'Darla', 'Eve' ]\n",
        "\n",
        "  x = {i:model.NewIntVar(1,max_age,f\"x_{i}\") for i in people}\n",
        "\n",
        "  y = {i:model.NewBoolVar(f\"y_{i}\") for i in range(1,num_constraints+1)}\n",
        "\n",
        "  # All different ages\n",
        "  model.AddAllDifferent([x[i] for i in x.keys()])\n",
        "\n",
        "  # 1. Darla said to Betty: \"I'm nine years older than Eve.\"\n",
        "  model.Add(x['Darla'] < x['Betty']).OnlyEnforceIf(y[1])\n",
        "  model.Add(x['Darla'] > x['Betty']).OnlyEnforceIf(y[1].Not())\n",
        "  model.Add(x['Darla'] == x['Eve'] + 9).OnlyEnforceIf(y[1])\n",
        "  model.Add(x['Darla'] != x['Eve'] + 9).OnlyEnforceIf(y[1].Not())\n",
        "\n",
        "  # 2. Eve said to Betty: \"I'm seven years older than Annie.\"\n",
        "  model.Add(x['Eve'] < x['Betty']).OnlyEnforceIf(y[2])\n",
        "  model.Add(x['Eve'] > x['Betty']).OnlyEnforceIf(y[2].Not())\n",
        "  model.Add(x['Eve'] == x['Annie'] + 7).OnlyEnforceIf(y[2])\n",
        "  model.Add(x['Eve'] != x['Annie'] + 7).OnlyEnforceIf(y[2].Not())\n",
        "\n",
        "  # 3. Annie said to Betty: \"Your age is exactly 70% greater than mine.\"\n",
        "  model.Add(x['Annie'] < x['Betty']).OnlyEnforceIf(y[3])\n",
        "  model.Add(x['Annie'] > x['Betty']).OnlyEnforceIf(y[3].Not())\n",
        "  model.Add(10*x['Betty'] == 17*x['Annie']).OnlyEnforceIf(y[3])\n",
        "  model.Add(10*x['Betty'] != 17*x['Annie']).OnlyEnforceIf(y[3].Not())\n",
        "\n",
        "  # 4.  Betty said to Carrie: \"Eve is younger than you.\"\n",
        "  model.Add(x['Betty'] < x['Carrie']).OnlyEnforceIf(y[4])\n",
        "  model.Add(x['Betty'] > x['Carrie']).OnlyEnforceIf(y[4].Not())\n",
        "  model.Add(x['Eve'] < x['Carrie']).OnlyEnforceIf(y[4])\n",
        "  model.Add(x['Eve'] > x['Carrie']).OnlyEnforceIf(y[4].Not())\n",
        "\n",
        "  # 5.  Carrie said to Darla: \"The difference between our ages is six years.\"\n",
        "  model.Add(x['Carrie'] < x['Darla']).OnlyEnforceIf(y[5])\n",
        "  model.Add(x['Carrie'] > x['Darla']).OnlyEnforceIf(y[5].Not())\n",
        "  model.Add(x['Darla'] - x['Carrie'] == 6).OnlyEnforceIf(y[5])\n",
        "  model.Add(x['Darla'] - x['Carrie'] != 6).OnlyEnforceIf(y[5].Not())\n",
        "\n",
        "  # 6.  Carrie said to Annie: \"I'm ten years older than you.\"\n",
        "  model.Add(x['Carrie'] < x['Annie']).OnlyEnforceIf(y[6])\n",
        "  model.Add(x['Carrie'] > x['Annie']).OnlyEnforceIf(y[6].Not())\n",
        "  model.Add(x['Carrie'] == x['Annie'] + 10).OnlyEnforceIf(y[6])\n",
        "  model.Add(x['Carrie'] != x['Annie'] + 10).OnlyEnforceIf(y[6].Not())\n",
        "\n",
        "  # 7.  Carrie said to Annie: \"Betty is younger than Darla.\"\n",
        "  model.Add(x['Carrie'] < x['Annie']).OnlyEnforceIf(y[7])\n",
        "  model.Add(x['Carrie'] > x['Annie']).OnlyEnforceIf(y[7].Not())\n",
        "  model.Add(x['Betty'] < x['Darla']).OnlyEnforceIf(y[7])\n",
        "  model.Add(x['Betty'] > x['Darla']).OnlyEnforceIf(y[7].Not())\n",
        "\n",
        "  # 8. Betty said to Carrie: \"The difference between your age and Darla's is the same as the difference between Darla's and Eve's.\"\n",
        "  model.Add(x['Betty'] < x['Carrie']).OnlyEnforceIf(y[8])\n",
        "  model.Add(x['Betty'] > x['Carrie']).OnlyEnforceIf(y[8].Not())\n",
        "  model.Add(x['Carrie'] - x['Darla'] == x['Darla'] - x['Eve']).OnlyEnforceIf(y[8])\n",
        "  model.Add(x['Carrie'] - x['Darla'] != x['Darla'] - x['Eve']).OnlyEnforceIf(y[8].Not())\n",
        "\n",
        "  solution_printer = VarArraySolutionPrinter(x,y)\n",
        "\n",
        "  # Enumerate all solutions.\n",
        "  solver.parameters.enumerate_all_solutions = True\n",
        "\n",
        "  status = solver.Solve(model, solution_printer)\n",
        "\n",
        "  print(f\"Status = {solver.StatusName(status)}\")\n",
        "\n",
        "SearchForAllSolutionsSampleSat()"
      ],
      "metadata": {
        "id": "EOjG4X8nVoZN",
        "colab": {
          "base_uri": "https://localhost:8080/"
        },
        "outputId": "a9734ebf-0cb3-4a52-8c2c-3c4f73a2e7a7"
      },
      "execution_count": 53,
      "outputs": [
        {
          "output_type": "stream",
          "name": "stdout",
          "text": [
            "Solution 1\n",
            "[('Annie', 30), ('Betty', 51), ('Carrie', 55), ('Darla', 46), ('Eve', 37)]\n",
            "[(1, 1), (2, 1), (3, 1), (4, 1), (5, 0), (6, 0), (7, 0), (8, 1)]\n",
            "\n",
            "\n",
            "Status = OPTIMAL\n"
          ]
        }
      ]
    }
  ]
}