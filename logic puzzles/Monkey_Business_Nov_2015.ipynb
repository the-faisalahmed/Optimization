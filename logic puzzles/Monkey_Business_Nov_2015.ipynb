{
  "nbformat": 4,
  "nbformat_minor": 0,
  "metadata": {
    "colab": {
      "provenance": [],
      "authorship_tag": "ABX9TyNXImeNzol93IPdc+az21u6",
      "include_colab_link": true
    },
    "kernelspec": {
      "name": "python3",
      "display_name": "Python 3"
    },
    "language_info": {
      "name": "python"
    }
  },
  "cells": [
    {
      "cell_type": "markdown",
      "metadata": {
        "id": "view-in-github",
        "colab_type": "text"
      },
      "source": [
        "<a href=\"https://colab.research.google.com/github/the-faisalahmed/Optimization/blob/main/Monkey_Business_Nov_2015.ipynb\" target=\"_parent\"><img src=\"https://colab.research.google.com/assets/colab-badge.svg\" alt=\"Open In Colab\"/></a>"
      ]
    },
    {
      "cell_type": "markdown",
      "source": [
        "![](https://dmcommunity.org/wp-content/uploads/2015/10/4monkeys.jpg)\n",
        "\n",
        "[Here's](https://dmcommunity.org/challenge/challenge-nov-2015/) the link to the original post of this challenge.\n",
        "\n",
        "Mrs. Robinson’s 4th grade class took a field trip to the local zoo. The day was sunny and warm – a perfect day to spend at the zoo. The kids had a great time and the monkeys were voted the class favorite animal. The zoo had four monkeys – two males and two females. It was lunchtime for the monkeys and as the kids watched, each one ate a different fruit in their favorite resting place:\n",
        "\n",
        "1. Sam, who doesn’t like bananas, likes sitting on the grass\n",
        "2. The monkey who sat on the rock ate the apple. The monkey who ate the pear didn’t sit on the tree branch\n",
        "3. Anna sat by the stream but she didn’t eat the pear\n",
        "4. Harriet didn’t sit on the tree branch. Mike doesn’t like oranges.\n",
        "\n",
        "Question: Can you determine the name of each monkey, what kind of fruit each monkey ate, and where their favorite resting place was?"
      ],
      "metadata": {
        "id": "uuVDiHv2vxQY"
      }
    },
    {
      "cell_type": "code",
      "execution_count": 2,
      "metadata": {
        "id": "WFQ-44R-KMlS"
      },
      "outputs": [],
      "source": [
        "%%capture\n",
        "import sys\n",
        "import os\n",
        "\n",
        "if 'google.colab' in sys.modules:\n",
        "    !pip install idaes-pse --pre\n",
        "    !idaes get-extensions --to ./bin\n",
        "    os.environ['PATH'] += ':bin'\n",
        "\n",
        "!pip install pyomo\n",
        "from pyomo.environ import *\n",
        "from pyomo.opt import SolverFactory\n",
        "from pyomo.util.infeasible import log_infeasible_constraints\n",
        "from pyomo.opt import SolverStatus\n",
        "import matplotlib.pyplot as plt\n",
        "import numpy as np\n",
        "import pandas as pd\n",
        "import itertools\n",
        "from pyomo.contrib.latex_printer import latex_printer\n"
      ]
    },
    {
      "cell_type": "code",
      "source": [
        "model = ConcreteModel()\n",
        "\n",
        "\n",
        "model.I = ['Sam', 'Anna', 'Harriet', 'Mike']\n",
        "model.J = ['Bananas', 'Apples', 'Pears', 'Oranges']\n",
        "model.K = ['Grass', 'Rocks', 'Branches', 'Stream']\n",
        "\n",
        "model.X = Var(model.I, model.J, model.K, within = Binary)\n",
        "\n",
        "# Every monkey has a preference\n",
        "def con0_rule(model, i):\n",
        "  return sum(model.X[i,j,k] for j in model.J for k in model.K) == 1\n",
        "model.con0 = Constraint(model.I, rule = con0_rule)\n",
        "\n",
        "# Only one monkey prefers a certain fruit\n",
        "def con01_rule(model, j):\n",
        "  return sum(model.X[i,j,k] for i in model.I for k in model.K) == 1\n",
        "model.con01 = Constraint(model.J, rule = con01_rule)\n",
        "\n",
        "# Only one monkey prefers a certain seating area\n",
        "def con02_rule(model, k):\n",
        "  return sum(model.X[i,j,k] for i in model.I for j in model.J) == 1\n",
        "model.con02 = Constraint(model.K, rule = con02_rule)\n",
        "\n",
        "# Sam, who doesn’t like bananas, likes sitting on the grass\n",
        "def con1_rule(model):\n",
        "  return sum(model.X['Sam',j,'Grass'] for j in model.J) == 1\n",
        "model.con1 = Constraint(rule = con1_rule)\n",
        "\n",
        "# The monkey who sat on the rock ate the apple. The monkey who ate the pear didn’t sit on the tree branch\n",
        "def con2_rule(model):\n",
        "  return sum(model.X[i,'Apples','Rocks'] for i in model.I) == 1\n",
        "model.con2 = Constraint(rule = con2_rule)\n",
        "\n",
        "def con3_rule(model):\n",
        "  return sum(model.X[i,'Pears','Branches'] for i in model.I) == 0\n",
        "model.con3 = Constraint(rule = con3_rule)\n",
        "\n",
        "# Anna sat by the stream but she didn’t eat the pear\n",
        "\n",
        "def con4_rule(model):\n",
        "  return sum(model.X['Anna',j,'Stream'] for j in model.J if j != 'Pears') == 1\n",
        "model.con4 = Constraint(rule = con4_rule)\n",
        "\n",
        "# Harriet didn’t sit on the tree branch. Mike doesn’t like oranges.\n",
        "\n",
        "def con5_rule(model):\n",
        "  return sum(model.X['Harriet',j,'Branches'] for j in model.J) == 0\n",
        "model.con5 = Constraint(rule = con5_rule)\n",
        "\n",
        "def con6_rule(model):\n",
        "  return sum(model.X['Mike','Oranges',k] for k in model.K) == 0\n",
        "model.con6 = Constraint(rule = con6_rule)"
      ],
      "metadata": {
        "id": "rbTflyO1KXFX"
      },
      "execution_count": 23,
      "outputs": []
    },
    {
      "cell_type": "code",
      "source": [
        "# Solve model\n",
        "opt = SolverFactory('cbc')\n",
        "result = opt.solve(model)\n",
        "\n",
        "if (result.solver.status == SolverStatus.ok) and \\\n",
        "    (result.solver.termination_condition == TerminationCondition.optimal):\n",
        "    # Do something when the solution in optimal and feasible\n",
        "    print('Solution is Optimal')\n",
        "elif (result.solver.termination_condition == TerminationCondition.infeasible):\n",
        "    # Do something when model in infeasible\n",
        "    print('Solution is Infeasible')\n",
        "else:\n",
        "        # Something else is wrong\n",
        "    print(\"Solver Status:\",  result.solver.status)\n",
        "\n",
        "# Solve time\n",
        "print('Solve Time: ', result.solver.wallclock_time)"
      ],
      "metadata": {
        "id": "VtYjtjSKKQwK",
        "colab": {
          "base_uri": "https://localhost:8080/"
        },
        "outputId": "1f68fbd6-eddf-4189-9bca-260f2cf10b91"
      },
      "execution_count": 24,
      "outputs": [
        {
          "output_type": "stream",
          "name": "stdout",
          "text": [
            "Solution is Optimal\n",
            "Solve Time:  0.01\n"
          ]
        }
      ]
    },
    {
      "cell_type": "code",
      "source": [
        "x = model.X.extract_values()\n",
        "\n",
        "for i,j,k in x.keys():\n",
        "  if x[i,j,k] > 0:\n",
        "    print(\"{0} likes to eat {1} while sitting on the {2}.\".format(i,j,k))"
      ],
      "metadata": {
        "colab": {
          "base_uri": "https://localhost:8080/"
        },
        "id": "iY3vvoOgwG3Q",
        "outputId": "4d2dbb3d-f007-4cc3-a01d-51d768a463df"
      },
      "execution_count": 25,
      "outputs": [
        {
          "output_type": "stream",
          "name": "stdout",
          "text": [
            "Sam likes to eat Pears while sitting on the Grass.\n",
            "Anna likes to eat Oranges while sitting on the Stream.\n",
            "Harriet likes to eat Apples while sitting on the Rocks.\n",
            "Mike likes to eat Bananas while sitting on the Branches.\n"
          ]
        }
      ]
    }
  ]
}