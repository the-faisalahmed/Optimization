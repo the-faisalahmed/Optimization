{
  "nbformat": 4,
  "nbformat_minor": 0,
  "metadata": {
    "colab": {
      "provenance": [],
      "authorship_tag": "ABX9TyPLLy/wQmZrjyD7AuyGOcLL",
      "include_colab_link": true
    },
    "kernelspec": {
      "name": "python3",
      "display_name": "Python 3"
    },
    "language_info": {
      "name": "python"
    }
  },
  "cells": [
    {
      "cell_type": "markdown",
      "metadata": {
        "id": "view-in-github",
        "colab_type": "text"
      },
      "source": [
        "<a href=\"https://colab.research.google.com/github/the-faisalahmed/Optimization/blob/main/Spot_It.ipynb\" target=\"_parent\"><img src=\"https://colab.research.google.com/assets/colab-badge.svg\" alt=\"Open In Colab\"/></a>"
      ]
    },
    {
      "cell_type": "code",
      "source": [
        "%%capture\n",
        "import sys\n",
        "import os\n",
        "\n",
        "if 'google.colab' in sys.modules:\n",
        "    !pip install idaes-pse --pre\n",
        "    !idaes get-extensions --to ./bin\n",
        "    os.environ['PATH'] += ':bin'"
      ],
      "metadata": {
        "id": "hZrqFQBH6NxK"
      },
      "execution_count": null,
      "outputs": []
    },
    {
      "cell_type": "code",
      "execution_count": null,
      "metadata": {
        "id": "zre1DRUb5_Bn",
        "colab": {
          "base_uri": "https://localhost:8080/"
        },
        "outputId": "fa16afdd-98ca-4dd7-d26b-ece112d29ba2"
      },
      "outputs": [
        {
          "output_type": "stream",
          "name": "stdout",
          "text": [
            "Requirement already satisfied: pyomo in /usr/local/lib/python3.10/dist-packages (6.7.2)\n",
            "Requirement already satisfied: ply in /usr/local/lib/python3.10/dist-packages (from pyomo) (3.11)\n"
          ]
        }
      ],
      "source": [
        "!pip install pyomo\n",
        "from pyomo.environ import *\n",
        "from pyomo.opt import SolverFactory\n",
        "from pyomo.util.infeasible import log_infeasible_constraints\n",
        "import matplotlib.pyplot as plt\n",
        "import numpy as np\n",
        "import pandas as pd"
      ]
    },
    {
      "cell_type": "code",
      "source": [
        "def spot_it(N):\n",
        "    global model\n",
        "    model = ConcreteModel()\n",
        "\n",
        "    # Setting indices and variables\n",
        "    model.I = RangeSet(0,N**2 + N)\n",
        "    model.J = RangeSet(0,N**2 + N)\n",
        "    model.X = Var(model.I, model.J, domain = Binary)\n",
        "\n",
        "    # Rows should only have N+1 symbols\n",
        "    def cons_rule1(model, i):\n",
        "        return sum(model.X[(i,j)] for j in model.J) == N+1\n",
        "    model.cons1 = Constraint(model.I, rule = cons_rule1)\n",
        "\n",
        "    # Each 2 cards should only have 1 similar symbol\n",
        "    model.cons = ConstraintList()\n",
        "    for i in model.I:\n",
        "        for k in list(range(i+1,N**2+N+1)):\n",
        "            model.cons.add(sum(model.X[(i,j)]*model.X[(k,j)] for j in model.J) == 1)\n",
        "\n",
        "    model.Obj = Objective(expr= 1)\n",
        "\n",
        "    #from pyomo.contrib.latex_printer import latex_printer\n",
        "    #print(latex_printer(model))\n",
        "\n",
        "    # Solving\n",
        "    opt = SolverFactory('ipopt')\n",
        "    result = opt.solve(model)\n",
        "\n",
        "    # Checking Status\n",
        "    from pyomo.opt import SolverStatus\n",
        "    if (result.solver.status == SolverStatus.ok) and \\\n",
        "        (result.solver.termination_condition == TerminationCondition.optimal):\n",
        "        # Do something when the solution in optimal and feasible\n",
        "        print('Solution is Optimal')\n",
        "    elif (result.solver.termination_condition == TerminationCondition.infeasible):\n",
        "        # Do something when model in infeasible\n",
        "        print('Solution is Infeasible')\n",
        "    else:\n",
        "            # Something else is wrong\n",
        "        print(\"Solver Status:\",  result.solver.status)\n",
        "\n",
        "    # Solve time\n",
        "    print('Solve Time: ', result.solver.wallclock_time)\n",
        "\n",
        "    vals = []\n",
        "    for i,j in np.array(list(model.X)):\n",
        "        vals.append(model.X[(i,j)].value)\n",
        "    vals = np.reshape(vals,(N**2+N+1,N**2+N+1))\n",
        "    vals = vals*list(range(1,N**2+N+2))\n",
        "\n",
        "    answer = vals[vals>0]\n",
        "    answer = np.reshape(answer,(N**2+N+1,N+1))\n",
        "\n",
        "    print('Solution at N = ',N,'\\n',answer)"
      ],
      "metadata": {
        "id": "M2cIinXI6HGX"
      },
      "execution_count": null,
      "outputs": []
    },
    {
      "cell_type": "code",
      "source": [
        "spot_it(N=3)"
      ],
      "metadata": {
        "id": "n0YEwbXP6KS0",
        "colab": {
          "base_uri": "https://localhost:8080/"
        },
        "collapsed": true,
        "outputId": "214cef94-c7e0-48e8-fa89-fa9c287b0d1a"
      },
      "execution_count": null,
      "outputs": [
        {
          "output_type": "stream",
          "name": "stdout",
          "text": [
            "Solution is Optimal\n",
            "Solve Time:  <undefined>\n",
            "Solution at N =  3 \n",
            " [[ 1.  2. 12. 13.]\n",
            " [ 1.  7.  8. 11.]\n",
            " [ 4.  5. 11. 13.]\n",
            " [ 2.  5.  8. 10.]\n",
            " [ 7.  9. 10. 13.]\n",
            " [ 4.  8.  9. 12.]\n",
            " [ 2.  6.  9. 11.]\n",
            " [ 5.  6.  7. 12.]\n",
            " [ 3. 10. 11. 12.]\n",
            " [ 2.  3.  4.  7.]\n",
            " [ 1.  3.  5.  9.]\n",
            " [ 3.  6.  8. 13.]\n",
            " [ 1.  4.  6. 10.]]\n"
          ]
        }
      ]
    }
  ]
}
