{
  "nbformat": 4,
  "nbformat_minor": 0,
  "metadata": {
    "colab": {
      "provenance": [],
      "authorship_tag": "ABX9TyNKUKLinpM3gsOCzGPNq1Km",
      "include_colab_link": true
    },
    "kernelspec": {
      "name": "python3",
      "display_name": "Python 3"
    },
    "language_info": {
      "name": "python"
    }
  },
  "cells": [
    {
      "cell_type": "markdown",
      "metadata": {
        "id": "view-in-github",
        "colab_type": "text"
      },
      "source": [
        "<a href=\"https://colab.research.google.com/github/the-faisalahmed/Optimization/blob/main/Numbrix.ipynb\" target=\"_parent\"><img src=\"https://colab.research.google.com/assets/colab-badge.svg\" alt=\"Open In Colab\"/></a>"
      ]
    },
    {
      "cell_type": "code",
      "source": [
        "%%capture\n",
        "import sys\n",
        "import os\n",
        "\n",
        "if 'google.colab' in sys.modules:\n",
        "    !pip install idaes-pse --pre\n",
        "    !idaes get-extensions --to ./bin\n",
        "    os.environ['PATH'] += ':bin'\n",
        "\n",
        "!pip install pyomo\n",
        "from pyomo.environ import *\n",
        "from pyomo.opt import SolverFactory\n",
        "from pyomo.util.infeasible import log_infeasible_constraints\n",
        "from pyomo.opt import SolverStatus\n",
        "import matplotlib.pyplot as plt\n",
        "import numpy as np\n",
        "import pandas as pd\n",
        "import itertools"
      ],
      "metadata": {
        "id": "cZxFx8WhjbsJ"
      },
      "execution_count": null,
      "outputs": []
    },
    {
      "cell_type": "markdown",
      "source": [
        "# **Numbrix Optimization Problem**\n",
        "\n",
        "**Numbrix** is a logic puzzle slightly similar to Sudoku. It depicts a n$\\times$n board with some numbers already in place ranging from 1 to n.\n",
        "\n",
        "The goal of the game is as follows:\n",
        "- On the empty spaces of the grid, place a number from 1 to N  (where N = n$\\times$n). Each number must be used exactly once.\n",
        "- Each number must be connected to the next consecutive number either horizontally or vertically, but never diagonally (**Hidato** allows diagonal moves). There are no skipped numbers between consecutive ones.\n",
        "- If you can draw a straight line path from 1 to N, you win!\n",
        "\n",
        "### Optimization\n",
        "\n",
        "This process can be optimized using constraint programming. If we model a certain Numbrix board with some numbers already given to us, we can specify the variables (numbers to place in each grid) and constraints (goals mentioned above) and find an optimal solution. We use constraint progamming in this scenario as there is no objective function to minimize or maximize.\n",
        "\n",
        "Consider the following 9$\\times$9 numbrix board provided by https://parade.com/numbrix/."
      ],
      "metadata": {
        "id": "_Q8ZvS_rnoZM"
      }
    },
    {
      "cell_type": "code",
      "source": [
        "#Size of cols, rows\n",
        "n = 9\n",
        "N = n*n"
      ],
      "metadata": {
        "id": "r8yK9KZ7CrKB"
      },
      "execution_count": null,
      "outputs": []
    },
    {
      "cell_type": "code",
      "source": [
        "#Inputing preset numbers\n",
        "\n",
        "row1 = [1,41,47,53]\n",
        "row2 = [7,45,51]\n",
        "row3 = [9,63]\n",
        "row4 = [15,81]\n",
        "row5 = [21,61]\n",
        "row6 = [19,35,79]\n",
        "row7 = [25,31,69,73]\n",
        "\n",
        "v = {}\n",
        "\n",
        "counter = 0\n",
        "for i in [2,4,6,8]:\n",
        "  v[i,2] = row1[counter]\n",
        "  v[i,8] = row7[counter]\n",
        "  counter += 1\n",
        "\n",
        "counter = 0\n",
        "for i in [3,5,7]:\n",
        "  v[i,3] = row2[counter]\n",
        "  v[i,7] = row6[counter]\n",
        "  counter += 1\n",
        "\n",
        "counter = 0\n",
        "for i in [2,8]:\n",
        "  v[i,4] = row3[counter]\n",
        "  v[i,6] = row5[counter]\n",
        "  counter += 1\n",
        "\n",
        "counter = 0\n",
        "for i in [3,7]:\n",
        "  v[i,5] = row4[counter]\n",
        "  counter += 1"
      ],
      "metadata": {
        "id": "7mOOr4BgXr15"
      },
      "execution_count": null,
      "outputs": []
    },
    {
      "cell_type": "code",
      "source": [
        "x = {}\n",
        "for i,j in list(itertools.product(range(1,n+1),range(1,n+1))):\n",
        "  x[i,j] = 0\n",
        "\n",
        "for i,j in v:\n",
        "  x[i,j] = v[i,j]\n",
        "\n",
        "for i,j in x:\n",
        "  if x[i,j] == 0:\n",
        "    plt.scatter(i,j,marker = 's',s=610, linewidth=1,edgecolor='black', c=['#DCDCDC'])\n",
        "  else:\n",
        "    plt.scatter(i,j,marker = 's',s=610, linewidth=1,edgecolor='black', c=['#ADD8E6'])\n",
        "    plt.text(i-0.2,j-0.15,x[i,j],fontweight='bold',fontsize='12')\n",
        "\n",
        "#plt.axis('off')\n",
        "plt.show()"
      ],
      "metadata": {
        "id": "VTgDIDBV9fqP"
      },
      "execution_count": null,
      "outputs": []
    },
    {
      "cell_type": "markdown",
      "source": [
        "# **Formulating Optimization Problem**\n",
        "\n",
        "### **Sets**\n",
        "- $ i \\in I = \\{1,2,3,\\ldots n\\} \\quad$ Set of rows beginning from the bottom of the board.\n",
        "- $ j \\in J = \\{1,2,3,\\ldots n\\} \\quad$ Set of columns beginning from the left of the board.\n",
        "- $ k \\in K = \\{1,2,3,\\ldots n \\times n\\} \\quad$ Set of all numbers allowed in grid.\n",
        "\n",
        "### **Variables**\n",
        "- $ X_{i,j,k} \\in \\{0,1\\} \\quad$ Binary decision variable.\n",
        "----\n",
        "----\n",
        "\\begin{align}\n",
        "    & \\min\n",
        "    & & 1 &  \\\\\n",
        "    & \\text{s.t.}\n",
        "    & & \\sum_{ i \\in I  } \\sum_{ j \\in J  } X_{i,j,k} = 1 &  \\qquad \\forall k \\in K  \\tag{1} \\\\\n",
        "    &&& \\sum_{ k \\in K  } X_{i,j,k} = 1 &  \\qquad \\forall i,j \\in I \\times J  \\tag{2} \\\\\n",
        "      &&& f(x) = \\begin{cases}\n",
        "          X_{i,j,k} - X_{i+1,j,k+1} - X_{i,j+1,k+1} \\leq 0, && (i,j) = (1,1) \\\\\n",
        "          X_{i,j,k} - X_{i-1,j,k+1} - X_{i,j+1,k+1} \\leq 0, && (i,j) = (n,1) \\\\\n",
        "          X_{i,j,k} - X_{i,j-1,k+1} - X_{i+1,j,k+1} \\leq 0, && (i,j) = (1,n) \\\\\n",
        "          X_{i,j,k} - X_{i,j-1,k+1} - X_{i-1,j,k+1} \\leq 0, && (i,j) = (n,n) \\\\\n",
        "      \\end{cases}\n",
        "    &  \\qquad \\forall (i,j) \\in [(1,1),(n,1),(1,n),(n,n)] \\tag{3}\n",
        "    \\\\\n",
        "      &&& g(x) = \\begin{cases}\n",
        "      X_{i,j,k} - X_{i-1,j,k+1} - X_{i+1,j,k+1} - X_{i,j+1,k+1} \\leq 0, && (1 < i < n) ∧ j = 1\\\\\n",
        "      X_{i,j,k} - X_{i-1,j,k+1} - X_{i+1,j,k+1} - X_{i,j-1,k+1} \\leq 0, && (1 < i < n) ∧ j = n \\\\\n",
        "      X_{i,j,k} - X_{i,j-1,k+1} - X_{i,j+1,k+1} - X_{i+1,j,k+1} \\leq 0, && (1 < j < n) ∧ i = 1\\\\\n",
        "      X_{i,j,k} - X_{i,j-1,k+1} - X_{i,j+1,k+1} - X_{i-1,j,k+1} \\leq 0, && (1 < j < n) ∧ i = n \\\\\n",
        "      \\end{cases}\n",
        "    &  \\qquad \\forall i,j \\in I \\times J \\tag{4} \\\\\n",
        "      &&& h(x) = \\begin{cases}\n",
        "      X_{i,j,k} - X_{i-1,j,k+1} - X_{i+1,j,k+1} - X_{i,j-1,k+1} - X_{i,j+1,k+1} \\leq 0, && (1 < i < n) ∧ (1 < j < n)\\\\\n",
        "      \\end{cases}\n",
        "    &  \\qquad \\forall i,j \\in I \\times J \\tag{5} \\\\\n",
        "    & \\text{w.b.}\n",
        "    & & X & \\qquad \\in \\left\\{ 0 , 1 \\right \\}  \\tag{6}\n",
        "\\end{align}\n",
        "\n",
        "Because this problem does not need an objective function, we fix the objective function to '1'.\n",
        "\n",
        "Below are the explanations of each constraint:\n",
        "- (1) specifies that all values from 1 through N should be used exactly once on the board.\n",
        "- (2) specifies that for each space on the board, there should only be one number selected.\n",
        "- (3) considers the corner spaces on the board and looks the spots adjacent to them both horizontally and vertically. It states that at most 1 of those adjacent spots should contain the next number greater than the number in the corner.\n",
        "- (4) uses the same technique as (3) but considers the bottom row (first 2 equations) and top row (second two equations) excluding the corners.\n",
        "- (5) uses the same technique as (3) but considers the interior points, excluding all edge points.\n",
        "- (6) states that X is a binary variable."
      ],
      "metadata": {
        "id": "7qRNy1kkldiD"
      }
    },
    {
      "cell_type": "code",
      "source": [
        "model = ConcreteModel()\n",
        "model.I = RangeSet(1,n)\n",
        "model.J = RangeSet(1,n)\n",
        "model.K = RangeSet(1,N)\n",
        "model.X = Var(model.I, model.J, model.K, domain = Binary)\n",
        "\n",
        "#Fixing given values in Numbrix grid\n",
        "for i,j in v:\n",
        "  model.X[(i,j,v[i,j])].fix(1)\n",
        "\n",
        "#All values should be used once\n",
        "def c_rule1(model,k):\n",
        "  return sum(model.X[(i,j,k)] for i in model.I for j in model.J) == 1\n",
        "model.c1 = Constraint(model.K, rule = c_rule1)\n",
        "\n",
        "#All squares have only one value\n",
        "def c_rule2(model,i,j):\n",
        "  return sum(model.X[(i,j,k)] for k in model.K) == 1\n",
        "model.c2 = Constraint(model.I,model.J, rule = c_rule2)\n",
        "\n",
        "# Corners must be sequential\n",
        "def snake(model,i,j,k):\n",
        "    #Corners\n",
        "    if (i,j) == (1,1):\n",
        "      return model.X[(i,j),k] - model.X[(i,j+1),k+1] - model.X[(i+1,j),k+1] <= 0\n",
        "    elif (i,j) == (n,1):\n",
        "      return model.X[(i,j),k] - model.X[(i-1,j),k+1] - model.X[(i,j+1),k+1] <= 0\n",
        "    elif (i,j) == (1,n):\n",
        "      return model.X[(i,j),k] - model.X[(i,j-1),k+1] - model.X[(i+1,j),k+1] <= 0\n",
        "    elif (i,j) == (n,n):\n",
        "      return model.X[(i,j),k] - model.X[(i,j-1),k+1] - model.X[(i-1,j),k+1] <= 0\n",
        "    #Bottom row\n",
        "    elif 1 < i < n and j == 1:\n",
        "      return model.X[(i,j),k] - model.X[(i-1,j),k+1] - model.X[(i+1,j),k+1] - model.X[(i,j+1),k+1] <= 0\n",
        "    #Top row\n",
        "    elif 1 < i < n and j == n:\n",
        "      return model.X[(i,j),k] - model.X[(i-1,j),k+1] - model.X[(i+1,j),k+1] - model.X[(i,j-1),k+1] <= 0\n",
        "    #Left edge\n",
        "    elif 1 < j < n and i == 1:\n",
        "      return model.X[(i,j),k] - model.X[(i,j-1),k+1] - model.X[(i,j+1),k+1] - model.X[(i+1,j),k+1] <= 0\n",
        "    #Right edge\n",
        "    elif 1 < j < n and i == n:\n",
        "      return model.X[(i,j),k] - model.X[(i,j-1),k+1] - model.X[(i,j+1),k+1] - model.X[(i-1,j),k+1] <= 0\n",
        "    #Interior\n",
        "    elif 1 < i < n and 1 < j < n:\n",
        "      return model.X[(i,j),k] - model.X[(i+1,j),k+1] - model.X[(i-1,j),k+1] - model.X[(i,j+1),k+1] - model.X[(i,j-1),k+1] <= 0\n",
        "    else: return Constraint.Skip()\n",
        "model.snake = Constraint(list(itertools.product(range(1,10),range(1,10))),range(1,N),rule = snake)\n",
        "\n",
        "model.obj = Objective(expr=1)"
      ],
      "metadata": {
        "id": "D2Wws4bkai_j"
      },
      "execution_count": null,
      "outputs": []
    },
    {
      "cell_type": "code",
      "source": [
        "from pyomo.contrib.latex_printer import latex_printer\n",
        "\n",
        "#Optimization problem in latex form\n",
        "\n",
        "#latex_printer(model)"
      ],
      "metadata": {
        "id": "CxC0aBVWpXM2"
      },
      "execution_count": null,
      "outputs": []
    },
    {
      "cell_type": "code",
      "source": [
        "# Solve model\n",
        "opt = SolverFactory('cbc')\n",
        "result = opt.solve(model)\n",
        "\n",
        "if (result.solver.status == SolverStatus.ok) and \\\n",
        "    (result.solver.termination_condition == TerminationCondition.optimal):\n",
        "    # Do something when the solution in optimal and feasible\n",
        "    print('Solution is Optimal')\n",
        "elif (result.solver.termination_condition == TerminationCondition.infeasible):\n",
        "    # Do something when model in infeasible\n",
        "    print('Solution is Infeasible')\n",
        "else:\n",
        "        # Something else is wrong\n",
        "    print(\"Solver Status:\",  result.solver.status)\n",
        "\n",
        "# Solve time\n",
        "print('Solve Time: ', result.solver.wallclock_time)"
      ],
      "metadata": {
        "id": "KIx04U86EOcE"
      },
      "execution_count": null,
      "outputs": []
    },
    {
      "cell_type": "code",
      "source": [
        "from IPython import display\n",
        "from time import sleep\n",
        "!mkdir new_folder\n",
        "\n",
        "#Reshaping\n",
        "x_vals = pd.Series(model.X.extract_values(), name='vals')\n",
        "g = x_vals[x_vals>0]\n",
        "p = g.reset_index()\n",
        "b = np.reshape(p['level_2'],(n,n), order = 'F')\n",
        "np.flip(b,0)\n",
        "h = {}\n",
        "for i in range(1,82):\n",
        "  h[np.where(b==i)[1][0]+1,np.where(b==i)[0][0]+1] = i\n",
        "t = np.reshape(list(h.keys()),(N,2)).T\n",
        "\n",
        "#Plotting snake\n",
        "plt.axis('off')\n",
        "for i,j in x:\n",
        "  if x[i,j] == 0:\n",
        "    plt.scatter(i,j,marker = 's',s=610, linewidth=1,edgecolor='black', c=['#DCDCDC'])\n",
        "  else:\n",
        "    plt.scatter(i,j,marker = 's',s=610, linewidth=1,edgecolor='black', c=['#ADD8E6'])\n",
        "    plt.text(i-0.2,j-0.15,x[i,j],fontweight='bold',fontsize='12')\n",
        "\n",
        "for i in range(1,len(t[0])+1):\n",
        "  plt.plot(t[0][:i],t[1][:i],'-bo',c='r', lw=2);\n",
        "  if x[(list(h.keys())[i-1][0],list(h.keys())[i-1][1])] == 0:\n",
        "    #plt.scatter(list(h.keys())[i-1][0]-0.2,list(h.keys())[i-1][1]-0.15,marker = 's',s=610, linewidth=1,edgecolor='black', c=['#ADD8E6'])\n",
        "    plt.text(list(h.keys())[i-1][0]-0.2,list(h.keys())[i-1][1]-0.15,i,fontweight='bold',fontsize='12')\n",
        "  else: continue\n",
        "  display.display(plt.gcf())\n",
        "  #plt.savefig('/content/new_folder/abc%d_%s'%(i,'pic.jpg'))\n",
        "  display.clear_output(wait=True)\n",
        "  sleep(0.02)\n",
        "plt.show();"
      ],
      "metadata": {
        "id": "MOTpxzONkKuY"
      },
      "execution_count": null,
      "outputs": []
    }
  ]
}