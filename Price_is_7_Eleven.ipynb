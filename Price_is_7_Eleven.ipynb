{
  "nbformat": 4,
  "nbformat_minor": 0,
  "metadata": {
    "colab": {
      "provenance": [],
      "authorship_tag": "ABX9TyMQB8L0Jxg27xQKoyLOUF45",
      "include_colab_link": true
    },
    "kernelspec": {
      "name": "python3",
      "display_name": "Python 3"
    },
    "language_info": {
      "name": "python"
    }
  },
  "cells": [
    {
      "cell_type": "markdown",
      "metadata": {
        "id": "view-in-github",
        "colab_type": "text"
      },
      "source": [
        "<a href=\"https://colab.research.google.com/github/the-faisalahmed/Optimization/blob/main/Price_is_7_Eleven.ipynb\" target=\"_parent\"><img src=\"https://colab.research.google.com/assets/colab-badge.svg\" alt=\"Open In Colab\"/></a>"
      ]
    },
    {
      "cell_type": "code",
      "execution_count": null,
      "metadata": {
        "id": "WFQ-44R-KMlS"
      },
      "outputs": [],
      "source": [
        "%%capture\n",
        "import sys\n",
        "import os\n",
        "\n",
        "if 'google.colab' in sys.modules:\n",
        "    !pip install idaes-pse --pre\n",
        "    !idaes get-extensions --to ./bin\n",
        "    os.environ['PATH'] += ':bin'\n",
        "\n",
        "!pip install pyomo\n",
        "from pyomo.environ import *\n",
        "from pyomo.opt import SolverFactory\n",
        "from pyomo.util.infeasible import log_infeasible_constraints\n",
        "from pyomo.opt import SolverStatus"
      ]
    },
    {
      "cell_type": "markdown",
      "source": [
        "![](https://encrypted-tbn0.gstatic.com/images?q=tbn:ANd9GcR_d5DMKx2jw2gURsqJKD2p3jUQvB8nNPmjvP42FeHNDZMew54-hKmKbfrN3cwIUBS4VCk&usqp=CAU)\n",
        "\n",
        "[Link](https://matmod.ch/blog/2024/03/27/price-is-7-eleven-seveneleven/) to the original problem.\n",
        "\n",
        "“One day a customer arrived at a 7-Eleven shop and selected four items. He then approached the counter to pay for these items. The salesman took out his calculator, pressed a few buttons, and said: “The total price is $\\$7.11$.” “Why?” said the customer, who was amazed by this coincidence. “Do I have to pay $\\$7.11$ because the name of the shop is 7-Eleven?” “Of course not!” replied the salesman. “I have multiplied the prices of these four items and I have given you the result!” “Why did you multiply these numbers?” asked the surprised customer. “You should have added them to get the total price!” “Oh, yes, I’m sorry,” the salesman said. “I have a terrible headache and pressed the wrong button!” Then the salesman repeated all the calculations (i.e., he added the prices of these four items), but to both of their great surprise, the total was still $\\$7.11$. What are the prices of these four items? Believe it or not, there is a unique solution to this problem…”"
      ],
      "metadata": {
        "id": "i0EJojdOu7FA"
      }
    },
    {
      "cell_type": "code",
      "source": [
        "def SolveModel(model, solver):\n",
        "  # Solve model\n",
        "  opt = SolverFactory(solver)\n",
        "  result = opt.solve(model)\n",
        "\n",
        "  if (result.solver.status == SolverStatus.ok) and \\\n",
        "      (result.solver.termination_condition == TerminationCondition.optimal):\n",
        "      # Do something when the solution in optimal and feasible\n",
        "      print('Solution is Optimal')\n",
        "  elif (result.solver.termination_condition == TerminationCondition.infeasible):\n",
        "      # Do something when model in infeasible\n",
        "      print('Solution is Infeasible')\n",
        "  else:\n",
        "          # Something else is wrong\n",
        "      print(\"Solver Status:\",  result.solver.status)\n",
        "\n",
        "  # Solve time\n",
        "  print('Solve Time: ', result.solver.wallclock_time)"
      ],
      "metadata": {
        "id": "VtYjtjSKKQwK"
      },
      "execution_count": null,
      "outputs": []
    },
    {
      "cell_type": "code",
      "source": [
        "model = ConcreteModel()\n",
        "\n",
        "model.I = RangeSet(4)\n",
        "model.X = Var(model.I, within = NonNegativeReals)\n",
        "\n",
        "model.con1 = Constraint(expr = sum(model.X[i] for i in model.I) == 7.11)\n",
        "\n",
        "model.con2 = Constraint(expr = prod(model.X[i] for i in model.I) == 7.11)\n",
        "\n",
        "SolveModel(model, 'ipopt')\n",
        "# SolveModel(model, 'bonmin')\n",
        "# SolveModel(model, 'couenne')"
      ],
      "metadata": {
        "id": "rbTflyO1KXFX",
        "colab": {
          "base_uri": "https://localhost:8080/"
        },
        "outputId": "1243b1d5-668a-487e-ded9-8a0b8fce496c"
      },
      "execution_count": null,
      "outputs": [
        {
          "output_type": "stream",
          "name": "stdout",
          "text": [
            "Solution is Optimal\n",
            "Solve Time:  <undefined>\n"
          ]
        }
      ]
    },
    {
      "cell_type": "code",
      "source": [
        "sol = model.X.extract_values()\n",
        "print(sol)\n",
        "\n",
        "print(\"Sum of the prices is {}.\".format(sum(sol.values())))\n",
        "print(\"Product of the prices is {}.\".format(prod(sol.values())))"
      ],
      "metadata": {
        "id": "RPmE639NE7UG",
        "colab": {
          "base_uri": "https://localhost:8080/"
        },
        "outputId": "59c87fce-50a5-40fe-9dc0-aeb734d765eb"
      },
      "execution_count": null,
      "outputs": [
        {
          "output_type": "stream",
          "name": "stdout",
          "text": [
            "{1: 2.121946750306794, 2: 2.1219467704343558, 3: 2.121946779237343, 4: 0.7441597000215084}\n",
            "Sum of the prices is 7.11.\n",
            "Product of the prices is 7.11.\n"
          ]
        }
      ]
    }
  ]
}