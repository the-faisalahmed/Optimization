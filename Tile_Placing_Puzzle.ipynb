{
  "nbformat": 4,
  "nbformat_minor": 0,
  "metadata": {
    "colab": {
      "provenance": [],
      "authorship_tag": "ABX9TyN0RoUhHMoeq60uAkEkhtqu",
      "include_colab_link": true
    },
    "kernelspec": {
      "name": "python3",
      "display_name": "Python 3"
    },
    "language_info": {
      "name": "python"
    }
  },
  "cells": [
    {
      "cell_type": "markdown",
      "metadata": {
        "id": "view-in-github",
        "colab_type": "text"
      },
      "source": [
        "<a href=\"https://colab.research.google.com/github/the-faisalahmed/Optimization/blob/main/Tile_Placing_Puzzle.ipynb\" target=\"_parent\"><img src=\"https://colab.research.google.com/assets/colab-badge.svg\" alt=\"Open In Colab\"/></a>"
      ]
    },
    {
      "cell_type": "code",
      "execution_count": null,
      "metadata": {
        "id": "G3u-dCzWVXTf",
        "collapsed": true
      },
      "outputs": [],
      "source": [
        "!pip install ortools\n",
        "from ortools.sat.python import cp_model"
      ]
    },
    {
      "cell_type": "markdown",
      "source": [
        "![](data:image/jpeg;base64,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)\n",
        "\n",
        "[Link](https://matmod.ch/blog/2024/02/20/tile-placing-puzzle-math17/) to the original problem. I've tweaked the original problem slightly to illustrate different variants and solutions.\n",
        "\n",
        "Given a square board of size 4$×$4 cells (or possibly $n×n$ cells), the game is to place tiles (pieces) on the cells. If a tile is placed on a cell then we say that the cell is “occupied” otherwise it is “vacant”. The goal is to place as many tiles on the square board as possible in a way that the sum of all vacant cells on the horizontal, vertical and the two diagonal lines for a occupied cell is exactly $m$."
      ],
      "metadata": {
        "id": "z4qsrjAjZ78j"
      }
    },
    {
      "cell_type": "code",
      "source": [
        "n = 4\n",
        "m = 6\n",
        "\n",
        "# Function that returns all horizontal, vertical and diagonal tiles of a certain tile\n",
        "def pos_tiles(i,j,n):\n",
        "  ## vertical\n",
        "  tiles1 = [(i,b) for b in range(n) if (i,b) != (i,j) and (i,b) in x.keys()]\n",
        "\n",
        "  ## horizontal\n",
        "  tiles2 = [(a,j) for a in range(n) if (a,j) != (i,j) and (a,j) in x.keys()]\n",
        "\n",
        "  ## diagonal\n",
        "  tiles3 = []\n",
        "  for k in range(n):\n",
        "    if (i+k,j+k) != (i,j) and (i+k,j+k) in x.keys():\n",
        "      tiles3.append((i+k,j+k))\n",
        "    if (i-k,j-k) != (i,j) and (i-k,j-k) in x.keys():\n",
        "      tiles3.append((i-k,j-k))\n",
        "    if (i-k,j+k) != (i,j) and (i-k,j+k) in x.keys():\n",
        "      tiles3.append((i-k,j+k))\n",
        "    if (i+k,j-k) != (i,j) and (i+k,j-k) in x.keys():\n",
        "      tiles3.append((i+k,j-k))\n",
        "\n",
        "  tiles = tiles1 + tiles2 + tiles3\n",
        "\n",
        "  return tiles\n",
        "\n",
        "# Creates the model and set solver\n",
        "model = cp_model.CpModel()\n",
        "solver = cp_model.CpSolver()\n",
        "\n",
        "x = {(i,j):model.NewBoolVar(f\"x_{i}_{j}\") for i in range(n) for j in range(n)}\n",
        "\n",
        "for (i,j),v in x.items():\n",
        "\n",
        "  # Retreiving possible tiles\n",
        "  tiles = pos_tiles(i,j,n)\n",
        "\n",
        "  # Storing the number of tiles\n",
        "  number = len(tiles)\n",
        "\n",
        "  # The sum of tiles that are occupied is equal to the number of possible tiles - m vacant tiles\n",
        "  # This is also only enforced if the specific tile (v) is equal to 1\n",
        "  model.Add(sum(x[k] for k in tiles) == number - m).OnlyEnforceIf(v)\n",
        "\n",
        "# Maximize the total number of chosen tiles\n",
        "model.maximize(sum(x[i,j] for i in range(n) for j in range(n)))\n",
        "\n",
        "# Viewing the status of the solver\n",
        "status = solver.Solve(model)\n",
        "print(f\"Status = {solver.StatusName(status)}\")\n",
        "\n",
        "# Storing solution\n",
        "sol = [(i,j) for (i,j) in x.keys() if solver.value(x[i,j]) == 1]\n",
        "#sol"
      ],
      "metadata": {
        "id": "EOjG4X8nVoZN",
        "colab": {
          "base_uri": "https://localhost:8080/",
          "height": 217
        },
        "outputId": "8d9f307a-6560-4342-ac9e-e4fcd56f246a"
      },
      "execution_count": 1,
      "outputs": [
        {
          "output_type": "error",
          "ename": "NameError",
          "evalue": "name 'cp_model' is not defined",
          "traceback": [
            "\u001b[0;31m---------------------------------------------------------------------------\u001b[0m",
            "\u001b[0;31mNameError\u001b[0m                                 Traceback (most recent call last)",
            "\u001b[0;32m<ipython-input-1-35f59747b8ea>\u001b[0m in \u001b[0;36m<cell line: 29>\u001b[0;34m()\u001b[0m\n\u001b[1;32m     27\u001b[0m \u001b[0;34m\u001b[0m\u001b[0m\n\u001b[1;32m     28\u001b[0m \u001b[0;31m# Creates the model and set solver\u001b[0m\u001b[0;34m\u001b[0m\u001b[0;34m\u001b[0m\u001b[0m\n\u001b[0;32m---> 29\u001b[0;31m \u001b[0mmodel\u001b[0m \u001b[0;34m=\u001b[0m \u001b[0mcp_model\u001b[0m\u001b[0;34m.\u001b[0m\u001b[0mCpModel\u001b[0m\u001b[0;34m(\u001b[0m\u001b[0;34m)\u001b[0m\u001b[0;34m\u001b[0m\u001b[0;34m\u001b[0m\u001b[0m\n\u001b[0m\u001b[1;32m     30\u001b[0m \u001b[0msolver\u001b[0m \u001b[0;34m=\u001b[0m \u001b[0mcp_model\u001b[0m\u001b[0;34m.\u001b[0m\u001b[0mCpSolver\u001b[0m\u001b[0;34m(\u001b[0m\u001b[0;34m)\u001b[0m\u001b[0;34m\u001b[0m\u001b[0;34m\u001b[0m\u001b[0m\n\u001b[1;32m     31\u001b[0m \u001b[0;34m\u001b[0m\u001b[0m\n",
            "\u001b[0;31mNameError\u001b[0m: name 'cp_model' is not defined"
          ]
        }
      ]
    },
    {
      "cell_type": "code",
      "source": [
        "import matplotlib.pyplot as plt\n",
        "\n",
        "s = 900\n",
        "\n",
        "for i,j in x.keys():\n",
        "  if (i,j) in sol:\n",
        "    plt.scatter(i,j, marker='s', s=s, c= 'k');\n",
        "  else:\n",
        "    plt.scatter(i,j, marker='s', s=s, c = 'w', edgecolor='k');\n",
        "\n",
        "plt.xticks(range(-2,n+2))\n",
        "plt.yticks(range(-2,n+2))\n",
        "plt.axis('off');"
      ],
      "metadata": {
        "colab": {
          "base_uri": "https://localhost:8080/",
          "height": 406
        },
        "id": "_y0_Y5ezU4lL",
        "outputId": "b9b11de5-9919-4762-9420-15f7c206cc09"
      },
      "execution_count": null,
      "outputs": [
        {
          "output_type": "display_data",
          "data": {
            "text/plain": [
              "<Figure size 640x480 with 1 Axes>"
            ],
            "image/png": "[encoded data removed]"
          },
          "metadata": {}
        }
      ]
    }
  ]
}