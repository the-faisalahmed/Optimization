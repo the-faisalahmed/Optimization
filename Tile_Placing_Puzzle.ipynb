{
  "nbformat": 4,
  "nbformat_minor": 0,
  "metadata": {
    "colab": {
      "provenance": [],
      "authorship_tag": "ABX9TyNnMO6O9MP9HuyJCfpx3p2M",
      "include_colab_link": true
    },
    "kernelspec": {
      "name": "python3",
      "display_name": "Python 3"
    },
    "language_info": {
      "name": "python"
    }
  },
  "cells": [
    {
      "cell_type": "markdown",
      "metadata": {
        "id": "view-in-github",
        "colab_type": "text"
      },
      "source": [
        "<a href=\"https://colab.research.google.com/github/the-faisalahmed/Optimization/blob/main/Tile_Placing_Puzzle.ipynb\" target=\"_parent\"><img src=\"https://colab.research.google.com/assets/colab-badge.svg\" alt=\"Open In Colab\"/></a>"
      ]
    },
    {
      "cell_type": "code",
      "execution_count": null,
      "metadata": {
        "id": "G3u-dCzWVXTf",
        "collapsed": true
      },
      "outputs": [],
      "source": [
        "!pip install ortools\n",
        "from ortools.sat.python import cp_model"
      ]
    },
    {
      "cell_type": "markdown",
      "source": [
        "[Link](https://matmod.ch/blog/2024/02/20/tile-placing-puzzle-math17/) to the original problem. I've tweaked the original problem slightly to illustrate different variants and solutions.\n",
        "\n",
        "Given a square board of size 4$×$4 cells (or possibly $n×n$ cells), the game is to place tiles (pieces) on the cells. If a tile is placed on a cell then we say that the cell is “occupied” otherwise it is “vacant”. The goal is to place as many tiles on the square board as possible in a way that the sum of all vacant cells on the horizontal, vertical and the two diagonal lines for a occupied cell is exactly $m$."
      ],
      "metadata": {
        "id": "z4qsrjAjZ78j"
      }
    },
    {
      "cell_type": "code",
      "source": [
        "n = 4\n",
        "m = 6\n",
        "\n",
        "# Function that returns all horizontal, vertical and diagonal tiles of a certain tile\n",
        "def pos_tiles(i,j,n):\n",
        "  ## vertical\n",
        "  tiles1 = [(i,b) for b in range(n) if (i,b) != (i,j) and (i,b) in x.keys()]\n",
        "\n",
        "  ## horizontal\n",
        "  tiles2 = [(a,j) for a in range(n) if (a,j) != (i,j) and (a,j) in x.keys()]\n",
        "\n",
        "  ## diagonal\n",
        "  tiles3 = []\n",
        "  for k in range(n):\n",
        "    if (i+k,j+k) != (i,j) and (i+k,j+k) in x.keys():\n",
        "      tiles3.append((i+k,j+k))\n",
        "    if (i-k,j-k) != (i,j) and (i-k,j-k) in x.keys():\n",
        "      tiles3.append((i-k,j-k))\n",
        "    if (i-k,j+k) != (i,j) and (i-k,j+k) in x.keys():\n",
        "      tiles3.append((i-k,j+k))\n",
        "    if (i+k,j-k) != (i,j) and (i+k,j-k) in x.keys():\n",
        "      tiles3.append((i+k,j-k))\n",
        "\n",
        "  tiles = tiles1 + tiles2 + tiles3\n",
        "\n",
        "  return tiles\n",
        "\n",
        "# Creates the model and set solver\n",
        "model = cp_model.CpModel()\n",
        "solver = cp_model.CpSolver()\n",
        "\n",
        "x = {(i,j):model.NewBoolVar(f\"x_{i}_{j}\") for i in range(n) for j in range(n)}\n",
        "\n",
        "for (i,j),v in x.items():\n",
        "\n",
        "  # Retreiving possible tiles\n",
        "  tiles = pos_tiles(i,j,n)\n",
        "\n",
        "  # Storing the number of tiles\n",
        "  number = len(tiles)\n",
        "\n",
        "  # The sum of tiles that are occupied is equal to the number of possible tiles - m vacant tiles\n",
        "  # This is also only enforced if the specific tile (v) is equal to 1\n",
        "  model.Add(sum(x[k] for k in tiles) == number - m).OnlyEnforceIf(v)\n",
        "\n",
        "# Maximize the total number of chosen tiles\n",
        "model.maximize(sum(x[i,j] for i in range(n) for j in range(n)))\n",
        "\n",
        "# Viewing the status of the solver\n",
        "status = solver.Solve(model)\n",
        "print(f\"Status = {solver.StatusName(status)}\")\n",
        "\n",
        "# Storing solution\n",
        "sol = [(i,j) for (i,j) in x.keys() if solver.value(x[i,j]) == 1]\n",
        "#sol"
      ],
      "metadata": {
        "id": "EOjG4X8nVoZN",
        "colab": {
          "base_uri": "https://localhost:8080/"
        },
        "outputId": "011bfb19-b1c0-49ea-b085-842eb5d5e2e8"
      },
      "execution_count": 81,
      "outputs": [
        {
          "output_type": "stream",
          "name": "stdout",
          "text": [
            "Status = OPTIMAL\n"
          ]
        }
      ]
    },
    {
      "cell_type": "code",
      "source": [
        "import matplotlib.pyplot as plt\n",
        "\n",
        "s = 900\n",
        "\n",
        "for i,j in x.keys():\n",
        "  if (i,j) in sol:\n",
        "    plt.scatter(i,j, marker='s', s=s, c= 'k');\n",
        "  else:\n",
        "    plt.scatter(i,j, marker='s', s=s, c = 'w', edgecolor='k');\n",
        "\n",
        "plt.xticks(range(-2,n+2))\n",
        "plt.yticks(range(-2,n+2))\n",
        "plt.axis('off');"
      ],
      "metadata": {
        "colab": {
          "base_uri": "https://localhost:8080/",
          "height": 406
        },
        "id": "_y0_Y5ezU4lL",
        "outputId": "b9b11de5-9919-4762-9420-15f7c206cc09"
      },
      "execution_count": 82,
      "outputs": [
        {
          "output_type": "display_data",
          "data": {
            "text/plain": [
              "<Figure size 640x480 with 1 Axes>"
            ],
            "image/png": "[encoded data removed]"
          },
          "metadata": {}
        }
      ]
    }
  ]
}