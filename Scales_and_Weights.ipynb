{
  "nbformat": 4,
  "nbformat_minor": 0,
  "metadata": {
    "colab": {
      "provenance": [],
      "authorship_tag": "ABX9TyNWcRHSrBfHrj3dujuh2MUv",
      "include_colab_link": true
    },
    "kernelspec": {
      "name": "python3",
      "display_name": "Python 3"
    },
    "language_info": {
      "name": "python"
    }
  },
  "cells": [
    {
      "cell_type": "markdown",
      "metadata": {
        "id": "view-in-github",
        "colab_type": "text"
      },
      "source": [
        "<a href=\"https://colab.research.google.com/github/the-faisalahmed/Optimization/blob/main/Scales_and_Weights.ipynb\" target=\"_parent\"><img src=\"https://colab.research.google.com/assets/colab-badge.svg\" alt=\"Open In Colab\"/></a>"
      ]
    },
    {
      "cell_type": "code",
      "execution_count": 1,
      "metadata": {
        "id": "WFQ-44R-KMlS"
      },
      "outputs": [],
      "source": [
        "%%capture\n",
        "import sys\n",
        "import os\n",
        "\n",
        "if 'google.colab' in sys.modules:\n",
        "    !pip install idaes-pse --pre\n",
        "    !idaes get-extensions --to ./bin\n",
        "    os.environ['PATH'] += ':bin'\n",
        "\n",
        "!pip install pyomo\n",
        "from pyomo.environ import *\n",
        "from pyomo.opt import SolverFactory\n",
        "from pyomo.util.infeasible import log_infeasible_constraints\n",
        "from pyomo.opt import SolverStatus\n",
        "import matplotlib.pyplot as plt\n",
        "import numpy as np\n",
        "import pandas as pd\n",
        "import itertools\n",
        "from pyomo.contrib.latex_printer import latex_printer\n"
      ]
    },
    {
      "cell_type": "code",
      "source": [
        "def SolveModel(model, solver):\n",
        "  # Solve model\n",
        "  opt = SolverFactory(solver)\n",
        "  result = opt.solve(model)\n",
        "\n",
        "  if (result.solver.status == SolverStatus.ok) and \\\n",
        "      (result.solver.termination_condition == TerminationCondition.optimal):\n",
        "      # Do something when the solution in optimal and feasible\n",
        "      print('Solution is Optimal')\n",
        "  elif (result.solver.termination_condition == TerminationCondition.infeasible):\n",
        "      # Do something when model in infeasible\n",
        "      print('Solution is Infeasible')\n",
        "  else:\n",
        "          # Something else is wrong\n",
        "      print(\"Solver Status:\",  result.solver.status)\n",
        "\n",
        "  # Solve time\n",
        "  print('Solve Time: ', result.solver.wallclock_time)"
      ],
      "metadata": {
        "id": "VtYjtjSKKQwK"
      },
      "execution_count": 2,
      "outputs": []
    },
    {
      "cell_type": "code",
      "source": [
        "def ScaleWeightModel(n, weights):\n",
        "  model = ConcreteModel()\n",
        "\n",
        "  model.X = Var(RangeSet(n), RangeSet(weights), within = Boolean)\n",
        "  model.Y = Var(RangeSet(weights), bounds = (1,n), within = PositiveIntegers)\n",
        "\n",
        "  # Binary variable selecting weights per scale\n",
        "  def con1_rule(model, i):\n",
        "    return sum(model.X[i,j]*model.Y[j] for j in RangeSet(weights)) == i\n",
        "  model.con1 = Constraint(RangeSet(n), rule = con1_rule)\n",
        "\n",
        "  SolveModel(model, 'couenne')\n",
        "\n",
        "  # Solution\n",
        "  sol = sorted([int(value(model.Y[i])) for i in RangeSet(weights)])\n",
        "\n",
        "  print('\\n')\n",
        "  print('Solution:')\n",
        "  print(sol)\n",
        "\n",
        "ScaleWeightModel(n= 15, weights= 4)"
      ],
      "metadata": {
        "id": "rbTflyO1KXFX",
        "colab": {
          "base_uri": "https://localhost:8080/"
        },
        "outputId": "094c8ad9-80eb-46cf-aad3-41dbcc6f68da"
      },
      "execution_count": 45,
      "outputs": [
        {
          "output_type": "stream",
          "name": "stdout",
          "text": [
            "Solution is Optimal\n",
            "Solve Time:  <undefined>\n",
            "\n",
            "\n",
            "Solution:\n",
            "[1, 2, 4, 8]\n"
          ]
        }
      ]
    }
  ]
}