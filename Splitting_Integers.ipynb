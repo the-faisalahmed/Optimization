{
 "cells": [
  {
   "cell_type": "markdown",
   "metadata": {},
   "source": [
    "# Splitting the integers 1 to 36\n",
    "\n",
    "[Link](https://puzzling.stackexchange.com/questions/115935/splitting-the-integers-1-to-36) to the original problem on StackExchange.\n",
    "\n",
    "Split the integers 1 to 36 into two sets, A and B, such that any number in set A has a common divisor greater than 1 with no more than two other numbers in A, but for every number in B there are at least three numbers in A with which it has a common divisor.\n",
    "\n",
    "How large can set A be?\n",
    "\n",
    "In general, for which N is such a splitting of the integers 1 to N possible?"
   ]
  },
  {
   "cell_type": "code",
   "execution_count": 1,
   "metadata": {},
   "outputs": [],
   "source": [
    "#!pip install ortools\n",
    "from ortools.sat.python import cp_model"
   ]
  },
  {
   "cell_type": "code",
   "execution_count": 2,
   "metadata": {},
   "outputs": [],
   "source": [
    "import itertools\n",
    "import math\n",
    "import numpy as np"
   ]
  },
  {
   "cell_type": "code",
   "execution_count": 3,
   "metadata": {},
   "outputs": [
    {
     "name": "stdout",
     "output_type": "stream",
     "text": [
      "Status = OPTIMAL\n",
      "Solution = 28\n",
      "Set A = [ 1  8  9 10 11 12 13 14 15 16 17 18 19 20 21 22 23 24 25 26 27 28 29 30\n",
      " 31 33 34 35]\n",
      "Set B = [ 2  3  4  5  6  7 32 36]\n"
     ]
    }
   ],
   "source": [
    "N = 36\n",
    "\n",
    "# Creates the model and set solver\n",
    "model = cp_model.CpModel()\n",
    "solver = cp_model.CpSolver()\n",
    "\n",
    "# Bool variables for sets A and B\n",
    "A = {(i): model.NewBoolVar(f'A_{i}') for i in range(1,N+1)}\n",
    "B = {(i): model.NewBoolVar(f'B_{i}') for i in range(1,N+1)}\n",
    "# Int variable for int series\n",
    "z = {(i): model.NewIntVar(1, N, f'z_{i}') for i in range(1,N+1)}\n",
    "# Storing max, min and modulo values\n",
    "mins = {(i): model.NewIntVar(1,N, f'mins_{i}') for i in range(1,math.perm(N,2)+1)}\n",
    "maxs = {(i): model.NewIntVar(1,N, f'maxs_{i}') for i in range(1,math.perm(N,2)+1)}\n",
    "mods = {(i,j): model.NewIntVar(0,N, f'mods_{i}_{j}') for i,j in list(itertools.permutations(z.keys(),2))}\n",
    "# Storing shared divisors\n",
    "share_div = {(i,j): model.NewBoolVar(f'share_div_{i}_{j}') \\\n",
    "             for i,j in list(itertools.permutations(z.keys(),2))}\n",
    "# Boolean between sets A and B\n",
    "boolVarA = {(i,j): model.NewBoolVar(f'boolVarA_{i}_{j}') for i,j in list(itertools.permutations(z.keys(),2))}\n",
    "\n",
    "\n",
    "# Each number only appears once\n",
    "model.AddAllDifferent([z[i] for i in z.keys()])\n",
    "\n",
    "for i in range(1,N+1):\n",
    "    # Numbers in ascending order\n",
    "    if i < N:\n",
    "        model.Add(z[i] <= z[i+1])\n",
    "    # Each number must be used only once between sets\n",
    "    model.Add(A[i]+B[i] == 1)\n",
    "\n",
    "count = 1\n",
    "for i,j in list(itertools.permutations(z.keys(),2)):\n",
    "    # Grabbing min and max between permutations and getting their modulo value\n",
    "    model.AddMinEquality(mins[count], [z[i], z[j]])\n",
    "    model.AddMaxEquality(maxs[count], [z[i], z[j]])\n",
    "    model.AddModuloEquality(mods[i,j], maxs[count], mins[count])\n",
    "\n",
    "    # share_div stores 1 if modulo of 2 nums is 0, 0 otherwise\n",
    "    model.Add((mods[i,j] == 0)).OnlyEnforceIf(share_div[i,j])\n",
    "    model.Add((mods[i,j] != 0)).OnlyEnforceIf(~share_div[i,j])\n",
    "\n",
    "    # boolVarA stores 1 if A[i] and A[j] are in set A and share a divisor\n",
    "    model.AddMultiplicationEquality(boolVarA[i,j], [A[i],A[j], share_div[i,j]])\n",
    "    count+=1\n",
    "\n",
    "for i in range(1,N+1):\n",
    "    model.Add(sum(boolVarA[i,j] for j in range(1,N+1) \\\n",
    "                  if (i,j) in boolVarA.keys() and 1 not in [i,j])<=2)\n",
    "    \n",
    "\n",
    "model.Maximize(sum(A[i] for i in A.keys()))\n",
    "status = solver.Solve(model)\n",
    "\n",
    "print(f\"Status = {solver.StatusName(status)}\")\n",
    "\n",
    "if solver.StatusName(status) == 'OPTIMAL':\n",
    "    print(f'Solution = {sum(solver.value(A[i]) for i in A.keys())}')\n",
    "    sol_A = np.array([solver.value(A[i])*solver.value(z[i]) for i in A.keys() if solver.value(A[i]) == 1])\n",
    "    sol_B = np.array([solver.value(B[i])*solver.value(z[i]) for i in B.keys() if solver.value(B[i]) == 1])\n",
    "    print(f'Set A = {sol_A}')\n",
    "    print(f'Set B = {sol_B}')"
   ]
  },
  {
   "cell_type": "code",
   "execution_count": 4,
   "metadata": {},
   "outputs": [
    {
     "data": {
      "text/plain": [
       "array([0, 2, 2, 2, 2, 1, 1, 1, 1, 1, 1, 1, 0, 1, 0, 1, 0, 2, 0, 1, 1, 1,\n",
       "       0, 2, 0, 1, 1, 0])"
      ]
     },
     "execution_count": 4,
     "metadata": {},
     "output_type": "execute_result"
    }
   ],
   "source": [
    "# Num of divisors for each item in set A (within sets)\n",
    "\n",
    "x = []\n",
    "for i in sol_A:\n",
    "    x.append(sum([max(i, j) % min(i, j) == 0 for j in sol_A if i != j and 1 not in [i,j]]))\n",
    "\n",
    "np.array(x)"
   ]
  },
  {
   "cell_type": "code",
   "execution_count": 5,
   "metadata": {},
   "outputs": [
    {
     "data": {
      "text/plain": [
       "array([14, 10,  7,  7,  5,  5,  3,  4])"
      ]
     },
     "execution_count": 5,
     "metadata": {},
     "output_type": "execute_result"
    }
   ],
   "source": [
    "# Num of divisors for each item in set B (against set A)\n",
    "\n",
    "y = []\n",
    "for i in sol_B:\n",
    "    y.append(sum([max(i, j) % min(i, j) == 0 for j in sol_A]))\n",
    "\n",
    "np.array(y)"
   ]
  }
 ],
 "metadata": {
  "kernelspec": {
   "display_name": "base",
   "language": "python",
   "name": "python3"
  },
  "language_info": {
   "codemirror_mode": {
    "name": "ipython",
    "version": 3
   },
   "file_extension": ".py",
   "mimetype": "text/x-python",
   "name": "python",
   "nbconvert_exporter": "python",
   "pygments_lexer": "ipython3",
   "version": "3.9.12"
  }
 },
 "nbformat": 4,
 "nbformat_minor": 2
}
