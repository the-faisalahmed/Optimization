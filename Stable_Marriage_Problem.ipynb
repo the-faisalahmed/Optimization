{
  "nbformat": 4,
  "nbformat_minor": 0,
  "metadata": {
    "colab": {
      "provenance": [],
      "authorship_tag": "ABX9TyOh5eLNPjwzMI6AQxdSefx+",
      "include_colab_link": true
    },
    "kernelspec": {
      "name": "python3",
      "display_name": "Python 3"
    },
    "language_info": {
      "name": "python"
    }
  },
  "cells": [
    {
      "cell_type": "markdown",
      "metadata": {
        "id": "view-in-github",
        "colab_type": "text"
      },
      "source": [
        "<a href=\"https://colab.research.google.com/github/the-faisalahmed/Optimization/blob/main/Stable_Marriage_Problem.ipynb\" target=\"_parent\"><img src=\"https://colab.research.google.com/assets/colab-badge.svg\" alt=\"Open In Colab\"/></a>"
      ]
    },
    {
      "cell_type": "code",
      "execution_count": 1,
      "metadata": {
        "id": "WFQ-44R-KMlS"
      },
      "outputs": [],
      "source": [
        "%%capture\n",
        "import sys\n",
        "import os\n",
        "\n",
        "if 'google.colab' in sys.modules:\n",
        "    !pip install idaes-pse --pre\n",
        "    !idaes get-extensions --to ./bin\n",
        "    os.environ['PATH'] += ':bin'\n",
        "\n",
        "!pip install pyomo\n",
        "from pyomo.environ import *\n",
        "from pyomo.opt import SolverFactory\n",
        "from pyomo.util.infeasible import log_infeasible_constraints\n",
        "from pyomo.opt import SolverStatus\n",
        "import matplotlib.pyplot as plt\n",
        "import numpy as np\n",
        "import pandas as pd\n",
        "import itertools\n",
        "from pyomo.contrib.latex_printer import latex_printer\n"
      ]
    },
    {
      "cell_type": "markdown",
      "source": [
        "![](https://dmcommunity.org/wp-content/uploads/2024/06/stablemarriageproblem.png)\n",
        "\n",
        "Given n men and n women, where each person has ranked all members of the opposite sex in order of preference, marry the men and women together such that there are no two people of opposite sex who would both rather have each other than their current partners. When there are no such pairs of people, the set of marriages is deemed stable.\n",
        "\n",
        "![](https://dmcommunity.org/wp-content/uploads/2024/06/image-2.png)\n",
        "\n",
        "Your task is to create a decision model capable to pair up a group of men and women so that the resulting marriages are stable."
      ],
      "metadata": {
        "id": "CUlcHSBCwaJ-"
      }
    },
    {
      "cell_type": "code",
      "source": [
        "singles = ['Adam', 'Bob', 'Charlie', 'Dave', 'Edgar','Alice', 'Barbara', 'Claire', 'Doris', 'Elsie']\n",
        "matrix = {('Adam', 'Alice'): 5, ('Adam', 'Barbara'): 1, ('Adam', 'Claire'): 2, ('Adam', 'Doris'): 4, ('Adam', 'Elsie'): 3,\n",
        "          ('Bob', 'Alice'): 4, ('Bob', 'Barbara'): 1, ('Bob', 'Claire'): 3, ('Bob', 'Doris'): 2, ('Bob', 'Elsie'): 5,\n",
        "          ('Charlie', 'Alice'): 5, ('Charlie', 'Barbara'): 3, ('Charlie', 'Claire'): 2, ('Charlie', 'Doris'): 4, ('Charlie', 'Elsie'): 1,\n",
        "          ('Dave', 'Alice'): 1, ('Dave', 'Barbara'): 5, ('Dave', 'Claire'): 4, ('Dave', 'Doris'): 3, ('Dave', 'Elsie'): 2,\n",
        "          ('Edgar', 'Alice'): 4, ('Edgar', 'Barbara'): 3, ('Edgar', 'Claire'): 2, ('Edgar', 'Doris'): 1, ('Edgar', 'Elsie'): 5,\n",
        "          ('Alice', 'Adam'): 5, ('Alice', 'Bob'): 1, ('Alice', 'Charlie'): 2, ('Alice', 'Dave'): 4, ('Alice', 'Edgar'): 3,\n",
        "          ('Barbara', 'Adam'): 4, ('Barbara', 'Bob'): 1, ('Barbara', 'Charlie'): 3, ('Barbara', 'Dave'): 2, ('Barbara', 'Edgar'): 5,\n",
        "          ('Claire', 'Adam'): 5, ('Claire', 'Bob'): 3, ('Claire', 'Charlie'): 2, ('Claire', 'Dave'): 4, ('Claire', 'Edgar'): 1,\n",
        "          ('Doris', 'Adam'): 1, ('Doris', 'Bob'): 5, ('Doris', 'Charlie'): 4, ('Doris', 'Dave'): 3, ('Doris', 'Edgar'): 2,\n",
        "          ('Elsie', 'Adam'): 4, ('Elsie', 'Bob'): 3, ('Elsie', 'Charlie'): 2, ('Elsie', 'Dave'): 1, ('Elsie', 'Edgar'): 5\n",
        "          }"
      ],
      "metadata": {
        "id": "E7PUIe9Ay-ah"
      },
      "execution_count": 2,
      "outputs": []
    },
    {
      "cell_type": "code",
      "source": [
        "model = ConcreteModel()\n",
        "\n",
        "women = ['Alice', 'Barbara', 'Claire', 'Doris', 'Elsie']\n",
        "men = ['Adam', 'Bob', 'Charlie', 'Dave', 'Edgar']\n",
        "\n",
        "model.V = list(itertools.permutations(singles,2))\n",
        "\n",
        "model.P = Param(model.V, initialize = matrix)\n",
        "\n",
        "model.X = Var(model.V, within = Binary)\n",
        "\n",
        "# Each man should be matched with one woman\n",
        "\n",
        "def con1_rule(model,i):\n",
        "  return sum(model.X[(i,j)] for j in women) == 1\n",
        "model.con1 = Constraint(men,rule = con1_rule)\n",
        "\n",
        "# Each woman should be matched with one man\n",
        "\n",
        "def con2_rule(model,i):\n",
        "  return sum(model.X[(i,j)] for j in men) == 1\n",
        "model.con2 = Constraint(women,rule = con2_rule)\n",
        "\n",
        "# Couples that choose each other are connected\n",
        "\n",
        "model.con3 = ConstraintList()\n",
        "\n",
        "for i in men:\n",
        "  for j in women:\n",
        "    model.con3.add(expr = model.X[i,j] == model.X[j,i])\n",
        "\n",
        "# Maximizing square values of couples that are matched while penalizing\n",
        "\n",
        "def obj_rule(model):\n",
        "  return sum((model.P[i,j]*model.X[i,j] + model.P[j,i]*model.X[j,i])**2 - \\\n",
        "   (model.P[i,j]*model.X[i,j] - model.P[j,i]*model.X[j,i]) for i in men for j in women)\n",
        "model.obj = Objective(rule = obj_rule, sense = maximize)"
      ],
      "metadata": {
        "id": "rbTflyO1KXFX"
      },
      "execution_count": 3,
      "outputs": []
    },
    {
      "cell_type": "code",
      "source": [
        "# Solve model\n",
        "opt = SolverFactory('bonmin')\n",
        "result = opt.solve(model)\n",
        "\n",
        "if (result.solver.status == SolverStatus.ok) and \\\n",
        "    (result.solver.termination_condition == TerminationCondition.optimal):\n",
        "    # Do something when the solution in optimal and feasible\n",
        "    print('Solution is Optimal')\n",
        "elif (result.solver.termination_condition == TerminationCondition.infeasible):\n",
        "    # Do something when model in infeasible\n",
        "    print('Solution is Infeasible')\n",
        "else:\n",
        "        # Something else is wrong\n",
        "    print(\"Solver Status:\",  result.solver.status)\n",
        "\n",
        "# Solve time\n",
        "print('Solve Time: ', result.solver.wallclock_time)\n",
        "\n",
        "# Objective Value\n",
        "print('Objective value: ', value(model.obj))"
      ],
      "metadata": {
        "id": "VtYjtjSKKQwK",
        "colab": {
          "base_uri": "https://localhost:8080/"
        },
        "outputId": "0d18f22b-33e9-4306-830c-32ba21d8faa4"
      },
      "execution_count": 4,
      "outputs": [
        {
          "output_type": "stream",
          "name": "stdout",
          "text": [
            "Solution is Optimal\n",
            "Solve Time:  <undefined>\n",
            "Objective value:  352.0\n"
          ]
        }
      ]
    },
    {
      "cell_type": "code",
      "source": [
        "couples = []\n",
        "for (i,j) in model.X.extract_values().keys():\n",
        "  if model.X.extract_values()[i,j] == 1:\n",
        "    if i not in couples and j not in couples:\n",
        "      print(\"{0} ({1}) and {2} ({3}) are a couple.\".format(i,matrix[i,j],j,matrix[j,i]))\n",
        "      couples.append(i and j)"
      ],
      "metadata": {
        "colab": {
          "base_uri": "https://localhost:8080/"
        },
        "id": "BPhN5jKi-bF6",
        "outputId": "d014e2e8-0e53-4916-d5cc-73370b70aa79"
      },
      "execution_count": 5,
      "outputs": [
        {
          "output_type": "stream",
          "name": "stdout",
          "text": [
            "Adam (5) and Alice (5) are a couple.\n",
            "Bob (2) and Doris (5) are a couple.\n",
            "Charlie (3) and Barbara (3) are a couple.\n",
            "Dave (4) and Claire (4) are a couple.\n",
            "Edgar (5) and Elsie (5) are a couple.\n"
          ]
        }
      ]
    }
  ]
}