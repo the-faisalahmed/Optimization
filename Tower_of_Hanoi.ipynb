{
  "nbformat": 4,
  "nbformat_minor": 0,
  "metadata": {
    "colab": {
      "provenance": [],
      "authorship_tag": "ABX9TyNfkiLiQpB0c8PnIyPxvEtn",
      "include_colab_link": true
    },
    "kernelspec": {
      "name": "python3",
      "display_name": "Python 3"
    },
    "language_info": {
      "name": "python"
    }
  },
  "cells": [
    {
      "cell_type": "markdown",
      "metadata": {
        "id": "view-in-github",
        "colab_type": "text"
      },
      "source": [
        "<a href=\"https://colab.research.google.com/github/the-faisalahmed/Optimization/blob/main/Tower_of_Hanoi.ipynb\" target=\"_parent\"><img src=\"https://colab.research.google.com/assets/colab-badge.svg\" alt=\"Open In Colab\"/></a>"
      ]
    },
    {
      "cell_type": "code",
      "execution_count": null,
      "metadata": {
        "id": "2w5_cqB8_h8H"
      },
      "outputs": [],
      "source": [
        "import numpy as np\n",
        "import matplotlib.pyplot as plt\n",
        "import pandas as pd\n",
        "import random\n",
        "import itertools\n",
        "import copy"
      ]
    },
    {
      "cell_type": "code",
      "source": [
        "current_state = [[3, 2, 1], [0], [0]]\n",
        "original_state = current_state.copy()\n",
        "winning_state = [[0], [0], [3, 2, 1]]"
      ],
      "metadata": {
        "id": "21A2FGvqUvDx"
      },
      "execution_count": null,
      "outputs": []
    },
    {
      "cell_type": "code",
      "source": [
        "len(state_action)"
      ],
      "metadata": {
        "id": "XbgatxGYV8VE",
        "outputId": "82e746dc-7c72-439d-fc65-2e61378e8dca",
        "colab": {
          "base_uri": "https://localhost:8080/"
        }
      },
      "execution_count": null,
      "outputs": [
        {
          "output_type": "execute_result",
          "data": {
            "text/plain": [
              "27"
            ]
          },
          "metadata": {},
          "execution_count": 779
        }
      ]
    },
    {
      "cell_type": "code",
      "source": [
        "possible_states = [[0],[1],[2],[3], [3,2], [2, 1], [3, 1],[3, 2, 1]]\n",
        "\n",
        "def get_top_value(action):\n",
        "  return current_state[moves[action][1]][-1]\n",
        "\n",
        "moves = {\n",
        "      1: (get_top_value, 0,1),\n",
        "      -1: (get_top_value, 1,0),\n",
        "      2: (get_top_value, 0,2),\n",
        "      -2: (get_top_value, 2,0),\n",
        "      3: (get_top_value, 1,2),\n",
        "      -3: (get_top_value, 2,1)\n",
        "}\n",
        "\n",
        "move_names = {\n",
        "      1: 'A to B',\n",
        "      -1: 'B to A',\n",
        "      2: 'A to C',\n",
        "      -2: 'C to A',\n",
        "      3: 'B to C',\n",
        "      -3: 'C to B'\n",
        "}"
      ],
      "metadata": {
        "id": "AqmslBCXScIQ"
      },
      "execution_count": null,
      "outputs": []
    },
    {
      "cell_type": "code",
      "source": [
        "def new_state(array, action):\n",
        "  current = copy.deepcopy(array)\n",
        "\n",
        "  a = current[moves[action][1]][-1]\n",
        "\n",
        "  moving_tower = current[moves[action][1]]\n",
        "  target_tower = current[moves[action][2]]\n",
        "  # Removing piece from tower\n",
        "  if len(moving_tower) == 1:\n",
        "    current[moves[action][1]] = [0]\n",
        "  else:\n",
        "    current[moves[action][1]] = moving_tower[slice(len(moving_tower)-1)]\n",
        "\n",
        "  # Placing piece on tower\n",
        "  if target_tower == [0]:\n",
        "    current[moves[action][2]].pop()\n",
        "    current[moves[action][2]].append(a)\n",
        "  else:\n",
        "    current[moves[action][2]].append(a)\n",
        "  return current\n",
        "\n",
        "# This functions sets rules for which moves are allowed. It does not allow moves\n",
        "# that would place larger pieces on smaller pieces, or moves that would allow\n",
        "# any location with zero pieces to be able to move\n",
        "def valid_actions(array):\n",
        "  current_state = copy.deepcopy(array)\n",
        "  list_of_moves = []\n",
        "\n",
        "  for i in moves:\n",
        "    # Restricting moving pieces from any tower that does not have a piece\n",
        "    if current_state[moves[i][1]][-1] == 0:\n",
        "      continue\n",
        "    # Restricting moves that would place larger pieces on top of smaller pieces\n",
        "    elif current_state[moves[i][1]][-1] > current_state[moves[i][2]][-1] and \\\n",
        "        current_state[moves[i][2]][-1] != 0:\n",
        "      continue\n",
        "    else:\n",
        "      list_of_moves.append(i)\n",
        "  return list_of_moves\n",
        "\n",
        "def rewards(state, action):\n",
        "    state = copy.deepcopy(state)\n",
        "    # Rewarding winning state\n",
        "    if list(new_state(list(state),action)) == winning_state:\n",
        "      return 10\n",
        "    # Rewarding states that move piece 3 from location A to location C\n",
        "    elif state[moves[action][1]][-1] == 3 and move_names[action] in ['A to C']:\n",
        "      return 3\n",
        "    # Penalizing moving a tower consisting of one piece to another tower consisting\n",
        "    # of no pieces\n",
        "    elif len(state[moves[action][1]]) == 1 and state[moves[action][2]] == [0]:\n",
        "      return -2\n",
        "    # Penalizing all other cases\n",
        "    else:\n",
        "      return -1\n",
        "\n",
        "def done(current_state):\n",
        "  return list(current_state) == winning_state"
      ],
      "metadata": {
        "id": "JFv_9LVb7Jhd"
      },
      "execution_count": null,
      "outputs": []
    },
    {
      "cell_type": "code",
      "source": [
        "# Creating combinations of states\n",
        "valid_state_space = [[[3,2,1],[0],[0]],\n",
        "                    [[2,1],[3],[0]],\n",
        "                      [[3,1],[2],[0]],\n",
        "                     [[3,2],[1],[0]],\n",
        "                     [[3],[2],[1]]]\n",
        "\n",
        "# Creating permutations of states\n",
        "q_table_temp = []\n",
        "for i in range(len(valid_state_space)):\n",
        "  t = list(itertools.permutations(valid_state_space[i]))\n",
        "  [q_table_temp.append(i) for i in t if i not in q_table_temp]\n",
        "\n",
        "state_action = {}\n",
        "\n",
        "for i in q_table_temp:\n",
        "  state_action[str(i)] = (i, valid_actions(list(i)))\n"
      ],
      "metadata": {
        "id": "mSgVRjdpP60s"
      },
      "execution_count": null,
      "outputs": []
    },
    {
      "cell_type": "code",
      "source": [
        "state_action"
      ],
      "metadata": {
        "id": "zB-bS9eh40ZV"
      },
      "execution_count": null,
      "outputs": []
    },
    {
      "cell_type": "code",
      "source": [
        "# Creating Q table\n",
        "q_table = {}\n",
        "test = copy.deepcopy(state_action)\n",
        "\n",
        "for i in test.keys():\n",
        "  q_table[i] = []\n",
        "  for j in test[i][1]:\n",
        "    test2 = new_state(list(test[i][0]), j)\n",
        "    reward = rewards(test[i][0],j)\n",
        "    q_table[i].append(reward)\n",
        "\n",
        "q_table"
      ],
      "metadata": {
        "collapsed": true,
        "id": "ZLPvOIXnkFBO"
      },
      "execution_count": null,
      "outputs": []
    },
    {
      "cell_type": "code",
      "source": [
        "epsilon = 0.95\n",
        "gamma = .99\n",
        "alpha = 0.99\n",
        "\n",
        "# For plotting metrics\n",
        "cumulative_reward_each_episode = []\n",
        "epsilon_each_episode = []\n",
        "\n",
        "# For each episode\n",
        "maxNumEpisodes = 2000\n",
        "for i in range(maxNumEpisodes):\n",
        "\n",
        "  # Reset to initial conditions\n",
        "  state = str(tuple(original_state))\n",
        "\n",
        "  # The variable 'cumulative_reward' will store the sum of the accumulated\n",
        "  # reward for an entire episode. Set this value to zero at the start of each\n",
        "  # episode.\n",
        "\n",
        "  cumulative_reward = 0\n",
        "\n",
        "  over = False\n",
        "\n",
        "  # While the episode is not finished\n",
        "  while not over:\n",
        "    step = 0\n",
        "\n",
        "    ##########################################\n",
        "    # For every time step, using epsilon-greedy to choose between\n",
        "    # exploration and exploitation.\n",
        "    # Implement epsilon-greedy exploration.\n",
        "    # Hint: to return a random action, do this:\n",
        "    #           action = env.action_space.sample()\n",
        "    ##########################################\n",
        "\n",
        "    if np.random.random() >= epsilon:\n",
        "      action = np.argmax(q_table[state])\n",
        "    else:\n",
        "      action = random.randint(0,len(q_table[state])-1)\n",
        "\n",
        "    over = state_action[state][0] == tuple(winning_state)\n",
        "\n",
        "\t\t# Take the action.\n",
        "\t\t# This moves the agent to a new state and earns a reward\n",
        "\n",
        "    current = copy.deepcopy(state_action[state][0])\n",
        "    next_state = new_state(list(current), state_action[state][1][action])\n",
        "    next_state = str(tuple(next_state))\n",
        "\n",
        "    reward = q_table[state][action]\n",
        "\n",
        "\n",
        "    # Add the reward just earned to the cumulative reward variable\n",
        "    cumulative_reward += reward\n",
        "\n",
        "    ##########################################\n",
        "    # Update your estimate of Q(s,a)\n",
        "    # Hint: to access a specific value in the q_table, do this:\n",
        "    #            q_table[state, action]\n",
        "    ##########################################\n",
        "\n",
        "    q_table[state][action] = (1-alpha)*q_table[state][action] + \\\n",
        "                                alpha*(reward + gamma*np.max(q_table[next_state]) - q_table[state][action]) - step\n",
        "\n",
        "    # Penalizing extra moves\n",
        "    step += 1\n",
        "\n",
        "    # Set your state variable to next_state for the next loop.\n",
        "    state = next_state\n",
        "\n",
        "    # If this episode is finished, take care of a few things:\n",
        "    if over:\n",
        "      # Save the cumulative reward from the previous episode to an array.\n",
        "      cumulative_reward_each_episode.append(cumulative_reward)\n",
        "\n",
        "      # Save the epsilon used in this episode.\n",
        "      epsilon_each_episode.append(epsilon)\n",
        "\n",
        "      ##########################################\n",
        "      # Decay epsilon,\n",
        "      # If you want to decay or change the value of epsilon at the end of\n",
        "      # each episode, do so here.\n",
        "      ##########################################\n",
        "\n",
        "      epsilon = epsilon*.997726\n",
        "\n",
        "  if i % 100 == 0:\n",
        "    print('Episode: {0}'.format(i))\n",
        "\n",
        "print(\"Training finished.\\n\")\n",
        "\n",
        "# Plot the Cumulative Reward and Epsilon value through time.\n",
        "fsize = 15\n",
        "\n",
        "plt.plot(cumulative_reward_each_episode)\n",
        "plt.title('Cumulative Reward through Time', fontsize=fsize)\n",
        "plt.xlabel('Episode', fontsize=fsize)\n",
        "plt.ylabel('Cumulative Reward', fontsize=fsize)\n",
        "plt.show()\n",
        "\n",
        "plt.plot(epsilon_each_episode)\n",
        "plt.title('Exploration (epsilon) through Time', fontsize=fsize)\n",
        "plt.xlabel('Episode', fontsize=fsize)\n",
        "plt.ylabel('epsilon', fontsize=fsize)\n",
        "plt.show()"
      ],
      "metadata": {
        "id": "5jtuGzh4_4ZY",
        "colab": {
          "base_uri": "https://localhost:8080/",
          "height": 1000
        },
        "outputId": "b7fc4821-221d-408b-f4c5-19b6cf4e1747"
      },
      "execution_count": null,
      "outputs": [
        {
          "output_type": "stream",
          "name": "stdout",
          "text": [
            "Episode: 0\n",
            "Episode: 100\n",
            "Episode: 200\n",
            "Episode: 300\n",
            "Episode: 400\n",
            "Episode: 500\n",
            "Episode: 600\n",
            "Episode: 700\n",
            "Episode: 800\n",
            "Episode: 900\n",
            "Episode: 1000\n",
            "Episode: 1100\n",
            "Episode: 1200\n",
            "Episode: 1300\n",
            "Episode: 1400\n",
            "Episode: 1500\n",
            "Episode: 1600\n",
            "Episode: 1700\n",
            "Episode: 1800\n",
            "Episode: 1900\n",
            "Training finished.\n",
            "\n"
          ]
        },
        {
          "output_type": "display_data",
          "data": {
            "text/plain": [
              "<Figure size 640x480 with 1 Axes>"
            ],
            "image/png": "[encoded data removed]"
          },
          "metadata": {}
        },
        {
          "output_type": "display_data",
          "data": {
            "text/plain": [
              "<Figure size 640x480 with 1 Axes>"
            ],
            "image/png": "[encoded data removed]"
          },
          "metadata": {}
        }
      ]
    },
    {
      "cell_type": "code",
      "source": [
        "over = False\n",
        "\n",
        "state = str(tuple(original_state))\n",
        "\n",
        "finished_run = [state_action[state][0]]\n",
        "moves_made = []\n",
        "\n",
        "while True:\n",
        "\n",
        "  print(state_action[state][0])\n",
        "\n",
        "  ##########################################\n",
        "  # Choose an action based on exploitation.\n",
        "  ##########################################\n",
        "\n",
        "  action = np.argmax(q_table[state])\n",
        "  moves_made.append(state_action[state][1][action])\n",
        "\n",
        "  current = copy.deepcopy(state_action[state][0])\n",
        "  next_state = new_state(list(current), state_action[state][1][action])\n",
        "  next_state = str(tuple(next_state))\n",
        "\n",
        "  state = next_state\n",
        "\n",
        "  finished_run.append(state_action[state][0])\n",
        "\n",
        "  over = state_action[state][0] == tuple(winning_state)\n",
        "\n",
        "  if over:\n",
        "    print(state_action[state][0])\n",
        "    break;"
      ],
      "metadata": {
        "colab": {
          "base_uri": "https://localhost:8080/"
        },
        "id": "VBJbiSAd2iNr",
        "outputId": "7a278fce-9ad7-451f-bd04-a86193598828"
      },
      "execution_count": null,
      "outputs": [
        {
          "output_type": "stream",
          "name": "stdout",
          "text": [
            "([3, 2, 1], [0], [0])\n",
            "([3, 2], [0], [1])\n",
            "([3], [2], [1])\n",
            "([3], [2, 1], [0])\n",
            "([0], [2, 1], [3])\n",
            "([1], [2], [3])\n",
            "([1], [0], [3, 2])\n",
            "([0], [0], [3, 2, 1])\n"
          ]
        }
      ]
    },
    {
      "cell_type": "code",
      "source": [
        "!mkdir Towers\n",
        "number = 0\n",
        "for x in finished_run:\n",
        "  plt.clf()\n",
        "\n",
        "  plt.xlim((0,6));\n",
        "  plt.ylim((0,5));\n",
        "  plt.axis('off');\n",
        "\n",
        "  count = 0\n",
        "\n",
        "  for i in [1,3,5]:\n",
        "    plt.plot((i,i),(0.5,3.5), ms = 70, linewidth = 10, color = 'black', zorder = 0);\n",
        "    count +=1\n",
        "\n",
        "  count = 0\n",
        "\n",
        "  for i in [1,3,5]:\n",
        "    for j in range(1,len(x[i-count-1])+1):\n",
        "      if x[i-count-1] == [0]:\n",
        "        continue\n",
        "      elif x[i-count-1][j-1] == 3:\n",
        "        plt.scatter(i,j,marker =\"_\", linewidth = 20, s = 10000, c = '#1f77b4', zorder = 10);\n",
        "      elif x[i-count-1][j-1] == 2:\n",
        "        plt.scatter(i,j,marker =\"_\", linewidth = 20, s = 6000, c = '#ff7f0e', zorder = 10);\n",
        "      else:\n",
        "        plt.scatter(i,j,marker =\"_\", linewidth = 20, s = 2000, c = '#2ca02c', zorder = 10);\n",
        "    count+=1\n",
        "  plt.savefig('/content/Towers/Tower of Hanoi %d_%s'%(number,'.jpg'))\n",
        "  plt.show()\n",
        "  number+=1\n",
        "\n",
        "!zip -r /content/Towers.zip /content/Towers"
      ],
      "metadata": {
        "colab": {
          "base_uri": "https://localhost:8080/",
          "height": 1000
        },
        "id": "yhbTDDvEMXgX",
        "outputId": "aa973a24-2691-492c-ca16-3fc74bd1a3f0"
      },
      "execution_count": null,
      "outputs": [
        {
          "output_type": "display_data",
          "data": {
            "text/plain": [
              "<Figure size 640x480 with 1 Axes>"
            ],
            "image/png": "[encoded data removed]"
          },
          "metadata": {}
        },
        {
          "output_type": "display_data",
          "data": {
            "text/plain": [
              "<Figure size 640x480 with 1 Axes>"
            ],
            "image/png": "[encoded data removed]"
          },
          "metadata": {}
        },
        {
          "output_type": "display_data",
          "data": {
            "text/plain": [
              "<Figure size 640x480 with 1 Axes>"
            ],
            "image/png": "[encoded data removed]"
          },
          "metadata": {}
        },
        {
          "output_type": "display_data",
          "data": {
            "text/plain": [
              "<Figure size 640x480 with 1 Axes>"
            ],
            "image/png": "[encoded data removed]"
          },
          "metadata": {}
        },
        {
          "output_type": "display_data",
          "data": {
            "text/plain": [
              "<Figure size 640x480 with 1 Axes>"
            ],
            "image/png": "[encoded data removed]"
          },
          "metadata": {}
        },
        {
          "output_type": "display_data",
          "data": {
            "text/plain": [
              "<Figure size 640x480 with 1 Axes>"
            ],
            "image/png": "[encoded data removed]"
          },
          "metadata": {}
        },
        {
          "output_type": "display_data",
          "data": {
            "text/plain": [
              "<Figure size 640x480 with 1 Axes>"
            ],
            "image/png": "[encoded data removed]"
          },
          "metadata": {}
        },
        {
          "output_type": "display_data",
          "data": {
            "text/plain": [
              "<Figure size 640x480 with 1 Axes>"
            ],
            "image/png": "[encoded data removed]"
          },
          "metadata": {}
        },
        {
          "output_type": "stream",
          "name": "stdout",
          "text": [
            "  adding: content/Towers/ (stored 0%)\n",
            "  adding: content/Towers/Tower of Hanoi 5_.jpg (deflated 67%)\n",
            "  adding: content/Towers/Tower of Hanoi 0_.jpg (deflated 65%)\n",
            "  adding: content/Towers/Tower of Hanoi 6_.jpg (deflated 63%)\n",
            "  adding: content/Towers/Tower of Hanoi 3_.jpg (deflated 64%)\n",
            "  adding: content/Towers/Tower of Hanoi 1_.jpg (deflated 64%)\n",
            "  adding: content/Towers/Tower of Hanoi 7_.jpg (deflated 63%)\n",
            "  adding: content/Towers/Tower of Hanoi 2_.jpg (deflated 68%)\n",
            "  adding: content/Towers/Tower of Hanoi 4_.jpg (deflated 64%)\n"
          ]
        }
      ]
    }
  ]
}