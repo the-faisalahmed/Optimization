{
  "nbformat": 4,
  "nbformat_minor": 0,
  "metadata": {
    "colab": {
      "provenance": [],
      "authorship_tag": "ABX9TyOLdhAIBxV7u+fwQFfSpXp+",
      "include_colab_link": true
    },
    "kernelspec": {
      "name": "python3",
      "display_name": "Python 3"
    },
    "language_info": {
      "name": "python"
    }
  },
  "cells": [
    {
      "cell_type": "markdown",
      "metadata": {
        "id": "view-in-github",
        "colab_type": "text"
      },
      "source": [
        "<a href=\"https://colab.research.google.com/github/the-faisalahmed/Optimization/blob/main/Joshua's_Rats.ipynb\" target=\"_parent\"><img src=\"https://colab.research.google.com/assets/colab-badge.svg\" alt=\"Open In Colab\"/></a>"
      ]
    },
    {
      "cell_type": "code",
      "execution_count": 2,
      "metadata": {
        "id": "G3u-dCzWVXTf",
        "collapsed": true,
        "colab": {
          "base_uri": "https://localhost:8080/"
        },
        "outputId": "5a747ba6-28e5-4212-b67c-df862ce856ce"
      },
      "outputs": [
        {
          "output_type": "stream",
          "name": "stdout",
          "text": [
            "Collecting ortools\n",
            "  Downloading ortools-9.10.4067-cp310-cp310-manylinux_2_17_x86_64.manylinux2014_x86_64.whl (26.7 MB)\n",
            "\u001b[2K     \u001b[90m━━━━━━━━━━━━━━━━━━━━━━━━━━━━━━━━━━━━━━━━\u001b[0m \u001b[32m26.7/26.7 MB\u001b[0m \u001b[31m30.0 MB/s\u001b[0m eta \u001b[36m0:00:00\u001b[0m\n",
            "\u001b[?25hCollecting absl-py>=2.0.0 (from ortools)\n",
            "  Downloading absl_py-2.1.0-py3-none-any.whl (133 kB)\n",
            "\u001b[2K     \u001b[90m━━━━━━━━━━━━━━━━━━━━━━━━━━━━━━━━━━━━━━━━\u001b[0m \u001b[32m133.7/133.7 kB\u001b[0m \u001b[31m7.5 MB/s\u001b[0m eta \u001b[36m0:00:00\u001b[0m\n",
            "\u001b[?25hRequirement already satisfied: numpy>=1.13.3 in /usr/local/lib/python3.10/dist-packages (from ortools) (1.25.2)\n",
            "Requirement already satisfied: pandas>=2.0.0 in /usr/local/lib/python3.10/dist-packages (from ortools) (2.0.3)\n",
            "Collecting protobuf>=5.26.1 (from ortools)\n",
            "  Downloading protobuf-5.27.2-cp38-abi3-manylinux2014_x86_64.whl (309 kB)\n",
            "\u001b[2K     \u001b[90m━━━━━━━━━━━━━━━━━━━━━━━━━━━━━━━━━━━━━━━━\u001b[0m \u001b[32m309.3/309.3 kB\u001b[0m \u001b[31m9.6 MB/s\u001b[0m eta \u001b[36m0:00:00\u001b[0m\n",
            "\u001b[?25hRequirement already satisfied: immutabledict>=3.0.0 in /usr/local/lib/python3.10/dist-packages (from ortools) (4.2.0)\n",
            "Requirement already satisfied: python-dateutil>=2.8.2 in /usr/local/lib/python3.10/dist-packages (from pandas>=2.0.0->ortools) (2.8.2)\n",
            "Requirement already satisfied: pytz>=2020.1 in /usr/local/lib/python3.10/dist-packages (from pandas>=2.0.0->ortools) (2023.4)\n",
            "Requirement already satisfied: tzdata>=2022.1 in /usr/local/lib/python3.10/dist-packages (from pandas>=2.0.0->ortools) (2024.1)\n",
            "Requirement already satisfied: six>=1.5 in /usr/local/lib/python3.10/dist-packages (from python-dateutil>=2.8.2->pandas>=2.0.0->ortools) (1.16.0)\n",
            "Installing collected packages: protobuf, absl-py, ortools\n",
            "  Attempting uninstall: protobuf\n",
            "    Found existing installation: protobuf 3.20.3\n",
            "    Uninstalling protobuf-3.20.3:\n",
            "      Successfully uninstalled protobuf-3.20.3\n",
            "  Attempting uninstall: absl-py\n",
            "    Found existing installation: absl-py 1.4.0\n",
            "    Uninstalling absl-py-1.4.0:\n",
            "      Successfully uninstalled absl-py-1.4.0\n",
            "\u001b[31mERROR: pip's dependency resolver does not currently take into account all the packages that are installed. This behaviour is the source of the following dependency conflicts.\n",
            "cudf-cu12 24.4.1 requires protobuf<5,>=3.20, but you have protobuf 5.27.2 which is incompatible.\n",
            "google-ai-generativelanguage 0.6.4 requires protobuf!=3.20.0,!=3.20.1,!=4.21.0,!=4.21.1,!=4.21.2,!=4.21.3,!=4.21.4,!=4.21.5,<5.0.0dev,>=3.19.5, but you have protobuf 5.27.2 which is incompatible.\n",
            "google-api-core 2.11.1 requires protobuf!=3.20.0,!=3.20.1,!=4.21.0,!=4.21.1,!=4.21.2,!=4.21.3,!=4.21.4,!=4.21.5,<5.0.0.dev0,>=3.19.5, but you have protobuf 5.27.2 which is incompatible.\n",
            "google-cloud-aiplatform 1.56.0 requires protobuf!=3.20.0,!=3.20.1,!=4.21.0,!=4.21.1,!=4.21.2,!=4.21.3,!=4.21.4,!=4.21.5,<5.0.0dev,>=3.19.5, but you have protobuf 5.27.2 which is incompatible.\n",
            "google-cloud-bigquery-connection 1.12.1 requires protobuf!=3.20.0,!=3.20.1,!=4.21.0,!=4.21.1,!=4.21.2,!=4.21.3,!=4.21.4,!=4.21.5,<5.0.0dev,>=3.19.5, but you have protobuf 5.27.2 which is incompatible.\n",
            "google-cloud-bigquery-storage 2.25.0 requires protobuf!=3.20.0,!=3.20.1,!=4.21.0,!=4.21.1,!=4.21.2,!=4.21.3,!=4.21.4,!=4.21.5,<5.0.0dev,>=3.19.5, but you have protobuf 5.27.2 which is incompatible.\n",
            "google-cloud-datastore 2.15.2 requires protobuf!=3.20.0,!=3.20.1,!=4.21.0,!=4.21.1,!=4.21.2,!=4.21.3,!=4.21.4,!=4.21.5,<5.0.0dev,>=3.19.5, but you have protobuf 5.27.2 which is incompatible.\n",
            "google-cloud-firestore 2.11.1 requires protobuf!=3.20.0,!=3.20.1,!=4.21.0,!=4.21.1,!=4.21.2,!=4.21.3,!=4.21.4,!=4.21.5,<5.0.0dev,>=3.19.5, but you have protobuf 5.27.2 which is incompatible.\n",
            "google-cloud-functions 1.13.3 requires protobuf!=3.20.0,!=3.20.1,!=4.21.0,!=4.21.1,!=4.21.2,!=4.21.3,!=4.21.4,!=4.21.5,<5.0.0dev,>=3.19.5, but you have protobuf 5.27.2 which is incompatible.\n",
            "google-cloud-iam 2.15.0 requires protobuf!=3.20.0,!=3.20.1,!=4.21.0,!=4.21.1,!=4.21.2,!=4.21.3,!=4.21.4,!=4.21.5,<5.0.0dev,>=3.19.5, but you have protobuf 5.27.2 which is incompatible.\n",
            "google-cloud-language 2.13.3 requires protobuf!=3.20.0,!=3.20.1,!=4.21.0,!=4.21.1,!=4.21.2,!=4.21.3,!=4.21.4,!=4.21.5,<5.0.0dev,>=3.19.5, but you have protobuf 5.27.2 which is incompatible.\n",
            "google-cloud-resource-manager 1.12.3 requires protobuf!=3.20.0,!=3.20.1,!=4.21.0,!=4.21.1,!=4.21.2,!=4.21.3,!=4.21.4,!=4.21.5,<5.0.0dev,>=3.19.5, but you have protobuf 5.27.2 which is incompatible.\n",
            "google-cloud-translate 3.11.3 requires protobuf!=3.20.0,!=3.20.1,!=4.21.0,!=4.21.1,!=4.21.2,!=4.21.3,!=4.21.4,!=4.21.5,<5.0.0dev,>=3.19.5, but you have protobuf 5.27.2 which is incompatible.\n",
            "grpc-google-iam-v1 0.13.0 requires protobuf!=3.20.0,!=3.20.1,!=4.21.1,!=4.21.2,!=4.21.3,!=4.21.4,!=4.21.5,<5.0.0dev,>=3.19.5, but you have protobuf 5.27.2 which is incompatible.\n",
            "tensorflow 2.15.0 requires protobuf!=4.21.0,!=4.21.1,!=4.21.2,!=4.21.3,!=4.21.4,!=4.21.5,<5.0.0dev,>=3.20.3, but you have protobuf 5.27.2 which is incompatible.\n",
            "tensorflow-metadata 1.15.0 requires protobuf<4.21,>=3.20.3; python_version < \"3.11\", but you have protobuf 5.27.2 which is incompatible.\u001b[0m\u001b[31m\n",
            "\u001b[0mSuccessfully installed absl-py-2.1.0 ortools-9.10.4067 protobuf-5.27.2\n"
          ]
        }
      ],
      "source": [
        "!pip install ortools\n",
        "from ortools.sat.python import cp_model"
      ]
    },
    {
      "cell_type": "markdown",
      "source": [
        "![](data:image/jpeg;base64,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)\n",
        "\n",
        "[Link](https://matmod.ch/blog/2024/02/12/joshuas-rats-math15/) to the original problem.\n",
        "\n",
        "Joshua is a biologist. His project for this term is measuring the effects of an increase in vitamin C in the diet of 9 laboratory rats. Each rat will have a different diet supplement of 1 to 20 units. Fractions of a unit are not possible. To get the maximum value for his experiment, Joshua has decided that for any group of three rats the supplements should not be in arithmetic progression. In other words, for three rats chosen at random, the middle supplement should be different from the arithmetic middle of the biggest and the smallest supplement. Thus, if the biggest supplement is 12 and the smallest is 6, for example, the middle supplement should not be 9 (9 being the arithmetic middle of 12 and 6). Find a set of supplements that Joshua could use"
      ],
      "metadata": {
        "id": "hUMzM6_tAHIZ"
      }
    },
    {
      "cell_type": "code",
      "source": [
        "class VarArraySolutionPrinter(cp_model.CpSolverSolutionCallback):\n",
        "    \"\"\"Print intermediate solutions.\"\"\"\n",
        "\n",
        "    def __init__(self, x,z):\n",
        "        cp_model.CpSolverSolutionCallback.__init__(self)\n",
        "        self.__x = x\n",
        "        self.__z = z\n",
        "        self.__solution_count = 0\n",
        "\n",
        "\n",
        "    def on_solution_callback(self):\n",
        "        self.__solution_count += 1\n",
        "\n",
        "        print(self.__solution_count , [self.Value(self.__x[i]) for i in self.__x],\\\n",
        "             '\\t0 in differences?: {0}'.format(0 in [self.Value(self.__z[i]) for i in self.__z]))\n",
        "\n",
        "    def solution_count(self):\n",
        "        return self.__solution_count"
      ],
      "metadata": {
        "id": "6dyeOfidEwbD"
      },
      "execution_count": 76,
      "outputs": []
    },
    {
      "cell_type": "code",
      "source": [
        "from math import comb\n",
        "import itertools\n",
        "\n",
        "def SearchForAllSolutionsSampleSat():\n",
        "\n",
        "    n = 9\n",
        "    m = 20\n",
        "\n",
        "    # Creates the model and set solver\n",
        "    model = cp_model.CpModel()\n",
        "    solver = cp_model.CpSolver()\n",
        "\n",
        "    x = {i:model.NewIntVar(1, m, f\"x_{i}\") for i in range(1,n+1)}\n",
        "    y = {i:model.NewIntVar(-m, m, f\"y_{i}\") for i in range(1,comb(n,3)+1)}\n",
        "    z = {i:model.NewIntVar(1, m, f\"z_{i}\") for i in range(1,comb(n,3)+1)}\n",
        "\n",
        "    for i in range(1,n):\n",
        "     model.Add(x[i] <= x[i+1])\n",
        "\n",
        "    model.AddAllDifferent([x[i] for i in range(1,n+1)])\n",
        "\n",
        "    # For any group of 3 rats the supplements should not be in arithmetic progression\n",
        "    count = 1\n",
        "    for i,j,k in list(itertools.combinations(range(1,n+1),3)):\n",
        "      # Storing differences of any group of 3 rats\n",
        "      model.Add(y[count] == (x[k] - x[j]) - (x[j] - x[i]))\n",
        "      # Converting differences to absolute values of differences\n",
        "      model.AddAbsEquality(z[count],y[count])\n",
        "      # Constraining absolute values to positive integers\n",
        "      model.Add(z[count] >= 1)\n",
        "      count+=1\n",
        "\n",
        "    # Enumerate all solutions.\n",
        "    solver.parameters.enumerate_all_solutions = True\n",
        "\n",
        "    solution_printer = VarArraySolutionPrinter(x,z)\n",
        "\n",
        "    status = solver.Solve(model, solution_printer)\n",
        "\n",
        "    print(f\"Status = {solver.StatusName(status)}\")\n",
        "\n",
        "SearchForAllSolutionsSampleSat()"
      ],
      "metadata": {
        "id": "EOjG4X8nVoZN",
        "colab": {
          "base_uri": "https://localhost:8080/"
        },
        "outputId": "840b14b3-8ec3-43c7-ec00-15165827e5fd"
      },
      "execution_count": 77,
      "outputs": [
        {
          "output_type": "stream",
          "name": "stdout",
          "text": [
            "1 [1, 3, 6, 7, 12, 14, 15, 19, 20] \t0 in differences?: False\n",
            "2 [1, 2, 6, 7, 9, 14, 15, 18, 20] \t0 in differences?: False\n",
            "Status = OPTIMAL\n"
          ]
        }
      ]
    }
  ]
}