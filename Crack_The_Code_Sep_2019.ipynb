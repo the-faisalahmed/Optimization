{
  "nbformat": 4,
  "nbformat_minor": 0,
  "metadata": {
    "colab": {
      "provenance": [],
      "authorship_tag": "ABX9TyPNtQAPyYtG6G21cJFG0pqM",
      "include_colab_link": true
    },
    "kernelspec": {
      "name": "python3",
      "display_name": "Python 3"
    },
    "language_info": {
      "name": "python"
    }
  },
  "cells": [
    {
      "cell_type": "markdown",
      "metadata": {
        "id": "view-in-github",
        "colab_type": "text"
      },
      "source": [
        "<a href=\"https://colab.research.google.com/github/the-faisalahmed/Optimization/blob/main/Crack_The_Code_Sep_2019.ipynb\" target=\"_parent\"><img src=\"https://colab.research.google.com/assets/colab-badge.svg\" alt=\"Open In Colab\"/></a>"
      ]
    },
    {
      "cell_type": "markdown",
      "source": [
        "![](https://dmcommunity.org/wp-content/uploads/2019/08/crackthecode.png)\n",
        "\n",
        "1. 682 – one number is correct and in the correct position\n",
        "2. 645 – one number is correct but in the wrong position\n",
        "3. 206 – two numbers are correct but in the wrong positions\n",
        "4. 738 – nothing is correct\n",
        "5. 780 – one number is correct but in the wrong position."
      ],
      "metadata": {
        "id": "iH2AzHQ6KXvV"
      }
    },
    {
      "cell_type": "code",
      "execution_count": 3,
      "metadata": {
        "id": "WFQ-44R-KMlS"
      },
      "outputs": [],
      "source": [
        "%%capture\n",
        "import sys\n",
        "import os\n",
        "\n",
        "if 'google.colab' in sys.modules:\n",
        "    !pip install idaes-pse --pre\n",
        "    !idaes get-extensions --to ./bin\n",
        "    os.environ['PATH'] += ':bin'\n",
        "\n",
        "!pip install pyomo\n",
        "from pyomo.environ import *\n",
        "from pyomo.opt import SolverFactory\n",
        "from pyomo.util.infeasible import log_infeasible_constraints\n",
        "from pyomo.opt import SolverStatus\n",
        "import matplotlib.pyplot as plt\n",
        "import numpy as np\n",
        "import pandas as pd\n",
        "import itertools\n",
        "from pyomo.contrib.latex_printer import latex_printer\n"
      ]
    },
    {
      "cell_type": "code",
      "source": [
        "model = ConcreteModel()\n",
        "\n",
        "model.I = RangeSet(1,3)\n",
        "model.J = RangeSet(0,9)\n",
        "\n",
        "model.X = Var(model.I, model.J, within = Binary)\n",
        "\n",
        "def con0_rule(model,i):\n",
        "  return sum(model.X[i,j] for j in model.J) == 1\n",
        "model.con0 = Constraint(model.I, rule = con0_rule)\n",
        "\n",
        "#682 – one number is correct and in the correct position\n",
        "model.con1 = Constraint(expr = model.X[1,6] + model.X[2,8] + model.X[3,2] == 1)\n",
        "model.con11 = Constraint(expr = sum(model.X[i,6] +  model.X[i,8] + model.X[i,2] for i in model.I) == 1)\n",
        "\n",
        "#645 one number is correct but in the wrong position\n",
        "def con2_rule(model):\n",
        "  return sum(model.X[i,j] for i in model.I for j in [6,4,5]) == 1\n",
        "model.con2 = Constraint(rule = con2_rule)\n",
        "model.con22 = Constraint(expr = sum(model.X[i,6] +  model.X[i,4] + model.X[i,5] for i in model.I) == 1)\n",
        "\n",
        "\n",
        "#206 – two numbers are correct but in the wrong positions\n",
        "def con3_rule(model):\n",
        "  return sum(model.X[i,j] for i in model.I for j in [2,0,6]) == 2\n",
        "model.con3 = Constraint(rule = con3_rule)\n",
        "\n",
        "#738 – nothing is correct\n",
        "model.con4 = Constraint(expr = sum(model.X[i,j] for i in model.I for j in [7,3,8]) == 0)\n",
        "\n",
        "#780 – one number is correct but in the wrong position.\n",
        "def con5_rule(model):\n",
        "  return sum(model.X[i,j] for i in model.I for j in [7,8,0]) == 1\n",
        "model.con5 = Constraint(rule = con5_rule)\n",
        "model.con55 = Constraint(expr = sum(model.X[i,7] +  model.X[i,8] + model.X[i,0] for i in model.I) == 1)"
      ],
      "metadata": {
        "id": "rbTflyO1KXFX"
      },
      "execution_count": 63,
      "outputs": []
    },
    {
      "cell_type": "code",
      "source": [
        "model.pprint()"
      ],
      "metadata": {
        "id": "DCHHAXm-UCAq"
      },
      "execution_count": null,
      "outputs": []
    },
    {
      "cell_type": "code",
      "source": [
        "# Solve model\n",
        "opt = SolverFactory('cbc')\n",
        "result = opt.solve(model)\n",
        "\n",
        "if (result.solver.status == SolverStatus.ok) and \\\n",
        "    (result.solver.termination_condition == TerminationCondition.optimal):\n",
        "    # Do something when the solution in optimal and feasible\n",
        "    print('Solution is Optimal')\n",
        "elif (result.solver.termination_condition == TerminationCondition.infeasible):\n",
        "    # Do something when model in infeasible\n",
        "    print('Solution is Infeasible')\n",
        "else:\n",
        "        # Something else is wrong\n",
        "    print(\"Solver Status:\",  result.solver.status)\n",
        "\n",
        "# Solve time\n",
        "print('Solve Time: ', result.solver.wallclock_time)"
      ],
      "metadata": {
        "id": "VtYjtjSKKQwK",
        "colab": {
          "base_uri": "https://localhost:8080/"
        },
        "outputId": "2ecd4d6b-5f49-4193-a905-3f7612551b89"
      },
      "execution_count": 64,
      "outputs": [
        {
          "output_type": "stream",
          "name": "stdout",
          "text": [
            "Solution is Optimal\n",
            "Solve Time:  0.0\n"
          ]
        }
      ]
    },
    {
      "cell_type": "code",
      "source": [
        "x = model.X.extract_values()\n",
        "sol = {}\n",
        "for i,j in x.keys():\n",
        "  if x[i,j] > 0:\n",
        "    sol[i] = j\n",
        "\n",
        "print(\"Final Solution: {}\".format(list(sol.values())))"
      ],
      "metadata": {
        "colab": {
          "base_uri": "https://localhost:8080/"
        },
        "id": "OCIhC2s5RbDS",
        "outputId": "22c530e6-8aa0-48ba-9383-6e04bb660b5e"
      },
      "execution_count": 66,
      "outputs": [
        {
          "output_type": "stream",
          "name": "stdout",
          "text": [
            "Final Solution: [0, 5, 2]\n"
          ]
        }
      ]
    }
  ]
}