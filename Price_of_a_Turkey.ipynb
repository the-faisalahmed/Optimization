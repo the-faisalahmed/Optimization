{
  "nbformat": 4,
  "nbformat_minor": 0,
  "metadata": {
    "colab": {
      "provenance": [],
      "authorship_tag": "ABX9TyNab9yCSRCnxvlCU4Td+ZxS",
      "include_colab_link": true
    },
    "kernelspec": {
      "name": "python3",
      "display_name": "Python 3"
    },
    "language_info": {
      "name": "python"
    }
  },
  "cells": [
    {
      "cell_type": "markdown",
      "metadata": {
        "id": "view-in-github",
        "colab_type": "text"
      },
      "source": [
        "<a href=\"https://colab.research.google.com/github/the-faisalahmed/Optimization/blob/main/Price_of_a_Turkey.ipynb\" target=\"_parent\"><img src=\"https://colab.research.google.com/assets/colab-badge.svg\" alt=\"Open In Colab\"/></a>"
      ]
    },
    {
      "cell_type": "code",
      "execution_count": 1,
      "metadata": {
        "id": "WFQ-44R-KMlS"
      },
      "outputs": [],
      "source": [
        "%%capture\n",
        "import sys\n",
        "import os\n",
        "\n",
        "if 'google.colab' in sys.modules:\n",
        "    !pip install idaes-pse --pre\n",
        "    !idaes get-extensions --to ./bin\n",
        "    os.environ['PATH'] += ':bin'\n",
        "\n",
        "!pip install pyomo\n",
        "from pyomo.environ import *\n",
        "from pyomo.opt import SolverFactory\n",
        "from pyomo.util.infeasible import log_infeasible_constraints\n",
        "from pyomo.opt import SolverStatus\n",
        "import matplotlib.pyplot as plt\n",
        "import numpy as np\n",
        "import pandas as pd\n",
        "import itertools\n",
        "from pyomo.contrib.latex_printer import latex_printer\n"
      ]
    },
    {
      "cell_type": "markdown",
      "source": [
        "[Link](https://matmod.ch/blog/2024/02/04/price-of-a-turkey-math13/) to the original problem.\n",
        "\n",
        "A butcher received an invoice for a consignment of 72 turkeys, but unfortunately it was smudged and a couple of figures were unreadable. All he could read was ’?67.9?’, with the first and last figures illegible. Nevertheless, being a “puzzler”, he was able to work out the price of a turkey immediately. What was the price of one turkey?"
      ],
      "metadata": {
        "id": "UPXDzd4RAc7N"
      }
    },
    {
      "cell_type": "code",
      "source": [
        "model = ConcreteModel()\n",
        "\n",
        "model.X = Var(bounds = (1,9), within = NonNegativeIntegers)\n",
        "model.Y = Var(bounds = (1,9), within = NonNegativeIntegers)\n",
        "model.Z = Var(within = NonNegativeReals)\n",
        "\n",
        "model.con1 = Constraint(expr = model.X*100 + 67.9 + model.Y/100 == model.Z*72)"
      ],
      "metadata": {
        "id": "rbTflyO1KXFX"
      },
      "execution_count": 31,
      "outputs": []
    },
    {
      "cell_type": "code",
      "source": [
        "# Solve model\n",
        "opt = SolverFactory('bonmin')\n",
        "result = opt.solve(model)\n",
        "\n",
        "if (result.solver.status == SolverStatus.ok) and \\\n",
        "    (result.solver.termination_condition == TerminationCondition.optimal):\n",
        "    # Do something when the solution in optimal and feasible\n",
        "    print('Solution is Optimal')\n",
        "elif (result.solver.termination_condition == TerminationCondition.infeasible):\n",
        "    # Do something when model in infeasible\n",
        "    print('Solution is Infeasible')\n",
        "else:\n",
        "        # Something else is wrong\n",
        "    print(\"Solver Status:\",  result.solver.status)\n",
        "\n",
        "# Solve time\n",
        "print('Solve Time: ', result.solver.wallclock_time)"
      ],
      "metadata": {
        "id": "VtYjtjSKKQwK",
        "colab": {
          "base_uri": "https://localhost:8080/"
        },
        "outputId": "cde5bc68-8d33-41d9-cd31-f72d9b14db38"
      },
      "execution_count": 32,
      "outputs": [
        {
          "output_type": "stream",
          "name": "stdout",
          "text": [
            "Solution is Optimal\n",
            "Solve Time:  <undefined>\n"
          ]
        }
      ]
    },
    {
      "cell_type": "code",
      "source": [
        "print(\"The price per turkey (Z) is {0} \\nX = {1}, Y = {2} \\nthe final price is {3}.\" \\\n",
        "      .format(value(model.Z),value(model.X),value(model.Y),value(model.Z*72)))"
      ],
      "metadata": {
        "colab": {
          "base_uri": "https://localhost:8080/"
        },
        "id": "qG93ROfm_gDz",
        "outputId": "c38c9b1f-d576-4e07-d5ed-48704c1b277b"
      },
      "execution_count": 39,
      "outputs": [
        {
          "output_type": "stream",
          "name": "stdout",
          "text": [
            "The price per turkey is 2.3320833333333324 \n",
            "X = 1.0, Y = 1.0 \n",
            "the final price is 167.90999999999994.\n"
          ]
        }
      ]
    }
  ]
}