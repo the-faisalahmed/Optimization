{
  "nbformat": 4,
  "nbformat_minor": 0,
  "metadata": {
    "colab": {
      "provenance": [],
      "authorship_tag": "ABX9TyOvc9zTciUlfR9jpVUsXU41",
      "include_colab_link": true
    },
    "kernelspec": {
      "name": "python3",
      "display_name": "Python 3"
    },
    "language_info": {
      "name": "python"
    }
  },
  "cells": [
    {
      "cell_type": "markdown",
      "metadata": {
        "id": "view-in-github",
        "colab_type": "text"
      },
      "source": [
        "<a href=\"https://colab.research.google.com/github/the-faisalahmed/Optimization/blob/main/Price_of_a_Turkey.ipynb\" target=\"_parent\"><img src=\"https://colab.research.google.com/assets/colab-badge.svg\" alt=\"Open In Colab\"/></a>"
      ]
    },
    {
      "cell_type": "code",
      "execution_count": null,
      "metadata": {
        "id": "WFQ-44R-KMlS"
      },
      "outputs": [],
      "source": [
        "%%capture\n",
        "import sys\n",
        "import os\n",
        "\n",
        "if 'google.colab' in sys.modules:\n",
        "    !pip install idaes-pse --pre\n",
        "    !idaes get-extensions --to ./bin\n",
        "    os.environ['PATH'] += ':bin'\n",
        "\n",
        "!pip install pyomo\n",
        "from pyomo.environ import *\n",
        "from pyomo.opt import SolverFactory\n",
        "from pyomo.util.infeasible import log_infeasible_constraints\n",
        "from pyomo.opt import SolverStatus\n",
        "import matplotlib.pyplot as plt\n",
        "import numpy as np\n",
        "import pandas as pd\n",
        "import itertools\n",
        "from pyomo.contrib.latex_printer import latex_printer\n"
      ]
    },
    {
      "cell_type": "markdown",
      "source": [
        "![](data:image/png;base64,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)\n",
        "\n",
        "[Link](https://matmod.ch/blog/2024/02/04/price-of-a-turkey-math13/) to the original problem.\n",
        "\n",
        "A butcher received an invoice for a consignment of 72 turkeys, but unfortunately it was smudged and a couple of figures were unreadable. All he could read was ’?67.9?’, with the first and last figures illegible. Nevertheless, being a “puzzler”, he was able to work out the price of a turkey immediately. What was the price of one turkey?"
      ],
      "metadata": {
        "id": "UPXDzd4RAc7N"
      }
    },
    {
      "cell_type": "code",
      "source": [
        "model = ConcreteModel()\n",
        "\n",
        "model.X = Var(bounds = (1,9), within = NonNegativeIntegers)\n",
        "model.Y = Var(bounds = (1,9), within = NonNegativeIntegers)\n",
        "model.Z = Var(within = NonNegativeReals)\n",
        "\n",
        "model.con1 = Constraint(expr = model.X*100 + 67.9 + model.Y/100 == model.Z*72)"
      ],
      "metadata": {
        "id": "rbTflyO1KXFX"
      },
      "execution_count": null,
      "outputs": []
    },
    {
      "cell_type": "code",
      "source": [
        "# Solve model\n",
        "opt = SolverFactory('bonmin')\n",
        "result = opt.solve(model)\n",
        "\n",
        "if (result.solver.status == SolverStatus.ok) and \\\n",
        "    (result.solver.termination_condition == TerminationCondition.optimal):\n",
        "    # Do something when the solution in optimal and feasible\n",
        "    print('Solution is Optimal')\n",
        "elif (result.solver.termination_condition == TerminationCondition.infeasible):\n",
        "    # Do something when model in infeasible\n",
        "    print('Solution is Infeasible')\n",
        "else:\n",
        "        # Something else is wrong\n",
        "    print(\"Solver Status:\",  result.solver.status)\n",
        "\n",
        "# Solve time\n",
        "print('Solve Time: ', result.solver.wallclock_time)"
      ],
      "metadata": {
        "id": "VtYjtjSKKQwK",
        "colab": {
          "base_uri": "https://localhost:8080/"
        },
        "outputId": "cde5bc68-8d33-41d9-cd31-f72d9b14db38"
      },
      "execution_count": null,
      "outputs": [
        {
          "output_type": "stream",
          "name": "stdout",
          "text": [
            "Solution is Optimal\n",
            "Solve Time:  <undefined>\n"
          ]
        }
      ]
    },
    {
      "cell_type": "code",
      "source": [
        "print(\"The price per turkey (Z) is {0} \\nX = {1}, Y = {2} \\nthe final price is {3}.\" \\\n",
        "      .format(value(model.Z),value(model.X),value(model.Y),value(model.Z*72)))"
      ],
      "metadata": {
        "colab": {
          "base_uri": "https://localhost:8080/"
        },
        "id": "qG93ROfm_gDz",
        "outputId": "c38c9b1f-d576-4e07-d5ed-48704c1b277b"
      },
      "execution_count": null,
      "outputs": [
        {
          "output_type": "stream",
          "name": "stdout",
          "text": [
            "The price per turkey is 2.3320833333333324 \n",
            "X = 1.0, Y = 1.0 \n",
            "the final price is 167.90999999999994.\n"
          ]
        }
      ]
    }
  ]
}