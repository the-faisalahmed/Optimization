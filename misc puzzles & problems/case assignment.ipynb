{
 "cells": [
  {
   "cell_type": "code",
   "execution_count": 48,
   "metadata": {},
   "outputs": [],
   "source": [
    "from ortools.sat.python import cp_model"
   ]
  },
  {
   "cell_type": "markdown",
   "metadata": {},
   "source": [
    "# Case Assignment\n",
    "\n",
    "[Link](https://dmcommunity.org/challenge/challenge-april-2025/) to the original post.\n",
    "\n",
    "An analytical firm assigns different cases to its analysts using the following rules:\n",
    "\n",
    "- Case must be assigned to an analyst who has the same focus area as the case type\n",
    "- Analysts can not work on a new case with an amount higher than their maximum allowed case amount.\n",
    "- Analysts can not work on a new case if it puts them over their maximum total cases dollar amount\n",
    "- Analyst Levels must correspond to Case Complexity: analysts can work only on new cases with complexity between their Minimum Case Complexity and Maximum Case Complexity (inclusive) as described in the following table:\n",
    "\n",
    "![](https://dmcommunity.org/wp-content/uploads/2025/04/image-3.png)\n",
    "\n",
    "Here is the list of analysts with their current load:\n",
    "\n",
    "![](https://dmcommunity.org/wp-content/uploads/2025/04/image-8.png)\n",
    "\n",
    "Here is the list of new cases:\n",
    "\n",
    "![](https://dmcommunity.org/wp-content/uploads/2025/04/image-5.png)\n",
    "\n",
    "The firm needs to decide which analysts should be assigned to these cases. If there are multiple options, the firm prefers to minimize the overqualification when analysts are assigned to the cases below their levels. Can you create a decision service capable of addressing this and similar problems?"
   ]
  },
  {
   "cell_type": "code",
   "execution_count": 49,
   "metadata": {},
   "outputs": [],
   "source": [
    "qual_level = {\n",
    "1: {\"Min Case Complexity\": 1, \"Max Case Complexity\": 2},\n",
    "2: {\"Min Case Complexity\": 1, \"Max Case Complexity\": 2},\n",
    "3: {\"Min Case Complexity\": 1, \"Max Case Complexity\": 2},\n",
    "4: {\"Min Case Complexity\": 1, \"Max Case Complexity\": 3},\n",
    "5: {\"Min Case Complexity\": 2, \"Max Case Complexity\": 3},\n",
    "6: {\"Min Case Complexity\": 2, \"Max Case Complexity\": 4},\n",
    "7: {\"Min Case Complexity\": 2, \"Max Case Complexity\": 4},\n",
    "8: {\"Min Case Complexity\": 3, \"Max Case Complexity\": 4},\n",
    "9: {\"Min Case Complexity\": 3, \"Max Case Complexity\": 5},\n",
    "10: {\"Min Case Complexity\": 4, \"Max Case Complexity\": 5}\n",
    "}\n",
    "\n",
    "analyst = {\n",
    "\"Tim Smith\": {\"Analyst Level\": 10, \"Total $ Cases Assigned\": 35, \"Total # Cases Assigned\": 12, \"Focus Area\": [\"Technology\", \"Research\", \"Construction\"], \"Max $ Allowable Cases\": 50, \"Total $ Cases Amount\": 75},\n",
    "\"Sue Rogers\": {\"Analyst Level\": 5, \"Total $ Cases Assigned\": 5, \"Total # Cases Assigned\": 10, \"Focus Area\": [\"Technology\", \"Research\"], \"Max $ Allowable Cases\": 1, \"Total $ Cases Amount\": 7},\n",
    "\"Sam Howard\": {\"Analyst Level\": 8, \"Total $ Cases Assigned\": 19, \"Total # Cases Assigned\": 9, \"Focus Area\": [\"Research\", \"Construction\"], \"Max $ Allowable Cases\": 20, \"Total $ Cases Amount\": 20},\n",
    "\"Jill Ryan\": {\"Analyst Level\": 9, \"Total $ Cases Assigned\": 14.7, \"Total # Cases Assigned\": 10, \"Focus Area\": [\"Technology\", \"Research\", \"Construction\"], \"Max $ Allowable Cases\": 1.5, \"Total $ Cases Amount\": 25},\n",
    "\"Debbie Smith\": {\"Analyst Level\": 6, \"Total $ Cases Assigned\": 8, \"Total # Cases Assigned\": 14, \"Focus Area\": [\"Technology\", \"Research\"], \"Max $ Allowable Cases\": 10, \"Total $ Cases Amount\": 10},\n",
    "\"Debbie Bowers\": {\"Analyst Level\": 7, \"Total $ Cases Assigned\": 6, \"Total # Cases Assigned\": 8, \"Focus Area\": [\"Technology\", \"Research\"], \"Max $ Allowable Cases\": 1, \"Total $ Cases Amount\": 7.5},\n",
    "\"Kevin Jones\": {\"Analyst Level\": 4, \"Total $ Cases Assigned\": 2.8, \"Total # Cases Assigned\": 8, \"Focus Area\": [\"Technology\", \"Research\"], \"Max $ Allowable Cases\": 3, \"Total $ Cases Amount\": 3},\n",
    "\"Roger Howland\": {\"Analyst Level\": 2, \"Total $ Cases Assigned\": .85, \"Total # Cases Assigned\": 7, \"Focus Area\": [\"Construction\", \"Research\"], \"Max $ Allowable Cases\": .3, \"Total $ Cases Amount\": 1}\n",
    "}\n",
    "\n",
    "cases = {\n",
    "112: {\"Case Amount\": .05, \"Case Complexity\": 3, \"Case Type\": \"Technology\"},\n",
    "113: {\"Case Amount\": .2, \"Case Complexity\": 1, \"Case Type\": \"Technology\"},\n",
    "114: {\"Case Amount\": 1.5, \"Case Complexity\": 4, \"Case Type\": \"Construction\"},\n",
    "115: {\"Case Amount\": .3, \"Case Complexity\": 4, \"Case Type\": \"Research\"}\n",
    "}"
   ]
  },
  {
   "cell_type": "code",
   "execution_count": 50,
   "metadata": {},
   "outputs": [],
   "source": [
    "model = cp_model.CpModel()\n",
    "solver = cp_model.CpSolver()\n",
    "\n",
    "u = {(i,j): model.NewBoolVar(f'choice_{i}') for i in analyst.keys() for j in cases.keys()}\n",
    "\n",
    "for j in cases:\n",
    "    # All cases must be assigned to 1 analyst\n",
    "    model.AddExactlyOne([u[i,j] for i in analyst.keys()])\n",
    "\n",
    "    for i in analyst:\n",
    "        # All analysts must be assigned to at most 1 case in this list\n",
    "        model.AddAtMostOne([u[i,k] for k in cases.keys()])\n",
    "\n",
    "        # Cases assigned to analyst with same focus area\n",
    "        model.Add(u[i,j] == 0).OnlyEnforceIf(cases[j][\"Case Type\"] not in analyst[i][\"Focus Area\"])\n",
    "\n",
    "        # Analysts can not work on a new case with an amount higher than their maximum allowed case amount\n",
    "        model.Add(u[i,j] == 0).OnlyEnforceIf(cases[j][\"Case Amount\"] > (analyst[i][\"Max $ Allowable Cases\"]))\n",
    "\n",
    "        # Analysts can not work on a new case if it puts them over their maximum total cases dollar amount\n",
    "        model.Add(u[i,j] == 0).OnlyEnforceIf(cases[j][\"Case Amount\"] > \n",
    "                                             (analyst[i][\"Total $ Cases Amount\"] - analyst[i][\"Total $ Cases Assigned\"]))\n",
    "        \n",
    "        # Analyst Levels must correspond to Case Complexity: analysts can work only on new cases with complexity between \n",
    "        # their Minimum Case Complexity and Maximum Case Complexity (inclusive)\n",
    "        model.Add(cases[j][\"Case Complexity\"] >= qual_level[analyst[i][\"Analyst Level\"]][\"Min Case Complexity\"]).OnlyEnforceIf(u[i,j])\n",
    "        model.Add(cases[j][\"Case Complexity\"] <= qual_level[analyst[i][\"Analyst Level\"]][\"Max Case Complexity\"]).OnlyEnforceIf(u[i,j])\n",
    "\n",
    "# Minimize overqualification\n",
    "model.Minimize(sum(u[i,j]*(analyst[i][\"Analyst Level\"] - cases[j][\"Case Complexity\"]) for i in analyst for j in cases))"
   ]
  },
  {
   "cell_type": "code",
   "execution_count": 51,
   "metadata": {},
   "outputs": [
    {
     "name": "stdout",
     "output_type": "stream",
     "text": [
      "Status = OPTIMAL\n"
     ]
    },
    {
     "data": {
      "text/plain": [
       "[('Sue Rogers', 112),\n",
       " ('Jill Ryan', 114),\n",
       " ('Debbie Smith', 115),\n",
       " ('Kevin Jones', 113)]"
      ]
     },
     "execution_count": 51,
     "metadata": {},
     "output_type": "execute_result"
    }
   ],
   "source": [
    "status = solver.Solve(model)\n",
    "print(f'Status = {solver.StatusName(status)}')\n",
    "[(i,j) for i,j in u if solver.value(u[i,j]) == 1]"
   ]
  }
 ],
 "metadata": {
  "kernelspec": {
   "display_name": "Python 3",
   "language": "python",
   "name": "python3"
  },
  "language_info": {
   "codemirror_mode": {
    "name": "ipython",
    "version": 3
   },
   "file_extension": ".py",
   "mimetype": "text/x-python",
   "name": "python",
   "nbconvert_exporter": "python",
   "pygments_lexer": "ipython3",
   "version": "3.11.9"
  }
 },
 "nbformat": 4,
 "nbformat_minor": 2
}
