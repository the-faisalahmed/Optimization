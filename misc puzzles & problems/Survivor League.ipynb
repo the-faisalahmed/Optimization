{
 "cells": [
  {
   "cell_type": "code",
   "execution_count": 5,
   "metadata": {},
   "outputs": [],
   "source": [
    "import pandas as pd\n",
    "from ortools.sat.python import cp_model\n",
    "import itertools\n",
    "import copy"
   ]
  },
  {
   "cell_type": "markdown",
   "metadata": {},
   "source": [
    "A Survivor League (or Survivor Pool) in NFL is a type of elimination contest where participants pick one team each week that they believe will win their game. The goal is to remain in the pool as long as possible. Here’s how it typically works:\n",
    "\n",
    "1. One Pick per Week: Each participant selects one NFL team to win their game in a given week.\n",
    "2. Win or Eliminate: If the selected team wins, the participant survives and moves on to the next week. If the team loses (or ties, depending on the pool rules), the participant is eliminated.\n",
    "3. No Repeats: Once a team is picked, it can’t be chosen again for the rest of the season. This adds strategy, as participants need to consider future weeks when choosing which team to use.\n",
    "4. Last One Standing: The competition continues until only one person remains, who is then crowned the winner. If multiple participants make it through the entire season, tiebreakers are usually implemented, such as the total score of games in the final week.\n",
    "\n",
    "Survivor leagues are popular because of their simplicity and the strategic depth required to balance short-term gains and long-term survival.\n",
    "\n",
    "This problem looks at the 2024 NFL schedule and considers weeks 2 - 18. To get the highest probability of winning every game, I used [this link](https://www.numberfire.com/nfl/survivor-pool-matrix) that tracks each team's probability of winning per week. Next, I scale the probabilities by a factor of 10 to ensure the values are integers allowing Google's OR-Tools to implement them in our model. Finally, we are looking to maximize the overall probability of winning throughout the 18 weeks."
   ]
  },
  {
   "cell_type": "code",
   "execution_count": 6,
   "metadata": {},
   "outputs": [],
   "source": [
    "# Pulling probability table\n",
    "url = 'https://www.numberfire.com/nfl/survivor-pool-matrix'\n",
    "dfs = pd.read_html(url)\n",
    "\n",
    "# Used later\n",
    "dfs_temp = copy.copy(dfs[1])\n",
    "dfs_temp.insert(0,'Team', dfs[0])\n",
    "\n",
    "# Dataframe preprocessing\n",
    "for i in dfs[1].columns:\n",
    "    for j in range(len(dfs[1][i])):\n",
    "        dfs[1].loc[j,i] = \"\".join(itertools.takewhile(lambda x: x!=\"%\", dfs[1][i][j]));\n",
    "        if dfs[1].loc[j,i] != 'BYE':\n",
    "            dfs[1].loc[j,i] = int(float(dfs[1].loc[j,i])*10)\n",
    "\n",
    "df = pd.DataFrame(dfs[1])\n",
    "df.insert(0,'Team', dfs[0])\n",
    "\n",
    "for i in range(len(df['Team'])):\n",
    "    df.loc[i,'Team'] = df['Team'][i][-3:]\n",
    "    dfs_temp.loc[i,'Team'] = dfs_temp['Team'][i][-3:]\n",
    "\n",
    "df.set_index('Team', inplace=True)\n",
    "dfs_temp.set_index('Team', inplace=True)\n"
   ]
  },
  {
   "cell_type": "markdown",
   "metadata": {},
   "source": [
    "# Problem formulation\n",
    "Let $x_{i,j}$ be a binary decision variable defined as:\n",
    "$\n",
    "x_{i,j} = \\begin{cases} \n",
    "1 & \\text{if team } i \\text{ is assigned to week } j \\\\\n",
    "0 & \\text{otherwise}\n",
    "\\end{cases}\n",
    "$\n",
    "where $i$ indexes the teams and $j$ indexes the weeks.\n",
    "\n",
    "Maximize the overall probability of winning games throughout the 18 weeks. This is represented by: \\\n",
    "\\\n",
    "$\n",
    "\\max \\quad \\sum_{i \\in \\text{Teams}} \\sum_{j \\in \\text{Weeks}} x_{i,j} \\cdot \\text{prob}_{i,j}\n",
    "$\n",
    "\\\n",
    "where $\\text{prob}_{i,j}$ is the probability of team $i$ winning if assigned to week $j$, and $\\text{prob}_{i,j}$ is obtained from the dataframe.\n",
    "\n",
    "1. $\\textbf{Teams chosen at most once per week:}$ For each team $i$:\n",
    "\\\n",
    "$\n",
    "\\sum_{j \\in \\text{Weeks}} x_{i,j} \\leq 1\n",
    "$\n",
    "2. $\\textbf{One team per week:}$ For each week $j$:\n",
    "\\\n",
    "$\n",
    "\\sum_{i \\in \\text{Teams}} x_{i,j} = 1\n",
    "$\n",
    "\n",
    "3. $\\textbf{Handling the \"BYE\" cases:}$ If $\\text{prob}_{i,j} = \\text{BYE}$, then $x_{i,j}$ does not contribute to the objective function.\n",
    "\n",
    "\n"
   ]
  },
  {
   "cell_type": "markdown",
   "metadata": {},
   "source": [
    "## Mathematical Model\n",
    "\n",
    "\\begin{array}{lrcllr}\n",
    "    \\text{maximize }  & z & = & \\sum_{i}^{Teams} \\sum_{j}^{Weeks} {x_{i,j}} prob_{ij} & & (1) \\\\\n",
    "    \\text{subject to} &  \\sum_{i}^{Teams}  x_{i,j} & = & 1 & \\forall j \\in Weeks & (2) \\\\\n",
    "                      &  \\sum_{j}^{Weeks}  x_{i,j} & \\leq & 1 & \\forall i \\in Teams & (3) \\\\\n",
    "                      & x_{ij} &\\in &\\{0,1\\} & \\forall (i,j) \\in (Teams \\times Weeks)  & (4) \\\\\n",
    "    \\end{array}"
   ]
  },
  {
   "cell_type": "code",
   "execution_count": 7,
   "metadata": {},
   "outputs": [
    {
     "name": "stdout",
     "output_type": "stream",
     "text": [
      "Status = OPTIMAL\n",
      "Average probability of winning out: 78.9%\n"
     ]
    }
   ],
   "source": [
    "# Creates the model and set solver\n",
    "model = cp_model.CpModel()\n",
    "solver = cp_model.CpSolver()\n",
    "\n",
    "Teams = df.index\n",
    "Weeks = df.columns\n",
    "\n",
    "x = {(i,j): model.NewBoolVar(f'x_{i}_{j}') for i in Teams for j in Weeks}\n",
    "\n",
    "# Maximizing the overall probability of winning games throughout the 18 weeks\n",
    "model.Maximize(sum(x[i,j]*df.loc[i,j] for i in Teams for j in Weeks if df.loc[i,j] != 'BYE'))\n",
    "\n",
    "# One team per week\n",
    "for j in Weeks:\n",
    "    model.AddExactlyOne([x[i,j] for i in Teams if df.loc[i,j] != 'BYE'])\n",
    "\n",
    "# Teams chosen at most once \n",
    "for i in Teams:\n",
    "    model.AddAtMostOne([x[i,j] for j in Weeks if df.loc[i,j] != 'BYE'])\n",
    "\n",
    "status = solver.Solve(model)\n",
    "print(f'Status = {solver.StatusName(status)}')\n",
    "print(f'Average probability of winning out: {round(solver.ObjectiveValue()/180,1)}%')"
   ]
  },
  {
   "cell_type": "code",
   "execution_count": 8,
   "metadata": {},
   "outputs": [
    {
     "data": {
      "text/plain": [
       "['Week 2: DET defeat  TB with probability of 71.9%',\n",
       " 'Week 3:  LV defeat CAR with probability of 82.4%',\n",
       " 'Week 4:  SF defeat  NE with probability of 89.7%',\n",
       " 'Week 5: CHI defeat CAR with probability of 88.3%',\n",
       " 'Week 6: BAL defeat WSH with probability of 87.7%',\n",
       " 'Week 7: JAC defeat  NE with probability of 73.0%',\n",
       " 'Week 8: PIT defeat NYG with probability of 81.9%',\n",
       " 'Week 9: CIN defeat  LV with probability of 76.0%',\n",
       " 'Week 10:  KC defeat DEN with probability of 85.8%',\n",
       " 'Week 11: MIA defeat  LV with probability of 76.3%',\n",
       " 'Week 12: HOU defeat TEN with probability of 76.5%',\n",
       " 'Week 13: DAL defeat NYG with probability of 89.5%',\n",
       " 'Week 14: PHI defeat CAR with probability of 90.0%',\n",
       " 'Week 15:  NO defeat WSH with probability of 84.8%',\n",
       " 'Week 16: BUF defeat  NE with probability of 87.5%',\n",
       " 'Week 17:  TB defeat CAR with probability of 89.0%',\n",
       " 'Week 18: ATL defeat CAR with probability of 89.4%']"
      ]
     },
     "execution_count": 8,
     "metadata": {},
     "output_type": "execute_result"
    }
   ],
   "source": [
    "[f'Week {j}: {i} defeat {dfs_temp.loc[i][j][-3:]} with probability of {dfs_temp.loc[i][j][:5]}' for j in Weeks for i in Teams if solver.value(x[i,j]) == 1]"
   ]
  },
  {
   "cell_type": "code",
   "execution_count": 9,
   "metadata": {},
   "outputs": [],
   "source": [
    "# sol = np.reshape([solver.value(x[i,j]) if df.loc[i,j] != 'BYE' else 'BYE' for i in df.index for j in df.columns], (len(df.index),len(df.columns)))\n",
    "\n",
    "# res = pd.DataFrame.from_records(sol)\n",
    "# res.columns = list(range(2,19))\n",
    "# res.index = list(df.index)\n",
    "# res"
   ]
  }
 ],
 "metadata": {
  "kernelspec": {
   "display_name": "Python 3",
   "language": "python",
   "name": "python3"
  },
  "language_info": {
   "codemirror_mode": {
    "name": "ipython",
    "version": 3
   },
   "file_extension": ".py",
   "mimetype": "text/x-python",
   "name": "python",
   "nbconvert_exporter": "python",
   "pygments_lexer": "ipython3",
   "version": "3.11.9"
  }
 },
 "nbformat": 4,
 "nbformat_minor": 2
}
