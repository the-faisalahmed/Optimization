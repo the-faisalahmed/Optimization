{
 "cells": [
  {
   "cell_type": "code",
   "execution_count": 16,
   "metadata": {},
   "outputs": [],
   "source": [
    "from ortools.sat.python import cp_model"
   ]
  },
  {
   "cell_type": "markdown",
   "metadata": {},
   "source": [
    "# Rental Boat Optimization\n",
    "\n",
    "[Link](https://dmcommunity.org/challenge-sep-2024/) to the original post. \n",
    "\n",
    "Floataway tours has $420,000 that may be used to purchase new rental boats for hire during the summer. The boats can be purchased from two different manufacturers. Floataway tours would like to purchase at least 50 boats and would like to purchase the same number from Sleekboat as from Racer to maintain goodwill. Also, Floataway Tours wishes to have a total capacity of at least 200. Data about the boats is summarized below:\n",
    "\n",
    "![](https://dmcommunity.org/wp-content/uploads/2024/09/rentalboatsdata.png?w=465)\n",
    "\n",
    "The task is to create a decision model that will help Floataway to purchase boats while satisfying the above requirements and maximizing profit."
   ]
  },
  {
   "cell_type": "code",
   "execution_count": 17,
   "metadata": {},
   "outputs": [
    {
     "name": "stdout",
     "output_type": "stream",
     "text": [
      "Status = OPTIMAL\n",
      "Maximum expected daily profit = $5040\n",
      "1. 28 Speedhawk boat(s)\n",
      "2. 0 Slaverbird boat(s)\n",
      "3. 0 Catman boat(s)\n",
      "4. 28 Classy boat(s)\n"
     ]
    }
   ],
   "source": [
    "# Creates the model and set solver\n",
    "model = cp_model.CpModel()\n",
    "solver = cp_model.CpSolver()\n",
    "\n",
    "data = {\n",
    "'Speedhawk': {'Manufacturer': 'Sleekboat', 'Cost': 6_000, 'Seating': 3, 'EDP': 70}, \n",
    "'Slaverbird': {'Manufacturer': 'Sleekboat', 'Cost': 7_000, 'Seating': 5, 'EDP': 80}, \n",
    "'Catman': {'Manufacturer': 'Racer', 'Cost': 5_000, 'Seating': 2, 'EDP': 50}, \n",
    "'Classy': {'Manufacturer': 'Racer', 'Cost': 9_000, 'Seating': 6, 'EDP': 110}\n",
    "}\n",
    "\n",
    "budget = 420_000\n",
    "\n",
    "boat = {(i): model.NewIntVar(0,100,f'boat_{i}') for i in data}\n",
    "\n",
    "# Meet minimum boat demand\n",
    "model.Add(sum(boat[i] for i in data) >= 50)\n",
    "\n",
    "# Meet capacity demand\n",
    "model.Add(sum(boat[i]*data[i]['Seating'] for i in data) >= 200)\n",
    "\n",
    "# Same number of each boat\n",
    "model.Add(sum(boat[i] for i in data if data[i]['Manufacturer'] == 'Sleekboat') == sum(boat[i] for i in data if data[i]['Manufacturer'] == 'Racer'))\n",
    "\n",
    "# Do not exceed budget\n",
    "model.Add(sum(boat[i]*data[i]['Cost'] for i in data) <= budget)\n",
    "\n",
    "# Maximize EDP\n",
    "model.Maximize(sum(boat[i]*data[i]['EDP'] for i in data))\n",
    "\n",
    "status = solver.Solve(model)\n",
    "print(f'Status = {solver.StatusName(status)}')\n",
    "\n",
    "print(f'Maximum expected daily profit = ${int(solver.ObjectiveValue())}')\n",
    "\n",
    "count = 1\n",
    "for i in data:\n",
    "    print(f'{count}. {solver.value(boat[i])} {i} boat(s)')\n",
    "    count+=1"
   ]
  }
 ],
 "metadata": {
  "kernelspec": {
   "display_name": "Python 3",
   "language": "python",
   "name": "python3"
  },
  "language_info": {
   "codemirror_mode": {
    "name": "ipython",
    "version": 3
   },
   "file_extension": ".py",
   "mimetype": "text/x-python",
   "name": "python",
   "nbconvert_exporter": "python",
   "pygments_lexer": "ipython3",
   "version": "3.11.9"
  }
 },
 "nbformat": 4,
 "nbformat_minor": 2
}
