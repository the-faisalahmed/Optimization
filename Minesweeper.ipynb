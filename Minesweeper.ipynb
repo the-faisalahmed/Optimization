{
 "cells": [
  {
   "cell_type": "code",
   "execution_count": 1,
   "metadata": {},
   "outputs": [],
   "source": [
    "from ortools.sat.python import cp_model"
   ]
  },
  {
   "cell_type": "code",
   "execution_count": 88,
   "metadata": {},
   "outputs": [
    {
     "data": {
      "image/png": "[encoded data removed]",
      "text/plain": [
       "<Figure size 360x360 with 1 Axes>"
      ]
     },
     "metadata": {
      "needs_background": "light"
     },
     "output_type": "display_data"
    }
   ],
   "source": [
    "import matplotlib.pyplot as plt\n",
    "\n",
    "rows = cols = 10\n",
    "\n",
    "grid = [\n",
    "[-1,-1,2,-1,-1,1,-1,1,-1,-1],\n",
    "[1,-1,3,3,-1,-1,-1,-1,-1,1],   \n",
    "[1,-1,-1,-1,2,2,1,-1,1,-1],\n",
    "[-1,-1,3,-1,-1,-1,-1,1,-1,-1],\n",
    "[-1,-1,-1,-1,2,-1,1,-1,4,-1,-1],\n",
    "[1,-1,-1,2,-1,1,-1,3,-1,-1],  \n",
    "[-1,-1,-1,-1,2,1,-1,-1,3,-1],\n",
    "[1,-1,2,2,-1,1,-1,-1,-1,-1],  \n",
    "[-1,-1,-1,-1,2,3,-1,-1,-1,3],\n",
    "[-1,2,-1,-1,-1,-1,-1,3,-1,-1],  \n",
    "]\n",
    "\n",
    "color = {\n",
    "    1: 'blue',\n",
    "    2: 'green',\n",
    "    3: 'red',\n",
    "    4: 'purple',\n",
    "    5: 'yellow',\n",
    "}\n",
    "\n",
    "plt.figure(figsize=(5,5))\n",
    "for i in range(rows):\n",
    "    for j in range(cols):\n",
    "        if grid[i][j] != -1:\n",
    "            plt.scatter(j,cols-i-1, marker = 's', color = 'grey', s = 600, edgecolors='k')\n",
    "            plt.text(j-.2,cols-i-1-.2, grid[i][j], c = color[grid[i][j]], fontsize = 20, fontweight = 'bold')\n",
    "        else:\n",
    "            plt.scatter(j,cols-i-1, marker = 's', color = 'grey', s = 600, edgecolors='k')\n",
    "\n",
    "plt.axis('off');"
   ]
  },
  {
   "cell_type": "code",
   "execution_count": 86,
   "metadata": {},
   "outputs": [
    {
     "name": "stdout",
     "output_type": "stream",
     "text": [
      "Status = OPTIMAL\n"
     ]
    }
   ],
   "source": [
    "# Creates the model and set solver\n",
    "model = cp_model.CpModel()\n",
    "solver = cp_model.CpSolver()\n",
    "\n",
    "x = {(i,j): model.NewBoolVar(f\"x_{i}_{j}\") for i in range(rows) for j in range(cols)}\n",
    "\n",
    "# Coordinates of cells around a given cell, aka it's perimeter\n",
    "perimeter = [(0,1),(0,-1),(-1,0),(-1,1),(-1,-1),(1,0),(1,-1),(1,1)]\n",
    "\n",
    "# The sum of mines around each numbered spot on the grid (!=-1) is equal to that number\n",
    "for i in range(rows):\n",
    "    for j in range(cols):\n",
    "        if grid[i][j] != -1:\n",
    "            model.Add(sum(x[i+a,j+b] for (a,b) in perimeter \\\n",
    "                          if (i+a,j+b) in x.keys() and grid[i+a][j+b] == -1) == grid[i][j])\n",
    "\n",
    "status = solver.Solve(model)\n",
    "\n",
    "print(f\"Status = {solver.StatusName(status)}\")"
   ]
  },
  {
   "cell_type": "code",
   "execution_count": 89,
   "metadata": {},
   "outputs": [
    {
     "data": {
      "image/png": "[encoded data removed]",
      "text/plain": [
       "<Figure size 360x360 with 1 Axes>"
      ]
     },
     "metadata": {
      "needs_background": "light"
     },
     "output_type": "display_data"
    }
   ],
   "source": [
    "import numpy as np\n",
    "\n",
    "sol = [solver.value(x[i,j]) for (i,j) in x.keys()]\n",
    "sol = np.reshape(sol,(rows,cols))\n",
    "\n",
    "# Plotting solution\n",
    "plt.figure(figsize=(5,5))\n",
    "for i in range(rows):\n",
    "    for j in range(cols):\n",
    "        if grid[i][j] != -1:\n",
    "            plt.scatter(j,cols-i-1, marker = 's', color = 'grey', s = 600, edgecolors='k')\n",
    "            plt.text(j-.2,cols-i-1-.2, grid[i][j], c = color[grid[i][j]], fontsize = 20, fontweight = 'bold')\n",
    "        elif sol[i][j] == 1:\n",
    "            plt.scatter(j,cols-i-1, marker = 's', color = 'grey', s = 600, edgecolors='k')\n",
    "            plt.scatter(j,cols-i-1, marker = 'o', color = 'y', s = 200, edgecolors='k')\n",
    "        else:\n",
    "            plt.scatter(j,cols-i-1, marker = 's', color = 'grey', s = 600, edgecolors='k')\n",
    "\n",
    "plt.axis('off');"
   ]
  }
 ],
 "metadata": {
  "kernelspec": {
   "display_name": "base",
   "language": "python",
   "name": "python3"
  },
  "language_info": {
   "codemirror_mode": {
    "name": "ipython",
    "version": 3
   },
   "file_extension": ".py",
   "mimetype": "text/x-python",
   "name": "python",
   "nbconvert_exporter": "python",
   "pygments_lexer": "ipython3",
   "version": "3.9.12"
  }
 },
 "nbformat": 4,
 "nbformat_minor": 2
}
