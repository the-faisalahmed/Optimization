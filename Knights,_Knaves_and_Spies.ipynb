{
  "nbformat": 4,
  "nbformat_minor": 0,
  "metadata": {
    "colab": {
      "provenance": [],
      "authorship_tag": "ABX9TyNi1Jx2f71G9WB1wm7ysmBM",
      "include_colab_link": true
    },
    "kernelspec": {
      "name": "python3",
      "display_name": "Python 3"
    },
    "language_info": {
      "name": "python"
    }
  },
  "cells": [
    {
      "cell_type": "markdown",
      "metadata": {
        "id": "view-in-github",
        "colab_type": "text"
      },
      "source": [
        "<a href=\"https://colab.research.google.com/github/the-faisalahmed/Optimization/blob/main/Knights%2C_Knaves_and_Spies.ipynb\" target=\"_parent\"><img src=\"https://colab.research.google.com/assets/colab-badge.svg\" alt=\"Open In Colab\"/></a>"
      ]
    },
    {
      "cell_type": "code",
      "execution_count": 3,
      "metadata": {
        "id": "WFQ-44R-KMlS"
      },
      "outputs": [],
      "source": [
        "%%capture\n",
        "import sys\n",
        "import os\n",
        "\n",
        "if 'google.colab' in sys.modules:\n",
        "    !pip install idaes-pse --pre\n",
        "    !idaes get-extensions --to ./bin\n",
        "    os.environ['PATH'] += ':bin'"
      ]
    },
    {
      "cell_type": "markdown",
      "source": [
        "# Knights, Knaves and Spies\n",
        "\n",
        "An island has three kinds of inhabitants: knights, who always tell the truth, knaves, who always lie, and spies, who can either tell the truth or lie. You encounter three people: A, B, and C, and you know for sure that one is a knight, one is a knave, and one is a spy. Each of the three knows the type of the other two.\n",
        "\n",
        "A says, “I am a spy”.\n",
        "B says, “I am a spy”.\n",
        "C says, “B is a spy”.\n",
        "What are the types of A, B, and C?"
      ],
      "metadata": {
        "id": "aOrw95XAko_Z"
      }
    },
    {
      "cell_type": "code",
      "source": [
        "!pip install pyomo\n",
        "from pyomo.environ import *\n",
        "from pyomo.opt import SolverFactory\n",
        "from pyomo.opt import SolverStatus\n",
        "import pandas as pd"
      ],
      "metadata": {
        "id": "YtHBE65d7lQo"
      },
      "execution_count": null,
      "outputs": []
    },
    {
      "cell_type": "markdown",
      "source": [
        "# Model Formulation"
      ],
      "metadata": {
        "id": "TlGW6wDP8VJH"
      }
    },
    {
      "cell_type": "code",
      "source": [
        "model = ConcreteModel()"
      ],
      "metadata": {
        "id": "1wmPvlJ_8Wg2"
      },
      "execution_count": null,
      "outputs": []
    },
    {
      "cell_type": "markdown",
      "source": [
        "## 1. **Sets**:\n",
        "- $I = (1, 2, 3)$ where (1,2,3) represent the three given constraints\n",
        "- $J = (A, B, C)$ where (A,B,C) represents the three inhabitants"
      ],
      "metadata": {
        "id": "yyCN9hTT8GvC"
      }
    },
    {
      "cell_type": "code",
      "source": [
        "constraints = [1,2,3]\n",
        "inhabitants = ['A', 'B', 'C']"
      ],
      "metadata": {
        "id": "X0fwhGUB8DaI"
      },
      "execution_count": null,
      "outputs": []
    },
    {
      "cell_type": "markdown",
      "source": [
        "## 2. **Decision Variables**:\n",
        "- $X_{i} \\quad \\forall i \\in I$, variables tracking the truth value of each constraint\n",
        "- $Y_{j} \\quad \\forall i \\in J$, variables tracking the the location of our Spy"
      ],
      "metadata": {
        "id": "8KRmQejh8KqM"
      }
    },
    {
      "cell_type": "code",
      "source": [
        "# Truth of constraints variables\n",
        "model.X = Var(constraints, within = Boolean)\n",
        "# Determining which Y_[i] is a spy\n",
        "model.Y = Var(inhabitants, within = Boolean)"
      ],
      "metadata": {
        "id": "bjP0ga5t8P5E"
      },
      "execution_count": null,
      "outputs": []
    },
    {
      "cell_type": "markdown",
      "source": [
        "## 3. **Constraints**:\n",
        "\n",
        "    a. A says, “I am a spy”.\n",
        "    b. B says, “I am a spy”.\n",
        "    c. C says, “B is a spy”."
      ],
      "metadata": {
        "id": "0NtltsP18e4p"
      }
    },
    {
      "cell_type": "code",
      "source": [
        "# A says, “I am a spy”.\n",
        "model.con1 = Constraint(expr = model.X[1] == model.Y['A'])\n",
        "\n",
        "# B says, “I am a spy”.\n",
        "model.con2 = Constraint(expr = model.X[2] == model.Y['B'])\n",
        "\n",
        "# C says, “B is a spy”.\n",
        "model.con3 = Constraint(expr = model.X[3] == (1-model.Y['B']))"
      ],
      "metadata": {
        "id": "wOQoAGJj8fuT"
      },
      "execution_count": null,
      "outputs": []
    },
    {
      "cell_type": "markdown",
      "source": [
        "\n",
        "\n",
        "## 4. **Model**:\n",
        "\n",
        "\\begin{align}\n",
        "  && \\text{Minimize:} \\quad \\text{None} && \\\\\n",
        "  \\text{s.t.} && \\\\\n",
        "  && X[1] = Y[A] \\tag{a}\\\\\n",
        "  && X[2] = Y[B] \\tag{b}\\\\\n",
        "  && X[3] = 1-Y[B] \\tag{c}\\\\\n",
        "  && X_{i}, Y_{j} \\in \\{0,1\\} && \\forall i \\in I, \\forall j \\in J \\tag{d}\n",
        "\\end{align}\n",
        "\n",
        "Constraints (a) and (b) equate the X variable to the respective Y variable, meaning that if this statement were true, then that inhabitant would be the spy and both the X and Y values would equal 1, otherwise 0. Constraint (c) equates $X_{3}$ to the opposite of the value of $Y_{B}$, meaning either the statement is true and $X_{3} = 0, Y_{B} = 1$ or the statement is false and $X_{3} = 1, Y_{B} = 0$. Constraint (d) ensures that all these variables are binary.\n",
        "\n",
        "Note: Because we are only searching for a solution that satisfies the given constraints, there exists no true objective function to minimize/maximize."
      ],
      "metadata": {
        "id": "4JPPCxGY6TnV"
      }
    },
    {
      "cell_type": "code",
      "source": [
        "def SolveModel(model, solver):\n",
        "  # Solve model\n",
        "  opt = SolverFactory(solver)\n",
        "  result = opt.solve(model)\n",
        "\n",
        "  if (result.solver.status == SolverStatus.ok) and \\\n",
        "      (result.solver.termination_condition == TerminationCondition.optimal):\n",
        "      # Do something when the solution in optimal and feasible\n",
        "      print('Solution is Optimal')\n",
        "  elif (result.solver.termination_condition == TerminationCondition.infeasible):\n",
        "      # Do something when model in infeasible\n",
        "      print('Solution is Infeasible')\n",
        "  else:\n",
        "          # Something else is wrong\n",
        "      print(\"Solver Status:\",  result.solver.status)\n",
        "\n",
        "  # Solve time\n",
        "  print('Solve Time: ', result.solver.wallclock_time)"
      ],
      "metadata": {
        "id": "VtYjtjSKKQwK"
      },
      "execution_count": 1,
      "outputs": []
    },
    {
      "cell_type": "code",
      "source": [
        "SolveModel(model, 'cbc')"
      ],
      "metadata": {
        "id": "rbTflyO1KXFX",
        "colab": {
          "base_uri": "https://localhost:8080/"
        },
        "outputId": "6c98b849-0371-4a67-fa1a-d53d1d778413"
      },
      "execution_count": 27,
      "outputs": [
        {
          "output_type": "stream",
          "name": "stdout",
          "text": [
            "Solution is Optimal\n",
            "Solve Time:  0.0\n"
          ]
        }
      ]
    },
    {
      "cell_type": "markdown",
      "source": [
        "## 5. **Solution**:\n",
        "\n",
        "$X_1 = 0, X_2 = 1, X_3 = 0$, indicating that statement 2 (B says, \"I am a spy'\") and statement 3 (C says, \"B is a spy\") are true.\n",
        "\n",
        "$Y_A = 0, Y_B = 1, Y_C = \\text{None}$, agreeing with our X variables above.\n",
        "\n",
        "**$Y_A$ = 0 so A is our Knave, $Y_B$ = 1 so B is our Spy, leaving $Y_C$ as our Knight** (ignore the 'None' value for $Y_C$)."
      ],
      "metadata": {
        "id": "LPyvko3V7LSt"
      }
    },
    {
      "cell_type": "code",
      "source": [
        "X = pd.Series(model.X.extract_values())\n",
        "Y = pd.Series(model.Y.extract_values())\n",
        "\n",
        "print(X,Y)"
      ],
      "metadata": {
        "id": "RPmE639NE7UG",
        "colab": {
          "base_uri": "https://localhost:8080/"
        },
        "outputId": "7519a324-ec85-41da-8fde-308ecaf9f1eb"
      },
      "execution_count": 42,
      "outputs": [
        {
          "output_type": "stream",
          "name": "stdout",
          "text": [
            "1    0.0\n",
            "2    1.0\n",
            "3    0.0\n",
            "dtype: float64 A    0.0\n",
            "B    1.0\n",
            "C    NaN\n",
            "dtype: float64\n"
          ]
        }
      ]
    }
  ]
}