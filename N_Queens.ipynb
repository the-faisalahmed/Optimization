{
  "nbformat": 4,
  "nbformat_minor": 0,
  "metadata": {
    "colab": {
      "provenance": [],
      "authorship_tag": "ABX9TyMOtvyryGN/5QGiwJNEpF4Z",
      "include_colab_link": true
    },
    "kernelspec": {
      "name": "python3",
      "display_name": "Python 3"
    },
    "language_info": {
      "name": "python"
    }
  },
  "cells": [
    {
      "cell_type": "markdown",
      "metadata": {
        "id": "view-in-github",
        "colab_type": "text"
      },
      "source": [
        "<a href=\"https://colab.research.google.com/github/the-faisalahmed/Optimization/blob/main/N_Queens.ipynb\" target=\"_parent\"><img src=\"https://colab.research.google.com/assets/colab-badge.svg\" alt=\"Open In Colab\"/></a>"
      ]
    },
    {
      "cell_type": "code",
      "execution_count": 1,
      "metadata": {
        "id": "t4p2j27PILEv"
      },
      "outputs": [],
      "source": [
        "%%capture\n",
        "import sys\n",
        "import os\n",
        "\n",
        "if 'google.colab' in sys.modules:\n",
        "    !pip install idaes-pse --pre\n",
        "    !idaes get-extensions --to ./bin\n",
        "    os.environ['PATH'] += ':bin'\n",
        "\n",
        "!pip install pyomo\n",
        "from pyomo.environ import *\n",
        "from pyomo.opt import SolverFactory\n",
        "from pyomo.util.infeasible import log_infeasible_constraints\n",
        "import matplotlib.pyplot as plt\n",
        "import numpy as np\n",
        "import pandas as pd\n",
        "import itertools\n",
        "from IPython import display\n",
        "from time import sleep\n",
        "\n",
        "!pip install svgpath2mpl\n",
        "from svgpath2mpl import parse_path"
      ]
    },
    {
      "cell_type": "markdown",
      "source": [
        "# **N-Queens Problem**\n",
        "Given N queens, place all queens on an N×N chessboard in such a way that no two queens threaten each other."
      ],
      "metadata": {
        "id": "JwcQD9GN_Oqe"
      }
    },
    {
      "cell_type": "code",
      "source": [
        "\n",
        "\n",
        "path = \"\"\"\n",
        "M28.553 4.694c-1.104 0-1.998 0.895-1.998 1.999 0 0.669 0.329 1.26 0.833 1.623l-3.16\n",
        "4.962c0.673 0.357 1.132 1.064 1.132 1.879 0 1.173-0.951 2.125-2.124 2.125s-2.124-0.951-2.124-2.125c0-1.067\n",
        "0.786-1.95 1.811-2.102l-2.168-5.088c0.954-0.223 1.665-1.078 1.665-2.1 0-1.191-0.965-2.157-2.156-2.157s-2.156\n",
        "0.966-2.156 2.157c0 0.923 0.58 1.711 1.396 2.019l-2.777 4.737c0.912 0.282 1.574 1.132 1.574 2.137 0 1.235-1.001\n",
        "2.237-2.236 2.237s-2.236-1.001-2.236-2.237c0-0.946 0.587-1.754 1.416-2.081l-2.755-4.785c0.826-0.302 1.416-1.095\n",
        "1.416-2.027 0-1.191-0.965-2.157-2.156-2.157s-2.156 0.966-2.156 2.157c0 1.003 0.685 1.847 1.613 2.088l-2.204 5.112c0.99\n",
        "0.181 1.74 1.047 1.74 2.090 0 1.173-0.951 2.125-2.124 2.125s-2.124-0.951-2.124-2.125c0-0.834 0.481-1.556\n",
        "1.18-1.904l-3.17-4.943c0.5-0.363 0.825-0.952 0.825-1.617 0-1.104-0.895-1.999-1.998-1.999s-1.998\n",
        "0.895-1.998 1.999 0.895 1.999 1.998 1.999c0.046 0 0.092-0.002 0.138-0.005l2.826 15.312c-1.712 0.045-1.717\n",
        "2.507 0.048 2.507h0.415l0.004 0.020h18.364l0.004-0.020h0.475c1.718 0 1.749-2.508 0-2.508h-0.013l2.826-15.311c0.045\n",
        "0.003 0.091 0.005 0.137 0.005 1.104 0 1.998-0.895 1.998-1.999s-0.895-1.999-1.998-1.999z\n",
        "\"\"\"\n",
        "\n",
        "queen = parse_path(path)\n",
        "queen.vertices = queen.vertices*-1"
      ],
      "metadata": {
        "id": "3nWvy_2zAb67"
      },
      "execution_count": 358,
      "outputs": []
    },
    {
      "cell_type": "code",
      "source": [
        "N = 8\n",
        "\n",
        "size = 610\n",
        "\n",
        "for i,j in list(itertools.product(list(range(1,N+1)),list(range(1,N+1)))):\n",
        "  if (j % 2 == 0 and i % 2 == 0) or (j % 2 != 0 and i % 2 != 0):\n",
        "    plt.scatter(i,j,marker = 's',s=size, c=['#6B8E23'])\n",
        "  else:\n",
        "    plt.scatter(i,j,marker = 's',s=size, c=['#FFDEAD'])\n",
        "\n",
        "for i,j in list(itertools.product(list(range(1,N+1)),[1])):\n",
        "      plt.scatter(i+.26,j+.3,marker = queen,s=2000, c='w', \\\n",
        "                  edgecolors = 'k', linewidths = .5)\n",
        "\n",
        "\n",
        "plt.axis('off');\n",
        "\n",
        "plt.savefig('/content/n_queens_folder/n_queens_images%d_%s'%(0,'pic.jpg'))\n"
      ],
      "metadata": {
        "colab": {
          "base_uri": "https://localhost:8080/",
          "height": 406
        },
        "id": "JoCIa216_G9p",
        "outputId": "5cde8ed3-3b43-4587-c27f-393f1837da65"
      },
      "execution_count": 394,
      "outputs": [
        {
          "output_type": "display_data",
          "data": {
            "text/plain": [
              "<Figure size 640x480 with 1 Axes>"
            ],
            "image/png": "[encoded data removed]"
          },
          "metadata": {}
        }
      ]
    },
    {
      "cell_type": "code",
      "source": [],
      "metadata": {
        "colab": {
          "base_uri": "https://localhost:8080/"
        },
        "id": "v9rw3dY0WSgJ",
        "outputId": "8740122d-90cd-4ec2-dbfa-4a07f3163ee0"
      },
      "execution_count": 376,
      "outputs": [
        {
          "output_type": "execute_result",
          "data": {
            "text/plain": [
              "[(1, 1), (2, 1), (3, 1), (4, 1), (5, 1), (6, 1), (7, 1), (8, 1)]"
            ]
          },
          "metadata": {},
          "execution_count": 376
        }
      ]
    },
    {
      "cell_type": "code",
      "source": [
        "model = ConcreteModel()\n",
        "model.I = RangeSet(1,N)\n",
        "model.X = Var(model.I, model.I, domain = Binary)\n",
        "\n",
        "# All queens used exactly once\n",
        "model.cons1 = Constraint(expr = sum(model.X[i,j] for i,j in list(itertools.product((model.I),(model.I)))) == N)\n",
        "\n",
        "# No queens should challenge one another vertically\n",
        "def cons_rule2(model,i):\n",
        "  return sum(model.X[(i,j)] for j in model.I) <= 1\n",
        "model.cons2 = Constraint(model.I, rule = cons_rule2)\n",
        "\n",
        "# No queens should challenge one another horizontally\n",
        "def cons_rule3(model,j):\n",
        "  return sum(model.X[(i,j)] for i in model.I) <= 1\n",
        "model.cons3 = Constraint(model.I, rule = cons_rule3)\n",
        "\n",
        "# No queens should challenge one another diagonally right\n",
        "def cons_rule4(model,i,j):\n",
        "  return sum(model.X[(i+k,j+k)] for k in range(-N+1,N) \\\n",
        "             if ((i+k),(j+k)) in list(itertools.product((model.I),(model.I)))) <= 1\n",
        "model.cons4 = Constraint(model.I, model.I, rule = cons_rule4)\n",
        "\n",
        "# No queens should challenge one another diagonally left\n",
        "def cons_rule5(model,i,j):\n",
        "  return sum(model.X[(i-k,j+k)] for k in range(-N+1,N) \\\n",
        "             if ((i-k),(j+k)) in list(itertools.product((model.I),(model.I)))) <= 1\n",
        "model.cons5 = Constraint(model.I, model.I, rule = cons_rule5)\n",
        "\n",
        "model.obj = Objective(expr=1)"
      ],
      "metadata": {
        "id": "7Rla6GkZIXy1"
      },
      "execution_count": 248,
      "outputs": []
    },
    {
      "cell_type": "code",
      "source": [
        "# Solve model\n",
        "opt = SolverFactory('cbc')\n",
        "result = opt.solve(model)\n",
        "\n",
        "if (result.solver.status == SolverStatus.ok) and \\\n",
        "    (result.solver.termination_condition == TerminationCondition.optimal):\n",
        "    # Do something when the solution in optimal and feasible\n",
        "    print('Solution is Optimal')\n",
        "elif (result.solver.termination_condition == TerminationCondition.infeasible):\n",
        "    # Do something when model in infeasible\n",
        "    print('Solution is Infeasible')\n",
        "else:\n",
        "        # Something else is wrong\n",
        "    print(\"Solver Status:\",  result.solver.status)\n",
        "\n",
        "# Solve time\n",
        "print('Solve Time: ', result.solver.wallclock_time)"
      ],
      "metadata": {
        "colab": {
          "base_uri": "https://localhost:8080/"
        },
        "id": "s-XSdo9xKzR6",
        "outputId": "00c104e6-ae8d-44d9-f8d3-fa471fee8a60"
      },
      "execution_count": 249,
      "outputs": [
        {
          "output_type": "stream",
          "name": "stdout",
          "text": [
            "Solution is Optimal\n",
            "Solve Time:  0.02\n"
          ]
        }
      ]
    },
    {
      "cell_type": "code",
      "source": [
        "x_vals = pd.Series(model.X.extract_values(), name='vals')\n",
        "g = x_vals[x_vals>0]\n",
        "g\n",
        "\n",
        "# List of spaces that each queen challenges\n",
        "challenging = {}\n",
        "for i,j in g.keys():\n",
        "    # Columns challenged\n",
        "    challenging[i,j] = [[(i,k) for k in range(1,N+1) if (i,k) not in g.keys()]]\n",
        "    # Rows challenged\n",
        "    challenging[i,j].append([(k,j) for k in range(1,N+1) if (k,j) not in g.keys()])\n",
        "    # Diagonals challenged, top right bottom left\n",
        "    challenging[i,j].append([(i+k,j+k) for k in range(-N+1,N) \\\n",
        "                             if (i+k,j+k) not in g.keys() and (i+k,j+k) in list(itertools.product((model.I),(model.I)))])\n",
        "    # Diagonals challenged, bottom right top left\n",
        "    challenging[i,j].append([(i-k,j+k) for k in range(-N+1,N) \\\n",
        "                             if (i-k,j+k) not in g.keys() and (i-k,j+k) in list(itertools.product((model.I),(model.I)))])\n"
      ],
      "metadata": {
        "id": "ThTWTvQws28b"
      },
      "execution_count": 250,
      "outputs": []
    },
    {
      "cell_type": "code",
      "source": [
        "#!mkdir n_queens_folder\n",
        "\n",
        "size = 610\n",
        "marker = 10\n",
        "\n",
        "count = 0\n",
        "\n",
        "for (i,j) in challenging.keys():\n",
        "  plt.axis('off')\n",
        "\n",
        "  #Original board\n",
        "  for (a,b) in list(itertools.product((model.I),(model.I))):\n",
        "    if (a % 2 == 0 and b % 2 == 0) or (a % 2 != 0 and b % 2 != 0):\n",
        "      plt.scatter(a,b,marker = 's',s=size, c=['#6B8E23'])\n",
        "    else:\n",
        "      plt.scatter(a,b,marker = 's',s=size, c=['#FFDEAD'])\n",
        "\n",
        "  #Adding queens\n",
        "  for (a,b) in list(itertools.product((model.I),(model.I))):\n",
        "    if (a,b) in g.keys():\n",
        "      plt.scatter(a+.26,b+.3,marker = queen,s=2000, c='w', \\\n",
        "                edgecolors = 'k', linewidths = .5)\n",
        "\n",
        "  #Plotting spaces that each queen challenges\n",
        "  for k in range(len(challenging[i,j])):\n",
        "    for x in range(len(challenging[i,j][k])):\n",
        "      count+=1\n",
        "      a,b = challenging[i,j][k][x]\n",
        "      c,d = challenging[i,j][k][x]\n",
        "      plt.plot((i,a), (j,b), '-bo', markersize = marker, c = 'r', lw=2, markevery=[0])\n",
        "      plt.plot((i,c), (j,d), '-bo', markersize = marker, c = 'r', lw=2, markevery=[0])\n",
        "      display.display(plt.gcf())\n",
        "      #plt.savefig('/content/n_queens_folder/n_queens_images%d_%s'%(count,'pic.jpg'))\n",
        "      display.clear_output(wait=True)\n",
        "      sleep(0.005)\n",
        "  plt.clf()\n",
        "\n",
        "plt.show();\n",
        "\n",
        "#!zip -r /content/n_queens_images.zip /content/n_queens_folder"
      ],
      "metadata": {
        "colab": {
          "base_uri": "https://localhost:8080/",
          "height": 1000
        },
        "id": "B5sJxifyhUiU",
        "outputId": "18cb91b9-c20d-477d-f075-c1dea3f199f8"
      },
      "execution_count": 403,
      "outputs": [
        {
          "output_type": "display_data",
          "data": {
            "text/plain": [
              "<Figure size 640x480 with 0 Axes>"
            ]
          },
          "metadata": {}
        },
        {
          "output_type": "stream",
          "name": "stdout",
          "text": [
            "updating: content/n_queens_folder/ (stored 0%)\n",
            "updating: content/n_queens_folder/n_queens_images6_pic.jpg (deflated 28%)\n",
            "updating: content/n_queens_folder/n_queens_images8_pic.jpg (deflated 26%)\n",
            "updating: content/n_queens_folder/n_queens_images1_pic.jpg (deflated 29%)\n",
            "updating: content/n_queens_folder/n_queens_images3_pic.jpg (deflated 29%)\n",
            "updating: content/n_queens_folder/n_queens_images2_pic.jpg (deflated 29%)\n",
            "updating: content/n_queens_folder/n_queens_images7_pic.jpg (deflated 28%)\n",
            "updating: content/n_queens_folder/n_queens_images5_pic.jpg (deflated 28%)\n",
            "updating: content/n_queens_folder/n_queens_images4_pic.jpg (deflated 27%)\n",
            "updating: content/n_queens_folder/n_queens_images14_pic.jpg (deflated 27%)\n",
            "updating: content/n_queens_folder/n_queens_images11_pic.jpg (deflated 27%)\n",
            "updating: content/n_queens_folder/n_queens_images18_pic.jpg (deflated 25%)\n",
            "updating: content/n_queens_folder/n_queens_images24_pic.jpg (deflated 30%)\n",
            "updating: content/n_queens_folder/n_queens_images23_pic.jpg (deflated 29%)\n",
            "updating: content/n_queens_folder/n_queens_images22_pic.jpg (deflated 29%)\n",
            "updating: content/n_queens_folder/n_queens_images12_pic.jpg (deflated 27%)\n",
            "updating: content/n_queens_folder/n_queens_images20_pic.jpg (deflated 24%)\n",
            "updating: content/n_queens_folder/n_queens_images13_pic.jpg (deflated 27%)\n",
            "updating: content/n_queens_folder/n_queens_images10_pic.jpg (deflated 26%)\n",
            "updating: content/n_queens_folder/n_queens_images17_pic.jpg (deflated 25%)\n",
            "updating: content/n_queens_folder/n_queens_images19_pic.jpg (deflated 24%)\n",
            "updating: content/n_queens_folder/n_queens_images16_pic.jpg (deflated 26%)\n",
            "updating: content/n_queens_folder/n_queens_images0_pic.jpg (deflated 35%)\n",
            "updating: content/n_queens_folder/n_queens_images25_pic.jpg (deflated 29%)\n",
            "updating: content/n_queens_folder/n_queens_images9_pic.jpg (deflated 27%)\n",
            "updating: content/n_queens_folder/n_queens_images15_pic.jpg (deflated 26%)\n",
            "updating: content/n_queens_folder/n_queens_images21_pic.jpg (deflated 24%)\n",
            "  adding: content/n_queens_folder/n_queens_images124_pic.jpg (deflated 28%)\n",
            "  adding: content/n_queens_folder/n_queens_images154_pic.jpg (deflated 28%)\n",
            "  adding: content/n_queens_folder/n_queens_images104_pic.jpg (deflated 28%)\n",
            "  adding: content/n_queens_folder/n_queens_images60_pic.jpg (deflated 28%)\n",
            "  adding: content/n_queens_folder/n_queens_images96_pic.jpg (deflated 29%)\n",
            "  adding: content/n_queens_folder/n_queens_images176_pic.jpg (deflated 25%)\n",
            "  adding: content/n_queens_folder/n_queens_images53_pic.jpg (deflated 29%)\n",
            "  adding: content/n_queens_folder/n_queens_images69_pic.jpg (deflated 23%)\n",
            "  adding: content/n_queens_folder/n_queens_images173_pic.jpg (deflated 29%)\n",
            "  adding: content/n_queens_folder/n_queens_images33_pic.jpg (deflated 29%)\n",
            "  adding: content/n_queens_folder/n_queens_images78_pic.jpg (deflated 28%)\n",
            "  adding: content/n_queens_folder/n_queens_images103_pic.jpg (deflated 28%)\n",
            "  adding: content/n_queens_folder/n_queens_images162_pic.jpg (deflated 31%)\n",
            "  adding: content/n_queens_folder/n_queens_images79_pic.jpg (deflated 28%)\n",
            "  adding: content/n_queens_folder/n_queens_images56_pic.jpg (deflated 29%)\n",
            "  adding: content/n_queens_folder/n_queens_images77_pic.jpg (deflated 28%)\n",
            "  adding: content/n_queens_folder/n_queens_images119_pic.jpg (deflated 28%)\n",
            "  adding: content/n_queens_folder/n_queens_images59_pic.jpg (deflated 27%)\n",
            "  adding: content/n_queens_folder/n_queens_images138_pic.jpg (deflated 23%)\n",
            "  adding: content/n_queens_folder/n_queens_images149_pic.jpg (deflated 29%)\n",
            "  adding: content/n_queens_folder/n_queens_images55_pic.jpg (deflated 28%)\n",
            "  adding: content/n_queens_folder/n_queens_images136_pic.jpg (deflated 23%)\n",
            "  adding: content/n_queens_folder/n_queens_images61_pic.jpg (deflated 28%)\n",
            "  adding: content/n_queens_folder/n_queens_images40_pic.jpg (deflated 25%)\n",
            "  adding: content/n_queens_folder/n_queens_images75_pic.jpg (deflated 29%)\n",
            "  adding: content/n_queens_folder/n_queens_images43_pic.jpg (deflated 25%)\n",
            "  adding: content/n_queens_folder/n_queens_images76_pic.jpg (deflated 29%)\n",
            "  adding: content/n_queens_folder/n_queens_images150_pic.jpg (deflated 29%)\n",
            "  adding: content/n_queens_folder/n_queens_images83_pic.jpg (deflated 28%)\n",
            "  adding: content/n_queens_folder/n_queens_images73_pic.jpg (deflated 29%)\n",
            "  adding: content/n_queens_folder/n_queens_images129_pic.jpg (deflated 26%)\n",
            "  adding: content/n_queens_folder/n_queens_images110_pic.jpg (deflated 26%)\n",
            "  adding: content/n_queens_folder/n_queens_images44_pic.jpg (deflated 24%)\n",
            "  adding: content/n_queens_folder/n_queens_images113_pic.jpg (deflated 23%)\n",
            "  adding: content/n_queens_folder/n_queens_images101_pic.jpg (deflated 29%)\n",
            "  adding: content/n_queens_folder/n_queens_images38_pic.jpg (deflated 24%)\n",
            "  adding: content/n_queens_folder/n_queens_images57_pic.jpg (deflated 28%)\n",
            "  adding: content/n_queens_folder/n_queens_images111_pic.jpg (deflated 25%)\n",
            "  adding: content/n_queens_folder/n_queens_images175_pic.jpg (deflated 25%)\n",
            "  adding: content/n_queens_folder/n_queens_images147_pic.jpg (deflated 29%)\n",
            "  adding: content/n_queens_folder/n_queens_images36_pic.jpg (deflated 29%)\n",
            "  adding: content/n_queens_folder/n_queens_images177_pic.jpg (deflated 25%)\n",
            "  adding: content/n_queens_folder/n_queens_images120_pic.jpg (deflated 28%)\n",
            "  adding: content/n_queens_folder/n_queens_images90_pic.jpg (deflated 26%)\n",
            "  adding: content/n_queens_folder/n_queens_images132_pic.jpg (deflated 26%)\n",
            "  adding: content/n_queens_folder/n_queens_images128_pic.jpg (deflated 25%)\n",
            "  adding: content/n_queens_folder/n_queens_images141_pic.jpg (deflated 29%)\n",
            "  adding: content/n_queens_folder/n_queens_images28_pic.jpg (deflated 30%)\n",
            "  adding: content/n_queens_folder/n_queens_images26_pic.jpg (deflated 30%)\n",
            "  adding: content/n_queens_folder/n_queens_images102_pic.jpg (deflated 28%)\n",
            "  adding: content/n_queens_folder/n_queens_images27_pic.jpg (deflated 29%)\n",
            "  adding: content/n_queens_folder/n_queens_images106_pic.jpg (deflated 27%)\n",
            "  adding: content/n_queens_folder/n_queens_images163_pic.jpg (deflated 30%)\n",
            "  adding: content/n_queens_folder/n_queens_images35_pic.jpg (deflated 29%)\n",
            "  adding: content/n_queens_folder/n_queens_images123_pic.jpg (deflated 27%)\n",
            "  adding: content/n_queens_folder/n_queens_images63_pic.jpg (deflated 26%)\n",
            "  adding: content/n_queens_folder/n_queens_images135_pic.jpg (deflated 23%)\n",
            "  adding: content/n_queens_folder/n_queens_images84_pic.jpg (deflated 26%)\n",
            "  adding: content/n_queens_folder/n_queens_images93_pic.jpg (deflated 28%)\n",
            "  adding: content/n_queens_folder/n_queens_images157_pic.jpg (deflated 26%)\n",
            "  adding: content/n_queens_folder/n_queens_images116_pic.jpg (deflated 28%)\n",
            "  adding: content/n_queens_folder/n_queens_images168_pic.jpg (deflated 30%)\n",
            "  adding: content/n_queens_folder/n_queens_images29_pic.jpg (deflated 29%)\n",
            "  adding: content/n_queens_folder/n_queens_images165_pic.jpg (deflated 29%)\n",
            "  adding: content/n_queens_folder/n_queens_images117_pic.jpg (deflated 28%)\n",
            "  adding: content/n_queens_folder/n_queens_images88_pic.jpg (deflated 25%)\n",
            "  adding: content/n_queens_folder/n_queens_images47_pic.jpg (deflated 29%)\n",
            "  adding: content/n_queens_folder/n_queens_images164_pic.jpg (deflated 31%)\n",
            "  adding: content/n_queens_folder/n_queens_images87_pic.jpg (deflated 26%)\n",
            "  adding: content/n_queens_folder/n_queens_images171_pic.jpg (deflated 29%)\n",
            "  adding: content/n_queens_folder/n_queens_images99_pic.jpg (deflated 28%)\n",
            "  adding: content/n_queens_folder/n_queens_images179_pic.jpg (deflated 25%)\n",
            "  adding: content/n_queens_folder/n_queens_images151_pic.jpg (deflated 29%)\n",
            "  adding: content/n_queens_folder/n_queens_images170_pic.jpg (deflated 28%)\n",
            "  adding: content/n_queens_folder/n_queens_images127_pic.jpg (deflated 27%)\n",
            "  adding: content/n_queens_folder/n_queens_images169_pic.jpg (deflated 29%)\n",
            "  adding: content/n_queens_folder/n_queens_images82_pic.jpg (deflated 28%)\n",
            "  adding: content/n_queens_folder/n_queens_images52_pic.jpg (deflated 28%)\n",
            "  adding: content/n_queens_folder/n_queens_images114_pic.jpg (deflated 28%)\n",
            "  adding: content/n_queens_folder/n_queens_images48_pic.jpg (deflated 29%)\n",
            "  adding: content/n_queens_folder/n_queens_images178_pic.jpg (deflated 25%)\n",
            "  adding: content/n_queens_folder/n_queens_images137_pic.jpg (deflated 22%)\n",
            "  adding: content/n_queens_folder/n_queens_images145_pic.jpg (deflated 30%)\n",
            "  adding: content/n_queens_folder/n_queens_images37_pic.jpg (deflated 28%)\n",
            "  adding: content/n_queens_folder/n_queens_images174_pic.jpg (deflated 25%)\n",
            "  adding: content/n_queens_folder/n_queens_images167_pic.jpg (deflated 29%)\n",
            "  adding: content/n_queens_folder/n_queens_images133_pic.jpg (deflated 25%)\n",
            "  adding: content/n_queens_folder/n_queens_images100_pic.jpg (deflated 28%)\n",
            "  adding: content/n_queens_folder/n_queens_images54_pic.jpg (deflated 28%)\n",
            "  adding: content/n_queens_folder/n_queens_images31_pic.jpg (deflated 28%)\n",
            "  adding: content/n_queens_folder/n_queens_images30_pic.jpg (deflated 29%)\n",
            "  adding: content/n_queens_folder/n_queens_images45_pic.jpg (deflated 31%)\n",
            "  adding: content/n_queens_folder/n_queens_images98_pic.jpg (deflated 29%)\n",
            "  adding: content/n_queens_folder/n_queens_images46_pic.jpg (deflated 30%)\n",
            "  adding: content/n_queens_folder/n_queens_images172_pic.jpg (deflated 29%)\n",
            "  adding: content/n_queens_folder/n_queens_images51_pic.jpg (deflated 30%)\n",
            "  adding: content/n_queens_folder/n_queens_images156_pic.jpg (deflated 27%)\n",
            "  adding: content/n_queens_folder/n_queens_images86_pic.jpg (deflated 27%)\n",
            "  adding: content/n_queens_folder/n_queens_images50_pic.jpg (deflated 30%)\n",
            "  adding: content/n_queens_folder/n_queens_images126_pic.jpg (deflated 28%)\n",
            "  adding: content/n_queens_folder/n_queens_images152_pic.jpg (deflated 29%)\n",
            "  adding: content/n_queens_folder/n_queens_images70_pic.jpg (deflated 30%)\n",
            "  adding: content/n_queens_folder/n_queens_images94_pic.jpg (deflated 28%)\n",
            "  adding: content/n_queens_folder/n_queens_images144_pic.jpg (deflated 31%)\n",
            "  adding: content/n_queens_folder/n_queens_images49_pic.jpg (deflated 30%)\n",
            "  adding: content/n_queens_folder/n_queens_images89_pic.jpg (deflated 25%)\n",
            "  adding: content/n_queens_folder/n_queens_images155_pic.jpg (deflated 27%)\n",
            "  adding: content/n_queens_folder/n_queens_images139_pic.jpg (deflated 29%)\n",
            "  adding: content/n_queens_folder/n_queens_images85_pic.jpg (deflated 27%)\n",
            "  adding: content/n_queens_folder/n_queens_images97_pic.jpg (deflated 29%)\n",
            "  adding: content/n_queens_folder/n_queens_images118_pic.jpg (deflated 28%)\n",
            "  adding: content/n_queens_folder/n_queens_images71_pic.jpg (deflated 29%)\n",
            "  adding: content/n_queens_folder/n_queens_images32_pic.jpg (deflated 29%)\n",
            "  adding: content/n_queens_folder/n_queens_images107_pic.jpg (deflated 26%)\n",
            "  adding: content/n_queens_folder/n_queens_images64_pic.jpg (deflated 25%)\n",
            "  adding: content/n_queens_folder/n_queens_images109_pic.jpg (deflated 25%)\n",
            "  adding: content/n_queens_folder/n_queens_images34_pic.jpg (deflated 29%)\n",
            "  adding: content/n_queens_folder/n_queens_images143_pic.jpg (deflated 30%)\n",
            "  adding: content/n_queens_folder/n_queens_images158_pic.jpg (deflated 26%)\n",
            "  adding: content/n_queens_folder/n_queens_images146_pic.jpg (deflated 29%)\n",
            "  adding: content/n_queens_folder/n_queens_images131_pic.jpg (deflated 26%)\n",
            "  adding: content/n_queens_folder/n_queens_images58_pic.jpg (deflated 29%)\n",
            "  adding: content/n_queens_folder/n_queens_images72_pic.jpg (deflated 29%)\n",
            "  adding: content/n_queens_folder/n_queens_images42_pic.jpg (deflated 25%)\n",
            "  adding: content/n_queens_folder/n_queens_images148_pic.jpg (deflated 29%)\n",
            "  adding: content/n_queens_folder/n_queens_images125_pic.jpg (deflated 28%)\n",
            "  adding: content/n_queens_folder/n_queens_images159_pic.jpg (deflated 26%)\n",
            "  adding: content/n_queens_folder/n_queens_images105_pic.jpg (deflated 28%)\n",
            "  adding: content/n_queens_folder/n_queens_images130_pic.jpg (deflated 26%)\n",
            "  adding: content/n_queens_folder/n_queens_images95_pic.jpg (deflated 29%)\n",
            "  adding: content/n_queens_folder/n_queens_images166_pic.jpg (deflated 29%)\n",
            "  adding: content/n_queens_folder/n_queens_images66_pic.jpg (deflated 24%)\n",
            "  adding: content/n_queens_folder/n_queens_images67_pic.jpg (deflated 24%)\n",
            "  adding: content/n_queens_folder/n_queens_images74_pic.jpg (deflated 29%)\n",
            "  adding: content/n_queens_folder/n_queens_images108_pic.jpg (deflated 25%)\n",
            "  adding: content/n_queens_folder/n_queens_images91_pic.jpg (deflated 29%)\n",
            "  adding: content/n_queens_folder/n_queens_images153_pic.jpg (deflated 28%)\n",
            "  adding: content/n_queens_folder/n_queens_images160_pic.jpg (deflated 30%)\n",
            "  adding: content/n_queens_folder/n_queens_images80_pic.jpg (deflated 29%)\n",
            "  adding: content/n_queens_folder/n_queens_images39_pic.jpg (deflated 25%)\n",
            "  adding: content/n_queens_folder/n_queens_images161_pic.jpg (deflated 30%)\n",
            "  adding: content/n_queens_folder/n_queens_images122_pic.jpg (deflated 28%)\n",
            "  adding: content/n_queens_folder/n_queens_images140_pic.jpg (deflated 29%)\n",
            "  adding: content/n_queens_folder/n_queens_images65_pic.jpg (deflated 26%)\n",
            "  adding: content/n_queens_folder/n_queens_images112_pic.jpg (deflated 25%)\n",
            "  adding: content/n_queens_folder/n_queens_images180_pic.jpg (deflated 24%)\n",
            "  adding: content/n_queens_folder/n_queens_images62_pic.jpg (deflated 26%)\n",
            "  adding: content/n_queens_folder/n_queens_images115_pic.jpg (deflated 28%)\n",
            "  adding: content/n_queens_folder/n_queens_images142_pic.jpg (deflated 29%)\n",
            "  adding: content/n_queens_folder/n_queens_images81_pic.jpg (deflated 28%)\n",
            "  adding: content/n_queens_folder/n_queens_images134_pic.jpg (deflated 24%)\n",
            "  adding: content/n_queens_folder/n_queens_images68_pic.jpg (deflated 24%)\n",
            "  adding: content/n_queens_folder/n_queens_images121_pic.jpg (deflated 29%)\n",
            "  adding: content/n_queens_folder/n_queens_images41_pic.jpg (deflated 24%)\n",
            "  adding: content/n_queens_folder/n_queens_images92_pic.jpg (deflated 30%)\n"
          ]
        }
      ]
    },
    {
      "cell_type": "code",
      "source": [],
      "metadata": {
        "id": "9E5pNZW-Qb2l"
      },
      "execution_count": 354,
      "outputs": []
    }
  ]
}